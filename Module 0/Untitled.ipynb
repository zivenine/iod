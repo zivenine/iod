{
 "cells": [
  {
   "cell_type": "code",
   "execution_count": 1,
   "id": "99aee24c-3bad-41d9-a1d6-54187a941144",
   "metadata": {
    "tags": []
   },
   "outputs": [],
   "source": [
    "object_a = 1 + 1"
   ]
  },
  {
   "cell_type": "code",
   "execution_count": null,
   "id": "ce59e451-ef24-4124-86ad-e72952b97521",
   "metadata": {},
   "outputs": [],
   "source": []
  },
  {
   "cell_type": "markdown",
   "id": "7592c4d4-16d2-447d-8a1c-c2b2131bb526",
   "metadata": {
    "tags": []
   },
   "source": [
    "## This is a markdown heading"
   ]
  },
  {
   "cell_type": "code",
   "execution_count": null,
   "id": "4697da11-6ad6-456f-823d-c2509b426087",
   "metadata": {},
   "outputs": [],
   "source": []
  },
  {
   "cell_type": "code",
   "execution_count": null,
   "id": "49df174b-3067-4f0b-97e8-f048cb5e3cf8",
   "metadata": {},
   "outputs": [],
   "source": []
  },
  {
   "cell_type": "code",
   "execution_count": null,
   "id": "1e6f2914-8d17-4fb0-9b43-aca331feb07c",
   "metadata": {},
   "outputs": [],
   "source": []
  },
  {
   "cell_type": "code",
   "execution_count": null,
   "id": "b4c4fd29-7e36-4ced-bbbf-5bad67b6cd3f",
   "metadata": {},
   "outputs": [],
   "source": []
  },
  {
   "cell_type": "code",
   "execution_count": null,
   "id": "a3dc5f88-8751-4f85-a4d2-00bfe2d3ba71",
   "metadata": {},
   "outputs": [],
   "source": []
  }
 ],
 "metadata": {
  "kernelspec": {
   "display_name": "Python 3 (ipykernel)",
   "language": "python",
   "name": "python3"
  },
  "language_info": {
   "codemirror_mode": {
    "name": "ipython",
    "version": 3
   },
   "file_extension": ".py",
   "mimetype": "text/x-python",
   "name": "python",
   "nbconvert_exporter": "python",
   "pygments_lexer": "ipython3",
   "version": "3.11.5"
  }
 },
 "nbformat": 4,
 "nbformat_minor": 5
}
