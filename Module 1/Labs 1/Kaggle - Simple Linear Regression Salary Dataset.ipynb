{
 "cells": [
  {
   "cell_type": "markdown",
   "id": "66c5b779",
   "metadata": {
    "id": "KVhvR5JpMvIg",
    "papermill": {
     "duration": 0.0131,
     "end_time": "2023-07-25T14:04:57.557447",
     "exception": false,
     "start_time": "2023-07-25T14:04:57.544347",
     "status": "completed"
    },
    "tags": []
   },
   "source": [
    "# **Import Library and Read Data**"
   ]
  },
  {
   "cell_type": "code",
   "execution_count": 1,
   "id": "3a3c7238",
   "metadata": {
    "execution": {
     "iopub.execute_input": "2023-07-25T14:04:57.583962Z",
     "iopub.status.busy": "2023-07-25T14:04:57.583492Z",
     "iopub.status.idle": "2023-07-25T14:04:59.078850Z",
     "shell.execute_reply": "2023-07-25T14:04:59.077471Z"
    },
    "id": "xLz24RqSZD5-",
    "papermill": {
     "duration": 1.512547,
     "end_time": "2023-07-25T14:04:59.082357",
     "exception": false,
     "start_time": "2023-07-25T14:04:57.569810",
     "status": "completed"
    },
    "tags": []
   },
   "outputs": [
    {
     "name": "stderr",
     "output_type": "stream",
     "text": [
      "/opt/conda/lib/python3.10/site-packages/scipy/__init__.py:146: UserWarning: A NumPy version >=1.16.5 and <1.23.0 is required for this version of SciPy (detected version 1.23.5\n",
      "  warnings.warn(f\"A NumPy version >={np_minversion} and <{np_maxversion}\"\n"
     ]
    }
   ],
   "source": [
    "import pandas as pd\n",
    "import numpy as np\n",
    "import matplotlib.pyplot as plt\n",
    "from sklearn import linear_model\n",
    "from scipy.stats import linregress"
   ]
  },
  {
   "cell_type": "markdown",
   "id": "d783e899",
   "metadata": {
    "id": "BMuM5QeiVJMH",
    "papermill": {
     "duration": 0.012074,
     "end_time": "2023-07-25T14:04:59.107011",
     "exception": false,
     "start_time": "2023-07-25T14:04:59.094937",
     "status": "completed"
    },
    "tags": []
   },
   "source": [
    "# Explanation of each part of the code:\n",
    "\n",
    "\n",
    ">**`import pandas as pd`**: This line imports the Pandas library and gives it an alias pd. Pandas is a powerful library used for data manipulation and analysis. The alias pd is commonly used to simplify the code when calling Pandas functions.\n",
    "\n",
    ">**`import numpy as np`**: This line imports the NumPy library and gives it an alias np. NumPy is a fundamental library for numerical computing in Python, providing support for large, multi-dimensional arrays and matrices, along with mathematical functions to operate on these arrays.\n",
    "\n",
    ">**`import matplotlib.pyplot as plt`**: This line imports the pyplot module from the Matplotlib library and gives it an alias plt. Matplotlib is a widely-used library for creating visualizations in Python. The pyplot module provides a simple interface for creating various types of plots, such as line plots, bar plots, scatter plots, etc.\n",
    "\n",
    ">**`from sklearn import linear_model`**: This line imports the linear_model module from the Scikit-learn (sklearn) library. Scikit-learn is a powerful machine learning library in Python, and linear_model provides tools for linear regression and related methods.\n",
    "\n",
    "> **`from scipy.stats import linregress`**: This line imports the linregress function from the SciPy library. The linregress function is used for linear regression analysis and provides various statistics related to the regression line.\n",
    "\n",
    "\n"
   ]
  },
  {
   "cell_type": "markdown",
   "id": "61ce424a",
   "metadata": {
    "id": "6VBzm0ZYWnxc",
    "papermill": {
     "duration": 0.013539,
     "end_time": "2023-07-25T14:04:59.132832",
     "exception": false,
     "start_time": "2023-07-25T14:04:59.119293",
     "status": "completed"
    },
    "tags": []
   },
   "source": [
    " Written code in Python and uses the Pandas library to read data from a CSV (Comma-Separated Values) with file named **\"Salary_dataset.csv\"** and store it in a Pandas DataFrame named **df**\n",
    "\n"
   ]
  },
  {
   "cell_type": "code",
   "execution_count": 2,
   "id": "d1e8b708",
   "metadata": {
    "execution": {
     "iopub.execute_input": "2023-07-25T14:04:59.159751Z",
     "iopub.status.busy": "2023-07-25T14:04:59.159358Z",
     "iopub.status.idle": "2023-07-25T14:04:59.208323Z",
     "shell.execute_reply": "2023-07-25T14:04:59.207185Z"
    },
    "id": "6YzKO_Ofay5Q",
    "outputId": "5063789e-234e-42c0-9187-a34f4b052b7b",
    "papermill": {
     "duration": 0.06572,
     "end_time": "2023-07-25T14:04:59.211017",
     "exception": false,
     "start_time": "2023-07-25T14:04:59.145297",
     "status": "completed"
    },
    "tags": []
   },
   "outputs": [
    {
     "data": {
      "text/html": [
       "<div>\n",
       "<style scoped>\n",
       "    .dataframe tbody tr th:only-of-type {\n",
       "        vertical-align: middle;\n",
       "    }\n",
       "\n",
       "    .dataframe tbody tr th {\n",
       "        vertical-align: top;\n",
       "    }\n",
       "\n",
       "    .dataframe thead th {\n",
       "        text-align: right;\n",
       "    }\n",
       "</style>\n",
       "<table border=\"1\" class=\"dataframe\">\n",
       "  <thead>\n",
       "    <tr style=\"text-align: right;\">\n",
       "      <th></th>\n",
       "      <th>Unnamed: 0</th>\n",
       "      <th>YearsExperience</th>\n",
       "      <th>Salary</th>\n",
       "    </tr>\n",
       "  </thead>\n",
       "  <tbody>\n",
       "    <tr>\n",
       "      <th>0</th>\n",
       "      <td>0</td>\n",
       "      <td>1.2</td>\n",
       "      <td>39344.0</td>\n",
       "    </tr>\n",
       "    <tr>\n",
       "      <th>1</th>\n",
       "      <td>1</td>\n",
       "      <td>1.4</td>\n",
       "      <td>46206.0</td>\n",
       "    </tr>\n",
       "    <tr>\n",
       "      <th>2</th>\n",
       "      <td>2</td>\n",
       "      <td>1.6</td>\n",
       "      <td>37732.0</td>\n",
       "    </tr>\n",
       "    <tr>\n",
       "      <th>3</th>\n",
       "      <td>3</td>\n",
       "      <td>2.1</td>\n",
       "      <td>43526.0</td>\n",
       "    </tr>\n",
       "    <tr>\n",
       "      <th>4</th>\n",
       "      <td>4</td>\n",
       "      <td>2.3</td>\n",
       "      <td>39892.0</td>\n",
       "    </tr>\n",
       "    <tr>\n",
       "      <th>5</th>\n",
       "      <td>5</td>\n",
       "      <td>3.0</td>\n",
       "      <td>56643.0</td>\n",
       "    </tr>\n",
       "    <tr>\n",
       "      <th>6</th>\n",
       "      <td>6</td>\n",
       "      <td>3.1</td>\n",
       "      <td>60151.0</td>\n",
       "    </tr>\n",
       "    <tr>\n",
       "      <th>7</th>\n",
       "      <td>7</td>\n",
       "      <td>3.3</td>\n",
       "      <td>54446.0</td>\n",
       "    </tr>\n",
       "    <tr>\n",
       "      <th>8</th>\n",
       "      <td>8</td>\n",
       "      <td>3.3</td>\n",
       "      <td>64446.0</td>\n",
       "    </tr>\n",
       "    <tr>\n",
       "      <th>9</th>\n",
       "      <td>9</td>\n",
       "      <td>3.8</td>\n",
       "      <td>57190.0</td>\n",
       "    </tr>\n",
       "    <tr>\n",
       "      <th>10</th>\n",
       "      <td>10</td>\n",
       "      <td>4.0</td>\n",
       "      <td>63219.0</td>\n",
       "    </tr>\n",
       "    <tr>\n",
       "      <th>11</th>\n",
       "      <td>11</td>\n",
       "      <td>4.1</td>\n",
       "      <td>55795.0</td>\n",
       "    </tr>\n",
       "    <tr>\n",
       "      <th>12</th>\n",
       "      <td>12</td>\n",
       "      <td>4.1</td>\n",
       "      <td>56958.0</td>\n",
       "    </tr>\n",
       "    <tr>\n",
       "      <th>13</th>\n",
       "      <td>13</td>\n",
       "      <td>4.2</td>\n",
       "      <td>57082.0</td>\n",
       "    </tr>\n",
       "    <tr>\n",
       "      <th>14</th>\n",
       "      <td>14</td>\n",
       "      <td>4.6</td>\n",
       "      <td>61112.0</td>\n",
       "    </tr>\n",
       "    <tr>\n",
       "      <th>15</th>\n",
       "      <td>15</td>\n",
       "      <td>5.0</td>\n",
       "      <td>67939.0</td>\n",
       "    </tr>\n",
       "    <tr>\n",
       "      <th>16</th>\n",
       "      <td>16</td>\n",
       "      <td>5.2</td>\n",
       "      <td>66030.0</td>\n",
       "    </tr>\n",
       "    <tr>\n",
       "      <th>17</th>\n",
       "      <td>17</td>\n",
       "      <td>5.4</td>\n",
       "      <td>83089.0</td>\n",
       "    </tr>\n",
       "    <tr>\n",
       "      <th>18</th>\n",
       "      <td>18</td>\n",
       "      <td>6.0</td>\n",
       "      <td>81364.0</td>\n",
       "    </tr>\n",
       "    <tr>\n",
       "      <th>19</th>\n",
       "      <td>19</td>\n",
       "      <td>6.1</td>\n",
       "      <td>93941.0</td>\n",
       "    </tr>\n",
       "    <tr>\n",
       "      <th>20</th>\n",
       "      <td>20</td>\n",
       "      <td>6.9</td>\n",
       "      <td>91739.0</td>\n",
       "    </tr>\n",
       "    <tr>\n",
       "      <th>21</th>\n",
       "      <td>21</td>\n",
       "      <td>7.2</td>\n",
       "      <td>98274.0</td>\n",
       "    </tr>\n",
       "    <tr>\n",
       "      <th>22</th>\n",
       "      <td>22</td>\n",
       "      <td>8.0</td>\n",
       "      <td>101303.0</td>\n",
       "    </tr>\n",
       "    <tr>\n",
       "      <th>23</th>\n",
       "      <td>23</td>\n",
       "      <td>8.3</td>\n",
       "      <td>113813.0</td>\n",
       "    </tr>\n",
       "    <tr>\n",
       "      <th>24</th>\n",
       "      <td>24</td>\n",
       "      <td>8.8</td>\n",
       "      <td>109432.0</td>\n",
       "    </tr>\n",
       "    <tr>\n",
       "      <th>25</th>\n",
       "      <td>25</td>\n",
       "      <td>9.1</td>\n",
       "      <td>105583.0</td>\n",
       "    </tr>\n",
       "    <tr>\n",
       "      <th>26</th>\n",
       "      <td>26</td>\n",
       "      <td>9.6</td>\n",
       "      <td>116970.0</td>\n",
       "    </tr>\n",
       "    <tr>\n",
       "      <th>27</th>\n",
       "      <td>27</td>\n",
       "      <td>9.7</td>\n",
       "      <td>112636.0</td>\n",
       "    </tr>\n",
       "    <tr>\n",
       "      <th>28</th>\n",
       "      <td>28</td>\n",
       "      <td>10.4</td>\n",
       "      <td>122392.0</td>\n",
       "    </tr>\n",
       "    <tr>\n",
       "      <th>29</th>\n",
       "      <td>29</td>\n",
       "      <td>10.6</td>\n",
       "      <td>121873.0</td>\n",
       "    </tr>\n",
       "  </tbody>\n",
       "</table>\n",
       "</div>"
      ],
      "text/plain": [
       "    Unnamed: 0  YearsExperience    Salary\n",
       "0            0              1.2   39344.0\n",
       "1            1              1.4   46206.0\n",
       "2            2              1.6   37732.0\n",
       "3            3              2.1   43526.0\n",
       "4            4              2.3   39892.0\n",
       "5            5              3.0   56643.0\n",
       "6            6              3.1   60151.0\n",
       "7            7              3.3   54446.0\n",
       "8            8              3.3   64446.0\n",
       "9            9              3.8   57190.0\n",
       "10          10              4.0   63219.0\n",
       "11          11              4.1   55795.0\n",
       "12          12              4.1   56958.0\n",
       "13          13              4.2   57082.0\n",
       "14          14              4.6   61112.0\n",
       "15          15              5.0   67939.0\n",
       "16          16              5.2   66030.0\n",
       "17          17              5.4   83089.0\n",
       "18          18              6.0   81364.0\n",
       "19          19              6.1   93941.0\n",
       "20          20              6.9   91739.0\n",
       "21          21              7.2   98274.0\n",
       "22          22              8.0  101303.0\n",
       "23          23              8.3  113813.0\n",
       "24          24              8.8  109432.0\n",
       "25          25              9.1  105583.0\n",
       "26          26              9.6  116970.0\n",
       "27          27              9.7  112636.0\n",
       "28          28             10.4  122392.0\n",
       "29          29             10.6  121873.0"
      ]
     },
     "execution_count": 2,
     "metadata": {},
     "output_type": "execute_result"
    }
   ],
   "source": [
    "df = pd.read_csv('/kaggle/input/salary-dataset-simple-linear-regression/Salary_dataset.csv')\n",
    "df"
   ]
  },
  {
   "cell_type": "markdown",
   "id": "0c1c6719",
   "metadata": {
    "id": "x7jqtC7pXJlC",
    "papermill": {
     "duration": 0.012595,
     "end_time": "2023-07-25T14:04:59.236423",
     "exception": false,
     "start_time": "2023-07-25T14:04:59.223828",
     "status": "completed"
    },
    "tags": []
   },
   "source": [
    "# Explanation of each part of the code:\n",
    ">**`df = pd.read_csv('Salary_dataset.csv')`**:\n",
    "\n",
    "*  This line reads the CSV file named \"Salary_dataset.csv\" and stores its contents in a Pandas DataFrame named df.\n",
    "*   The read_csv() function is a Pandas function used to read data from CSV files and create DataFrames.\n",
    "\n",
    ">**`df`**: This line prints the entire DataFrame df to the output."
   ]
  },
  {
   "cell_type": "markdown",
   "id": "db82a1e4",
   "metadata": {
    "id": "6-LO36kIM4mp",
    "papermill": {
     "duration": 0.012843,
     "end_time": "2023-07-25T14:04:59.262165",
     "exception": false,
     "start_time": "2023-07-25T14:04:59.249322",
     "status": "completed"
    },
    "tags": []
   },
   "source": [
    "# **Data Preprocessing**"
   ]
  },
  {
   "cell_type": "markdown",
   "id": "8d2e484c",
   "metadata": {
    "id": "6w_UzIloYXym",
    "papermill": {
     "duration": 0.012412,
     "end_time": "2023-07-25T14:04:59.287460",
     "exception": false,
     "start_time": "2023-07-25T14:04:59.275048",
     "status": "completed"
    },
    "tags": []
   },
   "source": [
    "To obtain a concise summary of the DataFrame's information, use **`namedataframe.info()`**. It provides details such as the total number of non-null values, the data type of each column, and the memory usage. It helps to identify missing values in the DataFrame."
   ]
  },
  {
   "cell_type": "code",
   "execution_count": 3,
   "id": "c1a11d88",
   "metadata": {
    "execution": {
     "iopub.execute_input": "2023-07-25T14:04:59.315622Z",
     "iopub.status.busy": "2023-07-25T14:04:59.314504Z",
     "iopub.status.idle": "2023-07-25T14:04:59.344306Z",
     "shell.execute_reply": "2023-07-25T14:04:59.343472Z"
    },
    "id": "LThn0qrhnrY3",
    "outputId": "7dba4e70-4aec-4c81-9bcc-1894aa803996",
    "papermill": {
     "duration": 0.047109,
     "end_time": "2023-07-25T14:04:59.347424",
     "exception": false,
     "start_time": "2023-07-25T14:04:59.300315",
     "status": "completed"
    },
    "tags": []
   },
   "outputs": [
    {
     "name": "stdout",
     "output_type": "stream",
     "text": [
      "<class 'pandas.core.frame.DataFrame'>\n",
      "RangeIndex: 30 entries, 0 to 29\n",
      "Data columns (total 3 columns):\n",
      " #   Column           Non-Null Count  Dtype  \n",
      "---  ------           --------------  -----  \n",
      " 0   Unnamed: 0       30 non-null     int64  \n",
      " 1   YearsExperience  30 non-null     float64\n",
      " 2   Salary           30 non-null     float64\n",
      "dtypes: float64(2), int64(1)\n",
      "memory usage: 848.0 bytes\n"
     ]
    }
   ],
   "source": [
    "df.info()"
   ]
  },
  {
   "cell_type": "markdown",
   "id": "291ca74c",
   "metadata": {
    "id": "qw5yv6TaZvgI",
    "papermill": {
     "duration": 0.012624,
     "end_time": "2023-07-25T14:04:59.373425",
     "exception": false,
     "start_time": "2023-07-25T14:04:59.360801",
     "status": "completed"
    },
    "tags": []
   },
   "source": [
    "To know descriptive statistics for numerical columns in the DataFrame, used **`namedataframe.describe()`**. It calculates statistical measures such as :\n",
    "*   mean\n",
    "*   standard deviation\n",
    "*   minimum\n",
    "*   25th percentile (Q1)\n",
    "*   median (50th percentile or Q2)\n",
    "*   75th percentile (Q3)\n",
    "*   maximum"
   ]
  },
  {
   "cell_type": "code",
   "execution_count": 4,
   "id": "72243a20",
   "metadata": {
    "execution": {
     "iopub.execute_input": "2023-07-25T14:04:59.401288Z",
     "iopub.status.busy": "2023-07-25T14:04:59.400568Z",
     "iopub.status.idle": "2023-07-25T14:04:59.425141Z",
     "shell.execute_reply": "2023-07-25T14:04:59.424166Z"
    },
    "id": "F2tbLnC7bFV4",
    "outputId": "912a9fa7-0167-411d-a5dc-510368a30378",
    "papermill": {
     "duration": 0.041145,
     "end_time": "2023-07-25T14:04:59.427614",
     "exception": false,
     "start_time": "2023-07-25T14:04:59.386469",
     "status": "completed"
    },
    "tags": []
   },
   "outputs": [
    {
     "data": {
      "text/html": [
       "<div>\n",
       "<style scoped>\n",
       "    .dataframe tbody tr th:only-of-type {\n",
       "        vertical-align: middle;\n",
       "    }\n",
       "\n",
       "    .dataframe tbody tr th {\n",
       "        vertical-align: top;\n",
       "    }\n",
       "\n",
       "    .dataframe thead th {\n",
       "        text-align: right;\n",
       "    }\n",
       "</style>\n",
       "<table border=\"1\" class=\"dataframe\">\n",
       "  <thead>\n",
       "    <tr style=\"text-align: right;\">\n",
       "      <th></th>\n",
       "      <th>Unnamed: 0</th>\n",
       "      <th>YearsExperience</th>\n",
       "      <th>Salary</th>\n",
       "    </tr>\n",
       "  </thead>\n",
       "  <tbody>\n",
       "    <tr>\n",
       "      <th>count</th>\n",
       "      <td>30.000000</td>\n",
       "      <td>30.000000</td>\n",
       "      <td>30.000000</td>\n",
       "    </tr>\n",
       "    <tr>\n",
       "      <th>mean</th>\n",
       "      <td>14.500000</td>\n",
       "      <td>5.413333</td>\n",
       "      <td>76004.000000</td>\n",
       "    </tr>\n",
       "    <tr>\n",
       "      <th>std</th>\n",
       "      <td>8.803408</td>\n",
       "      <td>2.837888</td>\n",
       "      <td>27414.429785</td>\n",
       "    </tr>\n",
       "    <tr>\n",
       "      <th>min</th>\n",
       "      <td>0.000000</td>\n",
       "      <td>1.200000</td>\n",
       "      <td>37732.000000</td>\n",
       "    </tr>\n",
       "    <tr>\n",
       "      <th>25%</th>\n",
       "      <td>7.250000</td>\n",
       "      <td>3.300000</td>\n",
       "      <td>56721.750000</td>\n",
       "    </tr>\n",
       "    <tr>\n",
       "      <th>50%</th>\n",
       "      <td>14.500000</td>\n",
       "      <td>4.800000</td>\n",
       "      <td>65238.000000</td>\n",
       "    </tr>\n",
       "    <tr>\n",
       "      <th>75%</th>\n",
       "      <td>21.750000</td>\n",
       "      <td>7.800000</td>\n",
       "      <td>100545.750000</td>\n",
       "    </tr>\n",
       "    <tr>\n",
       "      <th>max</th>\n",
       "      <td>29.000000</td>\n",
       "      <td>10.600000</td>\n",
       "      <td>122392.000000</td>\n",
       "    </tr>\n",
       "  </tbody>\n",
       "</table>\n",
       "</div>"
      ],
      "text/plain": [
       "       Unnamed: 0  YearsExperience         Salary\n",
       "count   30.000000        30.000000      30.000000\n",
       "mean    14.500000         5.413333   76004.000000\n",
       "std      8.803408         2.837888   27414.429785\n",
       "min      0.000000         1.200000   37732.000000\n",
       "25%      7.250000         3.300000   56721.750000\n",
       "50%     14.500000         4.800000   65238.000000\n",
       "75%     21.750000         7.800000  100545.750000\n",
       "max     29.000000        10.600000  122392.000000"
      ]
     },
     "execution_count": 4,
     "metadata": {},
     "output_type": "execute_result"
    }
   ],
   "source": [
    "df.describe()"
   ]
  },
  {
   "cell_type": "markdown",
   "id": "fb6a411c",
   "metadata": {
    "id": "3DWaKCjNbBhj",
    "papermill": {
     "duration": 0.012783,
     "end_time": "2023-07-25T14:04:59.456604",
     "exception": false,
     "start_time": "2023-07-25T14:04:59.443821",
     "status": "completed"
    },
    "tags": []
   },
   "source": [
    "To know the null data (missing values), use **`namedatafranme.isnull().sum()`**"
   ]
  },
  {
   "cell_type": "code",
   "execution_count": 5,
   "id": "b603b7d0",
   "metadata": {
    "execution": {
     "iopub.execute_input": "2023-07-25T14:04:59.485186Z",
     "iopub.status.busy": "2023-07-25T14:04:59.484285Z",
     "iopub.status.idle": "2023-07-25T14:04:59.494641Z",
     "shell.execute_reply": "2023-07-25T14:04:59.493488Z"
    },
    "id": "2mhMPLAvoN8c",
    "outputId": "9bc66dcb-91d0-4f3e-b79d-803116ff1cdf",
    "papermill": {
     "duration": 0.027254,
     "end_time": "2023-07-25T14:04:59.497173",
     "exception": false,
     "start_time": "2023-07-25T14:04:59.469919",
     "status": "completed"
    },
    "tags": []
   },
   "outputs": [
    {
     "data": {
      "text/plain": [
       "Unnamed: 0         0\n",
       "YearsExperience    0\n",
       "Salary             0\n",
       "dtype: int64"
      ]
     },
     "execution_count": 5,
     "metadata": {},
     "output_type": "execute_result"
    }
   ],
   "source": [
    "df.isnull().sum()"
   ]
  },
  {
   "cell_type": "markdown",
   "id": "34725a54",
   "metadata": {
    "id": "uDQJhcCObgZd",
    "papermill": {
     "duration": 0.013005,
     "end_time": "2023-07-25T14:04:59.523691",
     "exception": false,
     "start_time": "2023-07-25T14:04:59.510686",
     "status": "completed"
    },
    "tags": []
   },
   "source": [
    "# Explanation of each part of the code:\n",
    "\n",
    "**`(df.isnull().sum())`**\n",
    "\n",
    ">**`df.isnull()`**: This checks for null (missing) values in the DataFrame df and creates a DataFrame of the same shape as df, where each element is a boolean value indicating whether the corresponding element in df is null or not.\n",
    "\n",
    ">**`.sum()`**: After applying df.isnull(), the sum() function is used to calculate the total number of null values in each column. This will provide the count of null values for each column in the DataFrame df"
   ]
  },
  {
   "cell_type": "markdown",
   "id": "96c61cd5",
   "metadata": {
    "id": "xzSq756pcbgt",
    "papermill": {
     "duration": 0.012959,
     "end_time": "2023-07-25T14:04:59.550035",
     "exception": false,
     "start_time": "2023-07-25T14:04:59.537076",
     "status": "completed"
    },
    "tags": []
   },
   "source": [
    "To know the duplicate data, use **`namedatafranme.duplicated().sum()`**"
   ]
  },
  {
   "cell_type": "code",
   "execution_count": 6,
   "id": "4b07978a",
   "metadata": {
    "execution": {
     "iopub.execute_input": "2023-07-25T14:04:59.578378Z",
     "iopub.status.busy": "2023-07-25T14:04:59.577966Z",
     "iopub.status.idle": "2023-07-25T14:04:59.588444Z",
     "shell.execute_reply": "2023-07-25T14:04:59.587193Z"
    },
    "id": "WWUr-sEPocZp",
    "outputId": "09f8ca1d-4027-41e1-b07e-254cc64868f4",
    "papermill": {
     "duration": 0.027215,
     "end_time": "2023-07-25T14:04:59.590706",
     "exception": false,
     "start_time": "2023-07-25T14:04:59.563491",
     "status": "completed"
    },
    "tags": []
   },
   "outputs": [
    {
     "data": {
      "text/plain": [
       "0"
      ]
     },
     "execution_count": 6,
     "metadata": {},
     "output_type": "execute_result"
    }
   ],
   "source": [
    "duplicate_rows = df.duplicated()\n",
    "duplicate_rows.sum()"
   ]
  },
  {
   "cell_type": "markdown",
   "id": "fde2040d",
   "metadata": {
    "id": "PCT3H7KCcvJ0",
    "papermill": {
     "duration": 0.013001,
     "end_time": "2023-07-25T14:04:59.617488",
     "exception": false,
     "start_time": "2023-07-25T14:04:59.604487",
     "status": "completed"
    },
    "tags": []
   },
   "source": [
    "# Explanation of each part of the code:\n",
    "\n",
    "**`(duplicate_rows = df.duplicated())`**\n",
    "\n",
    ">**`df.duplicated()`**: This checks duplicate rows in the DataFrame df and creates a new Series with boolean values, where each element represents whether the corresponding row is a duplicate (True) or not (False).\n",
    "\n",
    ">**`.sum()`**: After applying df.duplicated(), the sum() function is used to calculate the total number of duplicate rows in the DataFrame. This will provide the count of duplicate rows in the DataFrame df."
   ]
  },
  {
   "cell_type": "markdown",
   "id": "4e7e6c9c",
   "metadata": {
    "id": "ueAR3EbXf_bh",
    "papermill": {
     "duration": 0.013041,
     "end_time": "2023-07-25T14:04:59.643974",
     "exception": false,
     "start_time": "2023-07-25T14:04:59.630933",
     "status": "completed"
    },
    "tags": []
   },
   "source": [
    "To delete the useless column, use **`namedataframe.drop(columns='namecolumn'))`**."
   ]
  },
  {
   "cell_type": "code",
   "execution_count": 7,
   "id": "5b74add6",
   "metadata": {
    "execution": {
     "iopub.execute_input": "2023-07-25T14:04:59.673396Z",
     "iopub.status.busy": "2023-07-25T14:04:59.672549Z",
     "iopub.status.idle": "2023-07-25T14:04:59.678073Z",
     "shell.execute_reply": "2023-07-25T14:04:59.677207Z"
    },
    "id": "c-CrCUeno-yZ",
    "papermill": {
     "duration": 0.022931,
     "end_time": "2023-07-25T14:04:59.680456",
     "exception": false,
     "start_time": "2023-07-25T14:04:59.657525",
     "status": "completed"
    },
    "tags": []
   },
   "outputs": [],
   "source": [
    "df = df.drop(columns= 'Unnamed: 0')"
   ]
  },
  {
   "cell_type": "markdown",
   "id": "1333f893",
   "metadata": {
    "id": "fhtWJbLggcrw",
    "papermill": {
     "duration": 0.012984,
     "end_time": "2023-07-25T14:04:59.707729",
     "exception": false,
     "start_time": "2023-07-25T14:04:59.694745",
     "status": "completed"
    },
    "tags": []
   },
   "source": [
    "# Explanation of each part of the code:\n",
    "\n",
    "**`df = df.drop(columns='Unnamed: 0')`**\n",
    "\n",
    "> **`df.drop(columns='Unnamed: 0')`**: This removes the column with the label 'Unnamed: 0' from the DataFrame df and assigns the updated DataFrame back to the variable df.\n",
    "\n",
    ">The '**Unnamed: 0**' column is considered useless, so it is dropped from the DataFrame."
   ]
  },
  {
   "cell_type": "markdown",
   "id": "02d8a517",
   "metadata": {
    "id": "yakd9-OGhQC1",
    "papermill": {
     "duration": 0.013069,
     "end_time": "2023-07-25T14:04:59.734348",
     "exception": false,
     "start_time": "2023-07-25T14:04:59.721279",
     "status": "completed"
    },
    "tags": []
   },
   "source": [
    "To display First n rows, use **`namedataframe.head(n)`**.\n",
    "\n",
    "\n"
   ]
  },
  {
   "cell_type": "code",
   "execution_count": 8,
   "id": "823888c3",
   "metadata": {
    "execution": {
     "iopub.execute_input": "2023-07-25T14:04:59.763065Z",
     "iopub.status.busy": "2023-07-25T14:04:59.762374Z",
     "iopub.status.idle": "2023-07-25T14:04:59.774327Z",
     "shell.execute_reply": "2023-07-25T14:04:59.773435Z"
    },
    "id": "uZgmq3Qxpfou",
    "outputId": "27a3c2a9-d5ed-44aa-8f6f-1b6d184cf4d2",
    "papermill": {
     "duration": 0.028797,
     "end_time": "2023-07-25T14:04:59.776561",
     "exception": false,
     "start_time": "2023-07-25T14:04:59.747764",
     "status": "completed"
    },
    "tags": []
   },
   "outputs": [
    {
     "data": {
      "text/html": [
       "<div>\n",
       "<style scoped>\n",
       "    .dataframe tbody tr th:only-of-type {\n",
       "        vertical-align: middle;\n",
       "    }\n",
       "\n",
       "    .dataframe tbody tr th {\n",
       "        vertical-align: top;\n",
       "    }\n",
       "\n",
       "    .dataframe thead th {\n",
       "        text-align: right;\n",
       "    }\n",
       "</style>\n",
       "<table border=\"1\" class=\"dataframe\">\n",
       "  <thead>\n",
       "    <tr style=\"text-align: right;\">\n",
       "      <th></th>\n",
       "      <th>YearsExperience</th>\n",
       "      <th>Salary</th>\n",
       "    </tr>\n",
       "  </thead>\n",
       "  <tbody>\n",
       "    <tr>\n",
       "      <th>0</th>\n",
       "      <td>1.2</td>\n",
       "      <td>39344.0</td>\n",
       "    </tr>\n",
       "    <tr>\n",
       "      <th>1</th>\n",
       "      <td>1.4</td>\n",
       "      <td>46206.0</td>\n",
       "    </tr>\n",
       "    <tr>\n",
       "      <th>2</th>\n",
       "      <td>1.6</td>\n",
       "      <td>37732.0</td>\n",
       "    </tr>\n",
       "    <tr>\n",
       "      <th>3</th>\n",
       "      <td>2.1</td>\n",
       "      <td>43526.0</td>\n",
       "    </tr>\n",
       "    <tr>\n",
       "      <th>4</th>\n",
       "      <td>2.3</td>\n",
       "      <td>39892.0</td>\n",
       "    </tr>\n",
       "  </tbody>\n",
       "</table>\n",
       "</div>"
      ],
      "text/plain": [
       "   YearsExperience   Salary\n",
       "0              1.2  39344.0\n",
       "1              1.4  46206.0\n",
       "2              1.6  37732.0\n",
       "3              2.1  43526.0\n",
       "4              2.3  39892.0"
      ]
     },
     "execution_count": 8,
     "metadata": {},
     "output_type": "execute_result"
    }
   ],
   "source": [
    "df.head(5)"
   ]
  },
  {
   "cell_type": "markdown",
   "id": "d0c54941",
   "metadata": {
    "id": "mMQ0rfG9hpTR",
    "papermill": {
     "duration": 0.013829,
     "end_time": "2023-07-25T14:04:59.804118",
     "exception": false,
     "start_time": "2023-07-25T14:04:59.790289",
     "status": "completed"
    },
    "tags": []
   },
   "source": [
    "#Explanation of each part of the code:\n",
    "\n",
    "**`df.head(5)`** displays the first 5 rows of the DataFrame **df**, allowing you to visually inspect the data and verify if the operations (null data checking, duplicate data checking, and column removal) were successful."
   ]
  },
  {
   "cell_type": "markdown",
   "id": "c36b4834",
   "metadata": {
    "id": "aXNvMx_4MJUl",
    "papermill": {
     "duration": 0.013339,
     "end_time": "2023-07-25T14:04:59.831176",
     "exception": false,
     "start_time": "2023-07-25T14:04:59.817837",
     "status": "completed"
    },
    "tags": []
   },
   "source": [
    "#**Data Visualization**"
   ]
  },
  {
   "cell_type": "markdown",
   "id": "341875b8",
   "metadata": {
    "id": "Y-F5QjnMiMVE",
    "papermill": {
     "duration": 0.013331,
     "end_time": "2023-07-25T14:04:59.858335",
     "exception": false,
     "start_time": "2023-07-25T14:04:59.845004",
     "status": "completed"
    },
    "tags": []
   },
   "source": [
    "To get an overview of the data, visualize the data using boxplots and histograms. The purpose of creating boxplots and histograms is to visualize the distribution of each variable."
   ]
  },
  {
   "cell_type": "code",
   "execution_count": 9,
   "id": "99dae0d4",
   "metadata": {
    "execution": {
     "iopub.execute_input": "2023-07-25T14:04:59.888077Z",
     "iopub.status.busy": "2023-07-25T14:04:59.887319Z",
     "iopub.status.idle": "2023-07-25T14:05:00.302240Z",
     "shell.execute_reply": "2023-07-25T14:05:00.300804Z"
    },
    "id": "oaOJYFLrqGnJ",
    "outputId": "e8daed05-0c43-4825-bff1-acc4ad7a33a6",
    "papermill": {
     "duration": 0.432686,
     "end_time": "2023-07-25T14:05:00.304802",
     "exception": false,
     "start_time": "2023-07-25T14:04:59.872116",
     "status": "completed"
    },
    "tags": []
   },
   "outputs": [
    {
     "data": {
      "image/png": "[encoded data removed]",
      "text/plain": [
       "<Figure size 1000x500 with 2 Axes>"
      ]
     },
     "metadata": {},
     "output_type": "display_data"
    }
   ],
   "source": [
    "# Make a figure dan axes to show the plot\n",
    "fig, axes = plt.subplots(nrows=1, ncols=2, figsize=(10, 5))\n",
    "\n",
    "# Make a box plot for YearsExperience in the first axes\n",
    "axes[0].boxplot(df['YearsExperience'])\n",
    "axes[0].set_title('Box Plot of YearsExperience')\n",
    "axes[0].set_xticklabels([''])\n",
    "\n",
    "# Make a box plot untuk Salary in the second axes\n",
    "axes[1].boxplot(df['Salary'])\n",
    "axes[1].set_title('Box Plot of Salary')\n",
    "axes[1].set_xticklabels([''])\n",
    "\n",
    "# show the plot\n",
    "plt.show()"
   ]
  },
  {
   "cell_type": "markdown",
   "id": "5a690a6f",
   "metadata": {
    "id": "b92Y1FzJvopi",
    "papermill": {
     "duration": 0.013739,
     "end_time": "2023-07-25T14:05:00.332829",
     "exception": false,
     "start_time": "2023-07-25T14:05:00.319090",
     "status": "completed"
    },
    "tags": []
   },
   "source": [
    "#Explanation of each part of the code:\n",
    "\n",
    "> **`fig, axes = plt.subplots(nrows=1, ncols=2, figsize=(10, 5))`** : This line initializes a figure (fig) and a pair of subplots (axes) with 1 row and 2 columns. It sets the figure size to be 10 units wide and 5 units tall.\n",
    "\n",
    "> **`axes[0].boxplot(df['YearsExperience'])`**: This creates the\n",
    "first box plot on the left subplot (axes[0]) using the data from\n",
    "the 'YearsExperience' column of the df dataframe.\n",
    "\n",
    "> **`axes[0].set_title('Box Plot of YearsExperience')`**: This sets the title of the left subplot as \"Box Plot of YearsExperience\".\n",
    "\n",
    "> **`axes[0].set_xticklabels([''])`**: This line sets the x-axis tick labels of the left subplot to be an empty list, effectively hiding the tick labels. This is done to remove the numeric values on the x-axis.\n",
    "\n",
    "> **`axes[1].boxplot(df['Salary'])`**: This creates the second box plot on the right subplot (axes[1]) using the data from the 'Salary' column of the df dataframe.\n",
    "\n",
    "> **`axes[1].set_title('Box Plot of Salary')`**: This sets the title of the right subplot as \"Box Plot of Salary\".\n",
    "\n",
    "> **`axes[1].set_xticklabels([''])`**: This line sets the x-axis tick labels of the right subplot to be an empty list, effectively hiding the tick labels. This is done to remove the numeric values on the x-axis.\n",
    "\n",
    "> **`plt.show()`**: This line displays the side-by-side box plots in the figure.\n",
    "\n",
    "**NOTE:**\n",
    "\n",
    "*   axes[0] for YearsExperience.\n",
    "*   axes[1] for Salary.\n",
    "\n",
    "\n"
   ]
  },
  {
   "cell_type": "code",
   "execution_count": 10,
   "id": "a5c534ef",
   "metadata": {
    "execution": {
     "iopub.execute_input": "2023-07-25T14:05:00.363270Z",
     "iopub.status.busy": "2023-07-25T14:05:00.362308Z",
     "iopub.status.idle": "2023-07-25T14:05:00.970113Z",
     "shell.execute_reply": "2023-07-25T14:05:00.968916Z"
    },
    "id": "By6b-JLlrvMD",
    "outputId": "b1c025db-f4aa-4e92-df09-f7b632892bb6",
    "papermill": {
     "duration": 0.625849,
     "end_time": "2023-07-25T14:05:00.972818",
     "exception": false,
     "start_time": "2023-07-25T14:05:00.346969",
     "status": "completed"
    },
    "tags": []
   },
   "outputs": [
    {
     "data": {
      "image/png": "[encoded data removed]",
      "text/plain": [
       "<Figure size 640x480 with 1 Axes>"
      ]
     },
     "metadata": {},
     "output_type": "display_data"
    },
    {
     "data": {
      "image/png": "[encoded data removed]",
      "text/plain": [
       "<Figure size 640x480 with 1 Axes>"
      ]
     },
     "metadata": {},
     "output_type": "display_data"
    }
   ],
   "source": [
    "# Histogram of YearsExperience\n",
    "plt.hist(df['YearsExperience'], bins=10, color='blue', edgecolor='white', alpha=0.7)\n",
    "plt.xlabel('YearsExperience')\n",
    "plt.ylabel('Frequency')\n",
    "plt.title('Histogram - YearsExperience Distribution')\n",
    "plt.show()\n",
    "\n",
    "# Histogram of Salary\n",
    "plt.hist(df['Salary'], bins=10, color='blue', edgecolor='white', alpha=0.7)\n",
    "plt.xlabel('Salary')\n",
    "plt.ylabel('Frequency')\n",
    "plt.title('Histogram - Salary Distribution')\n",
    "plt.show()"
   ]
  },
  {
   "cell_type": "markdown",
   "id": "14a4144c",
   "metadata": {
    "id": "NOtFT_5SybT4",
    "papermill": {
     "duration": 0.014545,
     "end_time": "2023-07-25T14:05:01.002325",
     "exception": false,
     "start_time": "2023-07-25T14:05:00.987780",
     "status": "completed"
    },
    "tags": []
   },
   "source": [
    "#Explanation of each part of the code:\n",
    "\n",
    "**Histogram of 'YearsExperience':**\n",
    "\n",
    "> **`plt.hist(df['YearsExperience'], bins=10, color='blue', edgecolor='white', alpha=0.7)`**: This line creates a histogram for the 'YearsExperience' column in the DataFrame df.\n",
    "df['YearsExperience']: This selects the 'YearsExperience' column from the DataFrame df and provides it as the data for the histogram.\n",
    "\n",
    "* **`bins=10`**: This sets the number of bins or intervals into which the data will be divided for creating the histogram. In this case, there will be 10 bins.\n",
    "* **`color='blue'`**: This sets the color of the bars in the histogram to blue.\n",
    "* **`edgecolor='white'`**: This sets the color of the edges of the bars to white, providing a clear separation between adjacent bars.\n",
    "* **`alpha=0.7`**: This sets the transparency of the bars to 0.7, making them slightly transparent.\n",
    "\n",
    "> **`plt.xlabel('YearsExperience')`**: This sets the label for the x-axis to 'YearsExperience'.\n",
    "\n",
    "> **`plt.ylabel('Frequency')`**: This sets the label for the y-axis to 'Frequency'.\n",
    "\n",
    "> **`plt.title('Histogram - YearsExperience Distribution')`**: This sets the title of the histogram plot to 'Histogram - YearsExperience Distribution'.\n",
    "\n",
    "> **`plt.show()`**: This displays the histogram plot.\n",
    "\n",
    "**Histogram of 'Salary':**\n",
    "\n",
    "The code for the second histogram is almost identical to the first one, except it uses the 'Salary' column as the data for the histogram and sets the appropriate labels and title for the plot."
   ]
  },
  {
   "cell_type": "markdown",
   "id": "cf2719c9",
   "metadata": {
    "id": "6u7DeMLyCBss",
    "papermill": {
     "duration": 0.014877,
     "end_time": "2023-07-25T14:05:01.032268",
     "exception": false,
     "start_time": "2023-07-25T14:05:01.017391",
     "status": "completed"
    },
    "tags": []
   },
   "source": [
    "#**Data modelling - Linear Regression Model**"
   ]
  },
  {
   "cell_type": "code",
   "execution_count": 11,
   "id": "15f97673",
   "metadata": {
    "execution": {
     "iopub.execute_input": "2023-07-25T14:05:01.065082Z",
     "iopub.status.busy": "2023-07-25T14:05:01.064014Z",
     "iopub.status.idle": "2023-07-25T14:05:01.096364Z",
     "shell.execute_reply": "2023-07-25T14:05:01.095209Z"
    },
    "id": "C3Yq_K5zLeGY",
    "outputId": "90ae1f76-acf3-411a-d366-40c68dbf8cfe",
    "papermill": {
     "duration": 0.051732,
     "end_time": "2023-07-25T14:05:01.099207",
     "exception": false,
     "start_time": "2023-07-25T14:05:01.047475",
     "status": "completed"
    },
    "tags": []
   },
   "outputs": [
    {
     "data": {
      "text/html": [
       "<style>#sk-container-id-1 {color: black;background-color: white;}#sk-container-id-1 pre{padding: 0;}#sk-container-id-1 div.sk-toggleable {background-color: white;}#sk-container-id-1 label.sk-toggleable__label {cursor: pointer;display: block;width: 100%;margin-bottom: 0;padding: 0.3em;box-sizing: border-box;text-align: center;}#sk-container-id-1 label.sk-toggleable__label-arrow:before {content: \"▸\";float: left;margin-right: 0.25em;color: #696969;}#sk-container-id-1 label.sk-toggleable__label-arrow:hover:before {color: black;}#sk-container-id-1 div.sk-estimator:hover label.sk-toggleable__label-arrow:before {color: black;}#sk-container-id-1 div.sk-toggleable__content {max-height: 0;max-width: 0;overflow: hidden;text-align: left;background-color: #f0f8ff;}#sk-container-id-1 div.sk-toggleable__content pre {margin: 0.2em;color: black;border-radius: 0.25em;background-color: #f0f8ff;}#sk-container-id-1 input.sk-toggleable__control:checked~div.sk-toggleable__content {max-height: 200px;max-width: 100%;overflow: auto;}#sk-container-id-1 input.sk-toggleable__control:checked~label.sk-toggleable__label-arrow:before {content: \"▾\";}#sk-container-id-1 div.sk-estimator input.sk-toggleable__control:checked~label.sk-toggleable__label {background-color: #d4ebff;}#sk-container-id-1 div.sk-label input.sk-toggleable__control:checked~label.sk-toggleable__label {background-color: #d4ebff;}#sk-container-id-1 input.sk-hidden--visually {border: 0;clip: rect(1px 1px 1px 1px);clip: rect(1px, 1px, 1px, 1px);height: 1px;margin: -1px;overflow: hidden;padding: 0;position: absolute;width: 1px;}#sk-container-id-1 div.sk-estimator {font-family: monospace;background-color: #f0f8ff;border: 1px dotted black;border-radius: 0.25em;box-sizing: border-box;margin-bottom: 0.5em;}#sk-container-id-1 div.sk-estimator:hover {background-color: #d4ebff;}#sk-container-id-1 div.sk-parallel-item::after {content: \"\";width: 100%;border-bottom: 1px solid gray;flex-grow: 1;}#sk-container-id-1 div.sk-label:hover label.sk-toggleable__label {background-color: #d4ebff;}#sk-container-id-1 div.sk-serial::before {content: \"\";position: absolute;border-left: 1px solid gray;box-sizing: border-box;top: 0;bottom: 0;left: 50%;z-index: 0;}#sk-container-id-1 div.sk-serial {display: flex;flex-direction: column;align-items: center;background-color: white;padding-right: 0.2em;padding-left: 0.2em;position: relative;}#sk-container-id-1 div.sk-item {position: relative;z-index: 1;}#sk-container-id-1 div.sk-parallel {display: flex;align-items: stretch;justify-content: center;background-color: white;position: relative;}#sk-container-id-1 div.sk-item::before, #sk-container-id-1 div.sk-parallel-item::before {content: \"\";position: absolute;border-left: 1px solid gray;box-sizing: border-box;top: 0;bottom: 0;left: 50%;z-index: -1;}#sk-container-id-1 div.sk-parallel-item {display: flex;flex-direction: column;z-index: 1;position: relative;background-color: white;}#sk-container-id-1 div.sk-parallel-item:first-child::after {align-self: flex-end;width: 50%;}#sk-container-id-1 div.sk-parallel-item:last-child::after {align-self: flex-start;width: 50%;}#sk-container-id-1 div.sk-parallel-item:only-child::after {width: 0;}#sk-container-id-1 div.sk-dashed-wrapped {border: 1px dashed gray;margin: 0 0.4em 0.5em 0.4em;box-sizing: border-box;padding-bottom: 0.4em;background-color: white;}#sk-container-id-1 div.sk-label label {font-family: monospace;font-weight: bold;display: inline-block;line-height: 1.2em;}#sk-container-id-1 div.sk-label-container {text-align: center;}#sk-container-id-1 div.sk-container {/* jupyter's `normalize.less` sets `[hidden] { display: none; }` but bootstrap.min.css set `[hidden] { display: none !important; }` so we also need the `!important` here to be able to override the default hidden behavior on the sphinx rendered scikit-learn.org. See: https://github.com/scikit-learn/scikit-learn/issues/21755 */display: inline-block !important;position: relative;}#sk-container-id-1 div.sk-text-repr-fallback {display: none;}</style><div id=\"sk-container-id-1\" class=\"sk-top-container\"><div class=\"sk-text-repr-fallback\"><pre>LinearRegression()</pre><b>In a Jupyter environment, please rerun this cell to show the HTML representation or trust the notebook. <br />On GitHub, the HTML representation is unable to render, please try loading this page with nbviewer.org.</b></div><div class=\"sk-container\" hidden><div class=\"sk-item\"><div class=\"sk-estimator sk-toggleable\"><input class=\"sk-toggleable__control sk-hidden--visually\" id=\"sk-estimator-id-1\" type=\"checkbox\" checked><label for=\"sk-estimator-id-1\" class=\"sk-toggleable__label sk-toggleable__label-arrow\">LinearRegression</label><div class=\"sk-toggleable__content\"><pre>LinearRegression()</pre></div></div></div></div></div>"
      ],
      "text/plain": [
       "LinearRegression()"
      ]
     },
     "execution_count": 11,
     "metadata": {},
     "output_type": "execute_result"
    }
   ],
   "source": [
    "reg = linear_model.LinearRegression()\n",
    "reg.fit(df[['YearsExperience']], df.Salary)"
   ]
  },
  {
   "cell_type": "markdown",
   "id": "6828f399",
   "metadata": {
    "id": "O4U9HjNtI3vN",
    "papermill": {
     "duration": 0.015063,
     "end_time": "2023-07-25T14:05:01.129660",
     "exception": false,
     "start_time": "2023-07-25T14:05:01.114597",
     "status": "completed"
    },
    "tags": []
   },
   "source": [
    "#Explanation of each part of the code:\n",
    "\n",
    "> **`reg = linear_model.LinearRegression()`**: This line creates an instance of the LinearRegression class from the scikit-learn library and assigns it to the variable reg. The LinearRegression class represents a linear regression model.\n",
    "\n",
    "> **`reg.fit(df[['YearsExperience']], df.Salary)`**: The fit() method is called on the reg object to train the linear regression model. It takes two arguments: the input data X (in this case, the 'YearsExperience' column from the DataFrame df) and the target data y (in this case, the 'Salary' column from the DataFrame df). The fit() method calculates the coefficients (slope) and intercept of the linear regression line that best fits the data."
   ]
  },
  {
   "cell_type": "code",
   "execution_count": 12,
   "id": "b3c04c49",
   "metadata": {
    "execution": {
     "iopub.execute_input": "2023-07-25T14:05:01.162067Z",
     "iopub.status.busy": "2023-07-25T14:05:01.161597Z",
     "iopub.status.idle": "2023-07-25T14:05:01.558160Z",
     "shell.execute_reply": "2023-07-25T14:05:01.556970Z"
    },
    "id": "B9I9LM4NJr_R",
    "outputId": "b11baaff-e477-4ca2-cfbf-e3fdc6315013",
    "papermill": {
     "duration": 0.418279,
     "end_time": "2023-07-25T14:05:01.563307",
     "exception": false,
     "start_time": "2023-07-25T14:05:01.145028",
     "status": "completed"
    },
    "tags": []
   },
   "outputs": [
    {
     "data": {
      "text/plain": [
       "<matplotlib.legend.Legend at 0x7940cb790ee0>"
      ]
     },
     "execution_count": 12,
     "metadata": {},
     "output_type": "execute_result"
    },
    {
     "data": {
      "image/png": "[encoded data removed]",
      "text/plain": [
       "<Figure size 640x480 with 1 Axes>"
      ]
     },
     "metadata": {},
     "output_type": "display_data"
    }
   ],
   "source": [
    "%matplotlib inline\n",
    "plt.xlabel('YearsExperience')\n",
    "plt.ylabel('Salary')\n",
    "plt.title('Simple Linear Regression')\n",
    "plt.scatter(df.YearsExperience, df.Salary, color='blue', marker = '.', label ='Data')\n",
    "plt.plot(df.YearsExperience, reg.predict(df[['YearsExperience']]), color = 'green', label ='Regression Line')\n",
    "plt.legend()\n"
   ]
  },
  {
   "cell_type": "markdown",
   "id": "e8e22f5c",
   "metadata": {
    "id": "0-berejVJPUt",
    "papermill": {
     "duration": 0.016226,
     "end_time": "2023-07-25T14:05:01.596415",
     "exception": false,
     "start_time": "2023-07-25T14:05:01.580189",
     "status": "completed"
    },
    "tags": []
   },
   "source": [
    "#Explanation of each part of the code:\n",
    "\n",
    "> **`%matplotlib inline`**: This line is used to display the plot inline in the Jupyter Notebook, allowing the visualization to appear directly below the code cell.\n",
    "\n",
    "> Plotting the Data and Regression Line:\n",
    "\n",
    "* **`plt.xlabel('YearsExperience')`**: Sets the label for the x-axis as 'YearsExperience'.\n",
    "\n",
    "* **`plt.ylabel('Salary')`**: Sets the label for the y-axis as 'Salary'.\n",
    "\n",
    "* **`plt.title('Simple Linear Regression')`**: Sets the title of the plot as 'Simple Linear Regression'.\n",
    "\n",
    "* **`plt.scatter(df.YearsExperience, df.Salary, color='blue', marker='.', label='Data')`**: This line creates a scatter plot with the 'YearsExperience' on the x-axis and 'Salary' on the y-axis. The points are shown in blue color and marked with dots. The label 'Data' is used for the legend.\n",
    "\n",
    "* **`plt.plot(df.YearsExperience, reg.predict(df[['YearsExperience']]), color='green', label='Regression Line')`**: This line plots the linear regression line using the 'YearsExperience' as x-values and the predicted 'Salary' values from the regression model as y-values. The line is shown in green color, and the label 'Regression Line' is used for the legend.\n",
    "\n",
    "* **`plt.legend()`**: Adds the legend to the plot to differentiate between the data points and the regression line."
   ]
  },
  {
   "cell_type": "markdown",
   "id": "bdb0f8a8",
   "metadata": {
    "id": "p9LgZiTOKj1U",
    "papermill": {
     "duration": 0.015762,
     "end_time": "2023-07-25T14:05:01.628527",
     "exception": false,
     "start_time": "2023-07-25T14:05:01.612765",
     "status": "completed"
    },
    "tags": []
   },
   "source": [
    "To predicts the 'Salary' value for a given 'YearsExperience'. The model uses the input of n (years of experience) and predicts the corresponding 'Salary' value."
   ]
  },
  {
   "cell_type": "code",
   "execution_count": 13,
   "id": "1df9c61e",
   "metadata": {
    "execution": {
     "iopub.execute_input": "2023-07-25T14:05:01.663999Z",
     "iopub.status.busy": "2023-07-25T14:05:01.663282Z",
     "iopub.status.idle": "2023-07-25T14:05:01.674456Z",
     "shell.execute_reply": "2023-07-25T14:05:01.673335Z"
    },
    "id": "emVpSWB4MlOc",
    "outputId": "a4f14e03-b096-4554-dee9-69798937c185",
    "papermill": {
     "duration": 0.032125,
     "end_time": "2023-07-25T14:05:01.676894",
     "exception": false,
     "start_time": "2023-07-25T14:05:01.644769",
     "status": "completed"
    },
    "tags": []
   },
   "outputs": [
    {
     "name": "stderr",
     "output_type": "stream",
     "text": [
      "/opt/conda/lib/python3.10/site-packages/sklearn/base.py:439: UserWarning: X does not have valid feature names, but LinearRegression was fitted with feature names\n",
      "  warnings.warn(\n"
     ]
    },
    {
     "data": {
      "text/plain": [
       "array([125017.80457395])"
      ]
     },
     "execution_count": 13,
     "metadata": {},
     "output_type": "execute_result"
    }
   ],
   "source": [
    "reg.predict([[10.6]])"
   ]
  },
  {
   "cell_type": "markdown",
   "id": "8c724c9d",
   "metadata": {
    "id": "xWF16-T9KvHE",
    "papermill": {
     "duration": 0.016745,
     "end_time": "2023-07-25T14:05:01.710310",
     "exception": false,
     "start_time": "2023-07-25T14:05:01.693565",
     "status": "completed"
    },
    "tags": []
   },
   "source": [
    "#Explanation of the code:\n",
    "\n",
    "> **`reg.predict([[10.6]])`**: This line predicts the 'Salary' value for a given 'YearsExperience'. The model uses the input of n equals to 10.6 ."
   ]
  },
  {
   "cell_type": "code",
   "execution_count": 14,
   "id": "bb2ee901",
   "metadata": {
    "execution": {
     "iopub.execute_input": "2023-07-25T14:05:01.745271Z",
     "iopub.status.busy": "2023-07-25T14:05:01.744836Z",
     "iopub.status.idle": "2023-07-25T14:05:01.752490Z",
     "shell.execute_reply": "2023-07-25T14:05:01.751013Z"
    },
    "id": "iBJGNhxeTWvq",
    "outputId": "021d6bbf-978a-4c46-83b8-272b67ea1a29",
    "papermill": {
     "duration": 0.028336,
     "end_time": "2023-07-25T14:05:01.755022",
     "exception": false,
     "start_time": "2023-07-25T14:05:01.726686",
     "status": "completed"
    },
    "tags": []
   },
   "outputs": [
    {
     "data": {
      "text/plain": [
       "array([9449.96232146])"
      ]
     },
     "execution_count": 14,
     "metadata": {},
     "output_type": "execute_result"
    }
   ],
   "source": [
    "reg.coef_"
   ]
  },
  {
   "cell_type": "markdown",
   "id": "56221222",
   "metadata": {
    "id": "2yW4TqKFLoEd",
    "papermill": {
     "duration": 0.016628,
     "end_time": "2023-07-25T14:05:01.788702",
     "exception": false,
     "start_time": "2023-07-25T14:05:01.772074",
     "status": "completed"
    },
    "tags": []
   },
   "source": [
    "#Explanation of the code:\n",
    "> This line retrieves the coefficient (slope) of the regression line, which represents how much 'Salary' changes for each unit change in 'YearsExperience'."
   ]
  },
  {
   "cell_type": "code",
   "execution_count": 15,
   "id": "2b133a9a",
   "metadata": {
    "execution": {
     "iopub.execute_input": "2023-07-25T14:05:01.824368Z",
     "iopub.status.busy": "2023-07-25T14:05:01.823609Z",
     "iopub.status.idle": "2023-07-25T14:05:01.829989Z",
     "shell.execute_reply": "2023-07-25T14:05:01.829026Z"
    },
    "id": "5vOy7RABTZFN",
    "outputId": "09cad5be-462a-40e1-c2e9-76229bd45a69",
    "papermill": {
     "duration": 0.026864,
     "end_time": "2023-07-25T14:05:01.832219",
     "exception": false,
     "start_time": "2023-07-25T14:05:01.805355",
     "status": "completed"
    },
    "tags": []
   },
   "outputs": [
    {
     "data": {
      "text/plain": [
       "24848.203966523193"
      ]
     },
     "execution_count": 15,
     "metadata": {},
     "output_type": "execute_result"
    }
   ],
   "source": [
    "reg.intercept_"
   ]
  },
  {
   "cell_type": "markdown",
   "id": "ad493636",
   "metadata": {
    "id": "bUg9Hf2ML3ZG",
    "papermill": {
     "duration": 0.017169,
     "end_time": "2023-07-25T14:05:01.866375",
     "exception": false,
     "start_time": "2023-07-25T14:05:01.849206",
     "status": "completed"
    },
    "tags": []
   },
   "source": [
    "#Explanation of the code:\n",
    "\n",
    "> This line retrieves the intercept of the regression line, which represents the 'Salary' value when 'YearsExperience' is zero."
   ]
  },
  {
   "cell_type": "markdown",
   "id": "6970632c",
   "metadata": {
    "id": "XuWCnOT5NY6L",
    "papermill": {
     "duration": 0.016588,
     "end_time": "2023-07-25T14:05:01.899885",
     "exception": false,
     "start_time": "2023-07-25T14:05:01.883297",
     "status": "completed"
    },
    "tags": []
   },
   "source": [
    "# **Data Evaluation**"
   ]
  },
  {
   "cell_type": "code",
   "execution_count": 16,
   "id": "61c40b16",
   "metadata": {
    "execution": {
     "iopub.execute_input": "2023-07-25T14:05:01.935799Z",
     "iopub.status.busy": "2023-07-25T14:05:01.934968Z",
     "iopub.status.idle": "2023-07-25T14:05:01.945148Z",
     "shell.execute_reply": "2023-07-25T14:05:01.943827Z"
    },
    "id": "DcPs_ouuXj8v",
    "outputId": "4b627c75-0d6d-4901-c925-c853906c9de2",
    "papermill": {
     "duration": 0.030886,
     "end_time": "2023-07-25T14:05:01.947616",
     "exception": false,
     "start_time": "2023-07-25T14:05:01.916730",
     "status": "completed"
    },
    "tags": []
   },
   "outputs": [
    {
     "name": "stdout",
     "output_type": "stream",
     "text": [
      "Pearson Correlation (R): 0.9782416184887598\n",
      "Determination Coefficient (R^2): 0.9569566641435084\n"
     ]
    }
   ],
   "source": [
    "correlation_matrix = np.corrcoef(df.Salary, df.YearsExperience)\n",
    "correlation_coefficient = correlation_matrix[0, 1]\n",
    "print(\"Pearson Correlation (R):\", correlation_coefficient)\n",
    "\n",
    "slope, intercept, r_value, p_value, std_err = linregress(df.Salary, df.YearsExperience)\n",
    "r_squared = r_value**2\n",
    "print(\"Determination Coefficient (R^2):\", r_squared)\n"
   ]
  },
  {
   "cell_type": "markdown",
   "id": "1a612cac",
   "metadata": {
    "id": "i6rf25epNoOW",
    "papermill": {
     "duration": 0.016926,
     "end_time": "2023-07-25T14:05:01.981521",
     "exception": false,
     "start_time": "2023-07-25T14:05:01.964595",
     "status": "completed"
    },
    "tags": []
   },
   "source": [
    "# Explanation of each part of the code:\n",
    "\n",
    "> **`correlation_matrix = np.corrcoef(df.Salary, df.YearsExperience)`**: This line calculates the correlation matrix using the NumPy function np.corrcoef(). The correlation matrix is a 2x2 matrix where the diagonal elements represent the correlation of each variable with itself (which is always 1), and the off-diagonal element (position [0, 1] or [1, 0]) represents the correlation between \"Salary\" and \"YearsExperience.\"\n",
    "\n",
    "> **`correlation_coefficient = correlation_matrix[0, 1]`**: This line extracts the correlation coefficient (R) from the correlation matrix. The correlation coefficient is the value at the position [0, 1] or [1, 0] of the correlation matrix, representing the correlation between \"Salary\" and \"YearsExperience.\"\n",
    "\n",
    "> **`print(\"Pearson Correlation (R):\", correlation_coefficient)`**: This line prints the calculated Pearson Correlation (R) between \"Salary\" and \"YearsExperience.\"\n",
    "\n",
    "> **`slope, intercept, r_value, p_value, std_err = linregress(df.Salary, df.YearsExperience)`**: This line performs linear regression analysis using the linregress function. It takes \"Salary\" as the independent variable (x) and \"YearsExperience\" as the dependent variable (y) and returns the slope, intercept, r-value (correlation coefficient), p-value (significance), and standard error.\n",
    "\n",
    "> **`r_squared = r_value^2`** : This line calculates the Determination Coefficient (R^2) by squaring the r-value obtained from the linear regression analysis.\n",
    "\n",
    "> **`print(\"Determination Coefficient (R^2):\", r_squared)`**: This line prints the calculated Determination Coefficient (R^2) between \"Salary\" and \"YearsExperience.\""
   ]
  },
  {
   "cell_type": "markdown",
   "id": "d148f72c",
   "metadata": {
    "id": "stWK6z4at1uw",
    "papermill": {
     "duration": 0.016456,
     "end_time": "2023-07-25T14:05:02.015266",
     "exception": false,
     "start_time": "2023-07-25T14:05:01.998810",
     "status": "completed"
    },
    "tags": []
   },
   "source": [
    "#**Conclusion:**\n",
    "\n",
    "**1. Coefficients:**\n",
    "\n",
    "* Intercept (a): The intercept or constant value in a linear regression model indicates the predicted value of the dependent variable (\"Salary\") when the independent variable (\"YearsExperience\") is zero. In the example above, the intercept is approximately 24,848.203966523193.\n",
    "\n",
    "* Slope (b): The slope of the linear regression line indicates the average change in the dependent variable \"Salary\" for each one-unit change in the independent variable \"YearsExperience\". In the example above, the slope is approximately 9,449.96232146. This means that the average salary increase is about 9,449.96232146 for each one-year increase in experience. Based on the positive slope, it can be concluded that there is a positive relationship between YearsExperience and Salary, which means that the higher the YearsExperience, the higher the expected Salary.\n",
    "\n",
    "**2. Correlation:**\n",
    "\n",
    "Based on the example above, the Pearson correlation (R) is 0.9782416184887598, which is close to 1, indicates a strong positive linear relationship between YearsExperience and Salary.\n",
    "\n",
    "**3. R-squared (R^2):**\n",
    "\n",
    "R-squared is a value that indicates how well a linear regression model can explain the variability of the data. R-squared values range from 0 to 1. The closer to 1, the better the model can explain the data. In the example above, the R-squared value is 0.9569566641435084, which is close to 1. This indicates that about 95.7% of the variability in \"Salary\" can be explained by the variability in \"YearsExperience\". In other words, the regression model used is very effective in explaining the relationship between work experience and salary, and almost all the variability in salary can be attributed to the experience of the individual.\n",
    "\n",
    "**4. Regression Plot:**\n",
    "\n",
    "The linear regression plot shows the regression line (green line) that attempts to predict the relationship between \"YearsExperience\" and \"Salary\" based on the given data. The plot also displays the original data as blue dots. The better the regression line fits the original data points, the better the model performs."
   ]
  }
 ],
 "metadata": {
  "kernelspec": {
   "display_name": "Python 3",
   "language": "python",
   "name": "python3"
  },
  "language_info": {
   "codemirror_mode": {
    "name": "ipython",
    "version": 3
   },
   "file_extension": ".py",
   "mimetype": "text/x-python",
   "name": "python",
   "nbconvert_exporter": "python",
   "pygments_lexer": "ipython3",
   "version": "3.10.12"
  },
  "papermill": {
   "default_parameters": {},
   "duration": 17.156105,
   "end_time": "2023-07-25T14:05:03.054933",
   "environment_variables": {},
   "exception": null,
   "input_path": "__notebook__.ipynb",
   "output_path": "__notebook__.ipynb",
   "parameters": {},
   "start_time": "2023-07-25T14:04:45.898828",
   "version": "2.4.0"
  }
 },
 "nbformat": 4,
 "nbformat_minor": 5
}
