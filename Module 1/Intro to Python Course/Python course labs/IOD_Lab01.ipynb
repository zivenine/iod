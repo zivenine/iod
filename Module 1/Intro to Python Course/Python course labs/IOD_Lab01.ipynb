{
 "cells": [
  {
   "cell_type": "markdown",
   "metadata": {
    "id": "7KeNKtNL2Ix-"
   },
   "source": [
    "<div>\n",
    "<img src=https://www.institutedata.com/wp-content/uploads/2019/10/iod_h_tp_primary_c.svg width=\"300\">\n",
    "</div>\n",
    "\n",
    "# Python - Lab 1\n",
    "\n",
    "## Learning objectives\n",
    "\n",
    "This lab demonstrates examples of:\n",
    "\n",
    "1. Creating and manipulating lists\n",
    "2. For loops\n",
    "3. Importing modules and functions\n",
    "4. Creating dictonaries\n",
    "\n",
    "## Instructions:\n",
    "\n",
    "1. Replace ??? with the appropriate code\n",
    "2. Press Shift + Enter to execute cell\n",
    "\n"
   ]
  },
  {
   "cell_type": "code",
   "execution_count": null,
   "metadata": {
    "id": "O1xoAb-G7DiM"
   },
   "outputs": [],
   "source": []
  },
  {
   "cell_type": "markdown",
   "metadata": {
    "id": "HZ_JC2K58kco"
   },
   "source": [
    "This is an example cell for text"
   ]
  },
  {
   "cell_type": "code",
   "execution_count": null,
   "metadata": {
    "id": "G34nwJwe8iW3"
   },
   "outputs": [],
   "source": []
  },
  {
   "cell_type": "code",
   "execution_count": null,
   "metadata": {
    "id": "NaRcNY1l2LbD"
   },
   "outputs": [],
   "source": [
    "# create a list of 10 students (use just first name)\n",
    "students = ['alice','ben','cathy','dawn','emily','fern','emma','sean','felix','hugh']"
   ]
  },
  {
   "cell_type": "code",
   "execution_count": 2,
   "metadata": {
    "id": "lyMlOgoUZ2R4",
    "tags": []
   },
   "outputs": [
    {
     "name": "stdout",
     "output_type": "stream",
     "text": [
      "['alice', 'ben', 'cathy', 'dawn', 'emily', 'fern', 'emma', 'sean', 'felix', 'hugh']\n"
     ]
    }
   ],
   "source": [
    "# Print the list\n",
    "students = ['alice','ben','cathy','dawn','emily','fern','emma','sean','felix','hugh']\n",
    "print(students)"
   ]
  },
  {
   "cell_type": "code",
   "execution_count": 49,
   "metadata": {
    "id": "LtbLA_T811kr",
    "tags": []
   },
   "outputs": [
    {
     "name": "stdout",
     "output_type": "stream",
     "text": [
      "Index 01 Alice\n",
      "Index 02 Ben\n",
      "Index 03 Cathy\n",
      "Index 04 Dawn\n",
      "Index 05 Emily\n",
      "Index 06 Fern\n",
      "Index 07 Emma\n",
      "Index 08 Sean\n",
      "Index 09 Felix\n",
      "Index 10 Hugh\n"
     ]
    }
   ],
   "source": [
    "# print the list of students in the following format\n",
    "# Index 01 \t Alice\n",
    "# Index 02 \t Bob\n",
    "# Index 03 \t Pradeep\n",
    "students = ['alice','ben','cathy','dawn','emily','fern','emma','sean','felix','hugh']\n",
    "for student in students:\n",
    "    print(f'Index ' + str(\"{:02d}\".format((students.index(student))+1)) + ' ' + str(f'{student.capitalize()}'))"
   ]
  },
  {
   "cell_type": "code",
   "execution_count": 50,
   "metadata": {
    "id": "OF5sj3CX1lHl",
    "tags": []
   },
   "outputs": [
    {
     "name": "stdout",
     "output_type": "stream",
     "text": [
      "Index 10 Hugh\n",
      "Index 09 Felix\n",
      "Index 08 Sean\n",
      "Index 07 Emma\n",
      "Index 06 Fern\n",
      "Index 05 Emily\n",
      "Index 04 Dawn\n",
      "Index 03 Cathy\n",
      "Index 02 Ben\n",
      "Index 01 Alice\n"
     ]
    }
   ],
   "source": [
    "# print the list of students in reverse order one student in a line with its index\n",
    "# google search how to print list in reverse order\n",
    "students = ['alice','ben','cathy','dawn','emily','fern','emma','sean','felix','hugh']\n",
    "for student in reversed(students):\n",
    "    print(f'Index ' + str(\"{:02d}\".format((students.index(student))+1)) + ' ' + str(f'{student.capitalize()}'))"
   ]
  },
  {
   "cell_type": "code",
   "execution_count": 55,
   "metadata": {
    "id": "eAdtim4G1pyV",
    "tags": []
   },
   "outputs": [
    {
     "name": "stdout",
     "output_type": "stream",
     "text": [
      "['emma', 'emily', 'alice', 'felix', 'hugh', 'cathy', 'sean', 'ben', 'fern', 'dawn']\n"
     ]
    }
   ],
   "source": [
    "# print the student list in random order\n",
    "# hint look up the function random.sample\n",
    "import random\n",
    "students = ['alice','ben','cathy','dawn','emily','fern','emma','sean','felix','hugh']\n",
    "random_order = random.sample(students,len(students))\n",
    "print(random_order)"
   ]
  },
  {
   "cell_type": "code",
   "execution_count": 58,
   "metadata": {
    "colab": {
     "base_uri": "https://localhost:8080/"
    },
    "executionInfo": {
     "elapsed": 301,
     "status": "ok",
     "timestamp": 1684804333142,
     "user": {
      "displayName": "Chaitanya Rao",
      "userId": "16367114639785284684"
     },
     "user_tz": -600
    },
    "id": "sfKkL5dt1tqG",
    "outputId": "a7623863-4f0d-4300-adaf-a344ec1fcc81",
    "tags": []
   },
   "outputs": [
    {
     "name": "stdout",
     "output_type": "stream",
     "text": [
      "Students and their marks: \n",
      " {'fern': 90, 'alice': 87, 'cathy': 76, 'hugh': 75, 'sean': 73, 'felix': 69, 'emily': 66, 'dawn': 64, 'emma': 55, 'ben': 45}\n"
     ]
    }
   ],
   "source": [
    "# list students in decreasing order of their exam marks given their marks below\n",
    "# hint: look up the 'sorted' function\n",
    "from operator import itemgetter\n",
    "marks = [87,45,76,64,66,90,55,73,69,75]\n",
    "marksDesc = reversed(sorted(students))\n",
    "studentsAndMarks = dict(zip(students,marks))\n",
    "sortedStudentsAndMarks = {k: v for k, v in sorted(studentsAndMarks.items(), key=itemgetter(1), reverse=True)}\n",
    "print(f\"Students and their marks: \\n {sortedStudentsAndMarks}\")"
   ]
  },
  {
   "cell_type": "code",
   "execution_count": null,
   "metadata": {
    "colab": {
     "base_uri": "https://localhost:8080/"
    },
    "executionInfo": {
     "elapsed": 308,
     "status": "ok",
     "timestamp": 1684804345867,
     "user": {
      "displayName": "Chaitanya Rao",
      "userId": "16367114639785284684"
     },
     "user_tz": -600
    },
    "id": "IPQQHA2h_MrC",
    "outputId": "ec8ff5c1-c702-43c1-90e2-421cf9130eb5"
   },
   "outputs": [],
   "source": [
    "#desired output:"
   ]
  },
  {
   "cell_type": "markdown",
   "metadata": {
    "id": "1sXaEeYiyju-"
   },
   "source": [
    "\n",
    "\n",
    "---\n",
    "\n",
    "\n",
    "\n",
    "---\n",
    "\n",
    "\n",
    "\n",
    "> > > > > > > > > © 2023 Institute of Data\n",
    "\n",
    "\n",
    "---\n",
    "\n",
    "\n",
    "\n",
    "---\n",
    "\n",
    "\n",
    "\n"
   ]
  }
 ],
 "metadata": {
  "colab": {
   "provenance": []
  },
  "kernelspec": {
   "display_name": "Python 3 (ipykernel)",
   "language": "python",
   "name": "python3"
  },
  "language_info": {
   "codemirror_mode": {
    "name": "ipython",
    "version": 3
   },
   "file_extension": ".py",
   "mimetype": "text/x-python",
   "name": "python",
   "nbconvert_exporter": "python",
   "pygments_lexer": "ipython3",
   "version": "3.11.5"
  }
 },
 "nbformat": 4,
 "nbformat_minor": 4
}
