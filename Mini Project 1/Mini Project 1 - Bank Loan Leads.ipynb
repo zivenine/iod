{
 "cells": [
  {
   "cell_type": "code",
   "execution_count": 1,
   "id": "09b4199b-3d01-425d-a16b-737b74447b5f",
   "metadata": {},
   "outputs": [],
   "source": [
    "import pandas as pd\n",
    "import numpy as np\n",
    "import matplotlib.pyplot as plt\n",
    "import seaborn as sns\n"
   ]
  },
  {
   "cell_type": "markdown",
   "id": "f0de6344-cad1-4a55-b8ff-63731a17d7b7",
   "metadata": {},
   "source": [
    "Data Dictionary \n",
    "\n",
    "ID : Unique Customer ID\r\n",
    "\r\n",
    "Gender : Gender of the applicant\r\n",
    "\r\n",
    "DOB : Date of Birth of the applicant\r\n",
    "\r\n",
    "Lead_Creation_Date : Date on which Lead was created\r\n",
    "\r\n",
    "City_Code : Anonymised Code for the City\r\n",
    "\r\n",
    "City_Category: Anonymised City Feature\r\n",
    "\r\n",
    "Employer_Code: Anonymised Code for the Employer\r\n",
    "\r\n",
    "Employer_Category1 : Anonymised Employer Feature\r\n",
    "\r\n",
    "Employer_Category2: Anonymised Employer Feature\r\n",
    "\r\n",
    "Monthly_Income : Monthly Income in Dollars\r\n",
    "\r\n",
    "Customer_Existing_Primary_Bank_Code : Anonymised Customer Bank Code\r\n",
    "\r\n",
    "Primary_Bank_Type: Anonymised Bank Feature\r\n",
    "\r\n",
    "Contacted: Contact Verified (Y/N)\r\n",
    "\r\n",
    "Source : Categorical Variable representing source of lead\r\n",
    "\r\n",
    "Source_Category: Type of Source\r\n",
    "\r\n",
    "Existing_EMI : EMI of Existing Loans in Dollars\r\n",
    "\r\n",
    "Loan_Amount: Loan Amount Requested\r\n",
    "\r\n",
    "Loan_Period: Loan Period (Years)\r\n",
    "\r\n",
    "Interest_Rate: Interest Rate of Submitted Loan Amount\r\n",
    "\r\n",
    "EMI: EMI of Requested Loan Amount in dollars\r\n",
    "\r\n",
    "Var1: Anonymized Categorical variable with multiple levels\r\n",
    "\r\n",
    "Approved: (Target) Whether a loan is Approved or not (1-0) . Customer is Qualified Lead or not (1-0)"
   ]
  },
  {
   "cell_type": "code",
   "execution_count": 2,
   "id": "914dfdfd-f8dc-4f5d-b501-b1362e7fc356",
   "metadata": {},
   "outputs": [],
   "source": [
    "df_train = pd.read_csv(\"bank_loan_leads/train_loan/train.csv\")"
   ]
  },
  {
   "cell_type": "code",
   "execution_count": 3,
   "id": "d3725a20-efe3-41e8-8fbf-a670bb9c19ae",
   "metadata": {},
   "outputs": [
    {
     "data": {
      "text/html": [
       "<div>\n",
       "<style scoped>\n",
       "    .dataframe tbody tr th:only-of-type {\n",
       "        vertical-align: middle;\n",
       "    }\n",
       "\n",
       "    .dataframe tbody tr th {\n",
       "        vertical-align: top;\n",
       "    }\n",
       "\n",
       "    .dataframe thead th {\n",
       "        text-align: right;\n",
       "    }\n",
       "</style>\n",
       "<table border=\"1\" class=\"dataframe\">\n",
       "  <thead>\n",
       "    <tr style=\"text-align: right;\">\n",
       "      <th></th>\n",
       "      <th>ID</th>\n",
       "      <th>Gender</th>\n",
       "      <th>DOB</th>\n",
       "      <th>Lead_Creation_Date</th>\n",
       "      <th>City_Code</th>\n",
       "      <th>City_Category</th>\n",
       "      <th>Employer_Code</th>\n",
       "      <th>Employer_Category1</th>\n",
       "      <th>Employer_Category2</th>\n",
       "      <th>Monthly_Income</th>\n",
       "      <th>...</th>\n",
       "      <th>Contacted</th>\n",
       "      <th>Source</th>\n",
       "      <th>Source_Category</th>\n",
       "      <th>Existing_EMI</th>\n",
       "      <th>Loan_Amount</th>\n",
       "      <th>Loan_Period</th>\n",
       "      <th>Interest_Rate</th>\n",
       "      <th>EMI</th>\n",
       "      <th>Var1</th>\n",
       "      <th>Approved</th>\n",
       "    </tr>\n",
       "  </thead>\n",
       "  <tbody>\n",
       "    <tr>\n",
       "      <th>0</th>\n",
       "      <td>APPC90493171225</td>\n",
       "      <td>Female</td>\n",
       "      <td>23/07/79</td>\n",
       "      <td>15/07/16</td>\n",
       "      <td>C10001</td>\n",
       "      <td>A</td>\n",
       "      <td>COM0044082</td>\n",
       "      <td>A</td>\n",
       "      <td>4.0</td>\n",
       "      <td>2000.0</td>\n",
       "      <td>...</td>\n",
       "      <td>N</td>\n",
       "      <td>S122</td>\n",
       "      <td>G</td>\n",
       "      <td>0.0</td>\n",
       "      <td>NaN</td>\n",
       "      <td>NaN</td>\n",
       "      <td>NaN</td>\n",
       "      <td>NaN</td>\n",
       "      <td>0</td>\n",
       "      <td>0</td>\n",
       "    </tr>\n",
       "    <tr>\n",
       "      <th>1</th>\n",
       "      <td>APPD40611263344</td>\n",
       "      <td>Male</td>\n",
       "      <td>07/12/86</td>\n",
       "      <td>04/07/16</td>\n",
       "      <td>C10003</td>\n",
       "      <td>A</td>\n",
       "      <td>COM0000002</td>\n",
       "      <td>C</td>\n",
       "      <td>1.0</td>\n",
       "      <td>3500.0</td>\n",
       "      <td>...</td>\n",
       "      <td>Y</td>\n",
       "      <td>S122</td>\n",
       "      <td>G</td>\n",
       "      <td>0.0</td>\n",
       "      <td>20000.0</td>\n",
       "      <td>2.0</td>\n",
       "      <td>13.25</td>\n",
       "      <td>953.0</td>\n",
       "      <td>10</td>\n",
       "      <td>0</td>\n",
       "    </tr>\n",
       "    <tr>\n",
       "      <th>2</th>\n",
       "      <td>APPE70289249423</td>\n",
       "      <td>Male</td>\n",
       "      <td>10/12/82</td>\n",
       "      <td>19/07/16</td>\n",
       "      <td>C10125</td>\n",
       "      <td>C</td>\n",
       "      <td>COM0005267</td>\n",
       "      <td>C</td>\n",
       "      <td>4.0</td>\n",
       "      <td>2250.0</td>\n",
       "      <td>...</td>\n",
       "      <td>Y</td>\n",
       "      <td>S143</td>\n",
       "      <td>B</td>\n",
       "      <td>0.0</td>\n",
       "      <td>45000.0</td>\n",
       "      <td>4.0</td>\n",
       "      <td>NaN</td>\n",
       "      <td>NaN</td>\n",
       "      <td>0</td>\n",
       "      <td>0</td>\n",
       "    </tr>\n",
       "    <tr>\n",
       "      <th>3</th>\n",
       "      <td>APPF80273865537</td>\n",
       "      <td>Male</td>\n",
       "      <td>30/01/89</td>\n",
       "      <td>09/07/16</td>\n",
       "      <td>C10477</td>\n",
       "      <td>C</td>\n",
       "      <td>COM0004143</td>\n",
       "      <td>A</td>\n",
       "      <td>4.0</td>\n",
       "      <td>3500.0</td>\n",
       "      <td>...</td>\n",
       "      <td>Y</td>\n",
       "      <td>S143</td>\n",
       "      <td>B</td>\n",
       "      <td>0.0</td>\n",
       "      <td>92000.0</td>\n",
       "      <td>5.0</td>\n",
       "      <td>NaN</td>\n",
       "      <td>NaN</td>\n",
       "      <td>7</td>\n",
       "      <td>0</td>\n",
       "    </tr>\n",
       "    <tr>\n",
       "      <th>4</th>\n",
       "      <td>APPG60994436641</td>\n",
       "      <td>Male</td>\n",
       "      <td>19/04/85</td>\n",
       "      <td>20/07/16</td>\n",
       "      <td>C10002</td>\n",
       "      <td>A</td>\n",
       "      <td>COM0001781</td>\n",
       "      <td>A</td>\n",
       "      <td>4.0</td>\n",
       "      <td>10000.0</td>\n",
       "      <td>...</td>\n",
       "      <td>Y</td>\n",
       "      <td>S134</td>\n",
       "      <td>B</td>\n",
       "      <td>2500.0</td>\n",
       "      <td>50000.0</td>\n",
       "      <td>2.0</td>\n",
       "      <td>NaN</td>\n",
       "      <td>NaN</td>\n",
       "      <td>10</td>\n",
       "      <td>0</td>\n",
       "    </tr>\n",
       "  </tbody>\n",
       "</table>\n",
       "<p>5 rows × 22 columns</p>\n",
       "</div>"
      ],
      "text/plain": [
       "                ID  Gender       DOB Lead_Creation_Date City_Code  \\\n",
       "0  APPC90493171225  Female  23/07/79           15/07/16    C10001   \n",
       "1  APPD40611263344    Male  07/12/86           04/07/16    C10003   \n",
       "2  APPE70289249423    Male  10/12/82           19/07/16    C10125   \n",
       "3  APPF80273865537    Male  30/01/89           09/07/16    C10477   \n",
       "4  APPG60994436641    Male  19/04/85           20/07/16    C10002   \n",
       "\n",
       "  City_Category Employer_Code Employer_Category1  Employer_Category2  \\\n",
       "0             A    COM0044082                  A                 4.0   \n",
       "1             A    COM0000002                  C                 1.0   \n",
       "2             C    COM0005267                  C                 4.0   \n",
       "3             C    COM0004143                  A                 4.0   \n",
       "4             A    COM0001781                  A                 4.0   \n",
       "\n",
       "   Monthly_Income  ... Contacted Source Source_Category Existing_EMI  \\\n",
       "0          2000.0  ...         N   S122               G          0.0   \n",
       "1          3500.0  ...         Y   S122               G          0.0   \n",
       "2          2250.0  ...         Y   S143               B          0.0   \n",
       "3          3500.0  ...         Y   S143               B          0.0   \n",
       "4         10000.0  ...         Y   S134               B       2500.0   \n",
       "\n",
       "  Loan_Amount  Loan_Period  Interest_Rate    EMI  Var1  Approved  \n",
       "0         NaN          NaN            NaN    NaN     0         0  \n",
       "1     20000.0          2.0          13.25  953.0    10         0  \n",
       "2     45000.0          4.0            NaN    NaN     0         0  \n",
       "3     92000.0          5.0            NaN    NaN     7         0  \n",
       "4     50000.0          2.0            NaN    NaN    10         0  \n",
       "\n",
       "[5 rows x 22 columns]"
      ]
     },
     "execution_count": 3,
     "metadata": {},
     "output_type": "execute_result"
    }
   ],
   "source": [
    "df_train.head()"
   ]
  },
  {
   "cell_type": "code",
   "execution_count": 4,
   "id": "6d3ba9c9-b98c-46ec-9ce0-9d9e11f03ce3",
   "metadata": {},
   "outputs": [
    {
     "name": "stdout",
     "output_type": "stream",
     "text": [
      "<class 'pandas.core.frame.DataFrame'>\n",
      "RangeIndex: 69713 entries, 0 to 69712\n",
      "Data columns (total 22 columns):\n",
      " #   Column                               Non-Null Count  Dtype  \n",
      "---  ------                               --------------  -----  \n",
      " 0   ID                                   69713 non-null  object \n",
      " 1   Gender                               69713 non-null  object \n",
      " 2   DOB                                  69698 non-null  object \n",
      " 3   Lead_Creation_Date                   69713 non-null  object \n",
      " 4   City_Code                            68899 non-null  object \n",
      " 5   City_Category                        68899 non-null  object \n",
      " 6   Employer_Code                        65695 non-null  object \n",
      " 7   Employer_Category1                   65695 non-null  object \n",
      " 8   Employer_Category2                   65415 non-null  float64\n",
      " 9   Monthly_Income                       69713 non-null  float64\n",
      " 10  Customer_Existing_Primary_Bank_Code  60322 non-null  object \n",
      " 11  Primary_Bank_Type                    60322 non-null  object \n",
      " 12  Contacted                            69713 non-null  object \n",
      " 13  Source                               69713 non-null  object \n",
      " 14  Source_Category                      69713 non-null  object \n",
      " 15  Existing_EMI                         69662 non-null  float64\n",
      " 16  Loan_Amount                          42004 non-null  float64\n",
      " 17  Loan_Period                          42004 non-null  float64\n",
      " 18  Interest_Rate                        22276 non-null  float64\n",
      " 19  EMI                                  22276 non-null  float64\n",
      " 20  Var1                                 69713 non-null  int64  \n",
      " 21  Approved                             69713 non-null  int64  \n",
      "dtypes: float64(7), int64(2), object(13)\n",
      "memory usage: 11.7+ MB\n"
     ]
    }
   ],
   "source": [
    "df_train.info()"
   ]
  },
  {
   "cell_type": "code",
   "execution_count": 5,
   "id": "edb35099-8d42-4305-9908-8918119f3053",
   "metadata": {},
   "outputs": [
    {
     "data": {
      "text/html": [
       "<div>\n",
       "<style scoped>\n",
       "    .dataframe tbody tr th:only-of-type {\n",
       "        vertical-align: middle;\n",
       "    }\n",
       "\n",
       "    .dataframe tbody tr th {\n",
       "        vertical-align: top;\n",
       "    }\n",
       "\n",
       "    .dataframe thead th {\n",
       "        text-align: right;\n",
       "    }\n",
       "</style>\n",
       "<table border=\"1\" class=\"dataframe\">\n",
       "  <thead>\n",
       "    <tr style=\"text-align: right;\">\n",
       "      <th></th>\n",
       "      <th>count</th>\n",
       "      <th>mean</th>\n",
       "      <th>std</th>\n",
       "      <th>min</th>\n",
       "      <th>25%</th>\n",
       "      <th>50%</th>\n",
       "      <th>75%</th>\n",
       "      <th>max</th>\n",
       "    </tr>\n",
       "  </thead>\n",
       "  <tbody>\n",
       "    <tr>\n",
       "      <th>Employer_Category2</th>\n",
       "      <td>65415.0</td>\n",
       "      <td>3.720187</td>\n",
       "      <td>0.807374</td>\n",
       "      <td>1.00</td>\n",
       "      <td>4.00</td>\n",
       "      <td>4.0</td>\n",
       "      <td>4.0</td>\n",
       "      <td>4.0</td>\n",
       "    </tr>\n",
       "    <tr>\n",
       "      <th>Monthly_Income</th>\n",
       "      <td>69713.0</td>\n",
       "      <td>5622.283200</td>\n",
       "      <td>174767.061840</td>\n",
       "      <td>0.00</td>\n",
       "      <td>1650.00</td>\n",
       "      <td>2500.0</td>\n",
       "      <td>4000.0</td>\n",
       "      <td>38383838.3</td>\n",
       "    </tr>\n",
       "    <tr>\n",
       "      <th>Existing_EMI</th>\n",
       "      <td>69662.0</td>\n",
       "      <td>360.928751</td>\n",
       "      <td>2288.517927</td>\n",
       "      <td>0.00</td>\n",
       "      <td>0.00</td>\n",
       "      <td>0.0</td>\n",
       "      <td>350.0</td>\n",
       "      <td>545436.5</td>\n",
       "    </tr>\n",
       "    <tr>\n",
       "      <th>Loan_Amount</th>\n",
       "      <td>42004.0</td>\n",
       "      <td>39429.982859</td>\n",
       "      <td>30727.595990</td>\n",
       "      <td>5000.00</td>\n",
       "      <td>20000.00</td>\n",
       "      <td>30000.0</td>\n",
       "      <td>50000.0</td>\n",
       "      <td>300000.0</td>\n",
       "    </tr>\n",
       "    <tr>\n",
       "      <th>Loan_Period</th>\n",
       "      <td>42004.0</td>\n",
       "      <td>3.890629</td>\n",
       "      <td>1.167491</td>\n",
       "      <td>1.00</td>\n",
       "      <td>3.00</td>\n",
       "      <td>4.0</td>\n",
       "      <td>5.0</td>\n",
       "      <td>6.0</td>\n",
       "    </tr>\n",
       "    <tr>\n",
       "      <th>Interest_Rate</th>\n",
       "      <td>22276.0</td>\n",
       "      <td>19.213570</td>\n",
       "      <td>5.847136</td>\n",
       "      <td>11.99</td>\n",
       "      <td>15.25</td>\n",
       "      <td>18.0</td>\n",
       "      <td>20.0</td>\n",
       "      <td>37.0</td>\n",
       "    </tr>\n",
       "    <tr>\n",
       "      <th>EMI</th>\n",
       "      <td>22276.0</td>\n",
       "      <td>1101.466242</td>\n",
       "      <td>752.661394</td>\n",
       "      <td>118.00</td>\n",
       "      <td>649.00</td>\n",
       "      <td>941.0</td>\n",
       "      <td>1295.0</td>\n",
       "      <td>13556.0</td>\n",
       "    </tr>\n",
       "    <tr>\n",
       "      <th>Var1</th>\n",
       "      <td>69713.0</td>\n",
       "      <td>3.948446</td>\n",
       "      <td>3.819214</td>\n",
       "      <td>0.00</td>\n",
       "      <td>0.00</td>\n",
       "      <td>2.0</td>\n",
       "      <td>7.0</td>\n",
       "      <td>10.0</td>\n",
       "    </tr>\n",
       "    <tr>\n",
       "      <th>Approved</th>\n",
       "      <td>69713.0</td>\n",
       "      <td>0.014631</td>\n",
       "      <td>0.120073</td>\n",
       "      <td>0.00</td>\n",
       "      <td>0.00</td>\n",
       "      <td>0.0</td>\n",
       "      <td>0.0</td>\n",
       "      <td>1.0</td>\n",
       "    </tr>\n",
       "  </tbody>\n",
       "</table>\n",
       "</div>"
      ],
      "text/plain": [
       "                      count          mean            std      min       25%  \\\n",
       "Employer_Category2  65415.0      3.720187       0.807374     1.00      4.00   \n",
       "Monthly_Income      69713.0   5622.283200  174767.061840     0.00   1650.00   \n",
       "Existing_EMI        69662.0    360.928751    2288.517927     0.00      0.00   \n",
       "Loan_Amount         42004.0  39429.982859   30727.595990  5000.00  20000.00   \n",
       "Loan_Period         42004.0      3.890629       1.167491     1.00      3.00   \n",
       "Interest_Rate       22276.0     19.213570       5.847136    11.99     15.25   \n",
       "EMI                 22276.0   1101.466242     752.661394   118.00    649.00   \n",
       "Var1                69713.0      3.948446       3.819214     0.00      0.00   \n",
       "Approved            69713.0      0.014631       0.120073     0.00      0.00   \n",
       "\n",
       "                        50%      75%         max  \n",
       "Employer_Category2      4.0      4.0         4.0  \n",
       "Monthly_Income       2500.0   4000.0  38383838.3  \n",
       "Existing_EMI            0.0    350.0    545436.5  \n",
       "Loan_Amount         30000.0  50000.0    300000.0  \n",
       "Loan_Period             4.0      5.0         6.0  \n",
       "Interest_Rate          18.0     20.0        37.0  \n",
       "EMI                   941.0   1295.0     13556.0  \n",
       "Var1                    2.0      7.0        10.0  \n",
       "Approved                0.0      0.0         1.0  "
      ]
     },
     "execution_count": 5,
     "metadata": {},
     "output_type": "execute_result"
    }
   ],
   "source": [
    "df_train.describe().T"
   ]
  },
  {
   "cell_type": "code",
   "execution_count": 6,
   "id": "2c77d26f-7d44-4b4d-8dd5-f17b1e6fe49a",
   "metadata": {},
   "outputs": [
    {
     "data": {
      "text/plain": [
       "ID                                         0\n",
       "Gender                                     0\n",
       "DOB                                       15\n",
       "Lead_Creation_Date                         0\n",
       "City_Code                                814\n",
       "City_Category                            814\n",
       "Employer_Code                           4018\n",
       "Employer_Category1                      4018\n",
       "Employer_Category2                      4298\n",
       "Monthly_Income                             0\n",
       "Customer_Existing_Primary_Bank_Code     9391\n",
       "Primary_Bank_Type                       9391\n",
       "Contacted                                  0\n",
       "Source                                     0\n",
       "Source_Category                            0\n",
       "Existing_EMI                              51\n",
       "Loan_Amount                            27709\n",
       "Loan_Period                            27709\n",
       "Interest_Rate                          47437\n",
       "EMI                                    47437\n",
       "Var1                                       0\n",
       "Approved                                   0\n",
       "dtype: int64"
      ]
     },
     "execution_count": 6,
     "metadata": {},
     "output_type": "execute_result"
    }
   ],
   "source": [
    "df_train.isnull().sum()"
   ]
  },
  {
   "cell_type": "code",
   "execution_count": 7,
   "id": "fa52e91e-323e-42dd-ae13-9d3a1890d491",
   "metadata": {},
   "outputs": [
    {
     "data": {
      "text/plain": [
       "49405"
      ]
     },
     "execution_count": 7,
     "metadata": {},
     "output_type": "execute_result"
    }
   ],
   "source": [
    "df_train.isna().any(axis=1).sum()"
   ]
  },
  {
   "cell_type": "code",
   "execution_count": 8,
   "id": "f3ab4d8b-24f7-45f3-90c1-7adb2a41223d",
   "metadata": {},
   "outputs": [
    {
     "data": {
      "text/plain": [
       "(56, 22)"
      ]
     },
     "execution_count": 8,
     "metadata": {},
     "output_type": "execute_result"
    }
   ],
   "source": [
    "income_outliers = df_train[df_train['Monthly_Income'] > 150000].shape\n",
    "income_outliers"
   ]
  },
  {
   "cell_type": "code",
   "execution_count": 9,
   "id": "e34f5bc3-40be-4aae-adb5-d6b6fdb78a17",
   "metadata": {},
   "outputs": [],
   "source": [
    "df_train_1 = df_train[df_train['Monthly_Income'] < 150000]"
   ]
  },
  {
   "cell_type": "code",
   "execution_count": 10,
   "id": "8d69aec9-219c-4f4f-8b34-f9847f961236",
   "metadata": {},
   "outputs": [
    {
     "data": {
      "text/plain": [
       "(69656, 22)"
      ]
     },
     "execution_count": 10,
     "metadata": {},
     "output_type": "execute_result"
    }
   ],
   "source": [
    "df_train_1.shape"
   ]
  },
  {
   "cell_type": "code",
   "execution_count": 11,
   "id": "d55a668f-0701-408b-83e6-1ce3849f8a8c",
   "metadata": {},
   "outputs": [
    {
     "data": {
      "text/plain": [
       "(93, 22)"
      ]
     },
     "execution_count": 11,
     "metadata": {},
     "output_type": "execute_result"
    }
   ],
   "source": [
    "income_outliers = df_train_1[df_train_1['Monthly_Income'] > 60000].shape\n",
    "income_outliers"
   ]
  },
  {
   "cell_type": "code",
   "execution_count": 12,
   "id": "b2054401-e0c1-4c24-b552-87c2f204d667",
   "metadata": {},
   "outputs": [],
   "source": [
    "df_train_2 = df_train[df_train['Monthly_Income'] < 60000]"
   ]
  },
  {
   "cell_type": "code",
   "execution_count": 13,
   "id": "2b40cb56-6b36-4090-9ecf-783164a54ad6",
   "metadata": {},
   "outputs": [
    {
     "data": {
      "image/png": "[encoded data removed]",
      "text/plain": [
       "<Figure size 640x480 with 1 Axes>"
      ]
     },
     "metadata": {},
     "output_type": "display_data"
    }
   ],
   "source": [
    "plt.hist(x=df_train_2['Monthly_Income'], bins=15)\n",
    "plt.show()"
   ]
  },
  {
   "cell_type": "markdown",
   "id": "7f0cc3a4-8c9e-4cf2-99da-cfde59e816ee",
   "metadata": {},
   "source": [
    "# 1. Remove outliers from Monthly_Income by removing rows with Monthly_Income above 20,000. "
   ]
  },
  {
   "cell_type": "code",
   "execution_count": 14,
   "id": "3943ab07-924b-4ffc-a23e-4da80429a4b7",
   "metadata": {},
   "outputs": [],
   "source": [
    "df_train_3 = df_train[df_train['Monthly_Income'] < 20000]"
   ]
  },
  {
   "cell_type": "code",
   "execution_count": 15,
   "id": "731aef7c-532e-428a-bfd5-43d44f70e911",
   "metadata": {},
   "outputs": [
    {
     "data": {
      "image/png": "[encoded data removed]",
      "text/plain": [
       "<Figure size 640x480 with 1 Axes>"
      ]
     },
     "metadata": {},
     "output_type": "display_data"
    }
   ],
   "source": [
    "plt.hist(x=df_train_3['Monthly_Income'], bins=35)\n",
    "plt.show()"
   ]
  },
  {
   "cell_type": "code",
   "execution_count": 16,
   "id": "07162678-ad6f-4885-a10c-ad4adc239533",
   "metadata": {},
   "outputs": [
    {
     "data": {
      "text/plain": [
       "ID                                         0\n",
       "Gender                                     0\n",
       "DOB                                       15\n",
       "Lead_Creation_Date                         0\n",
       "City_Code                                799\n",
       "City_Category                            799\n",
       "Employer_Code                           4001\n",
       "Employer_Category1                      4001\n",
       "Employer_Category2                      4271\n",
       "Monthly_Income                             0\n",
       "Customer_Existing_Primary_Bank_Code     9275\n",
       "Primary_Bank_Type                       9275\n",
       "Contacted                                  0\n",
       "Source                                     0\n",
       "Source_Category                            0\n",
       "Existing_EMI                              50\n",
       "Loan_Amount                            27528\n",
       "Loan_Period                            27528\n",
       "Interest_Rate                          46813\n",
       "EMI                                    46813\n",
       "Var1                                       0\n",
       "Approved                                   0\n",
       "dtype: int64"
      ]
     },
     "execution_count": 16,
     "metadata": {},
     "output_type": "execute_result"
    }
   ],
   "source": [
    "df_train_3.isnull().sum()"
   ]
  },
  {
   "cell_type": "markdown",
   "id": "d5f719bf-c756-4e09-a69e-177ea89e3009",
   "metadata": {},
   "source": [
    "# 2. Convert DOB to datetime format. "
   ]
  },
  {
   "cell_type": "code",
   "execution_count": 17,
   "id": "02857d8c-ab70-4514-861d-113fe89d7478",
   "metadata": {},
   "outputs": [
    {
     "name": "stderr",
     "output_type": "stream",
     "text": [
      "C:\\Users\\Dinesh\\AppData\\Local\\Temp\\ipykernel_19068\\3464313117.py:1: SettingWithCopyWarning: \n",
      "A value is trying to be set on a copy of a slice from a DataFrame.\n",
      "Try using .loc[row_indexer,col_indexer] = value instead\n",
      "\n",
      "See the caveats in the documentation: https://pandas.pydata.org/pandas-docs/stable/user_guide/indexing.html#returning-a-view-versus-a-copy\n",
      "  df_train_3['DOB'] = pd.to_datetime(df_train_3['DOB'], format='%d/%m/%y').dt.strftime('%Y-%m-%d')\n"
     ]
    }
   ],
   "source": [
    "df_train_3['DOB'] = pd.to_datetime(df_train_3['DOB'], format='%d/%m/%y').dt.strftime('%Y-%m-%d')"
   ]
  },
  {
   "cell_type": "markdown",
   "id": "09f9733e-59c1-432d-a96d-3425aee8a354",
   "metadata": {},
   "source": [
    "# 3. Converted Lead_Creation_Date to datetime format. "
   ]
  },
  {
   "cell_type": "code",
   "execution_count": 18,
   "id": "0f7c8fe5-6608-4e14-8a99-567fac033a6f",
   "metadata": {},
   "outputs": [
    {
     "name": "stderr",
     "output_type": "stream",
     "text": [
      "C:\\Users\\Dinesh\\AppData\\Local\\Temp\\ipykernel_19068\\4135966100.py:1: SettingWithCopyWarning: \n",
      "A value is trying to be set on a copy of a slice from a DataFrame.\n",
      "Try using .loc[row_indexer,col_indexer] = value instead\n",
      "\n",
      "See the caveats in the documentation: https://pandas.pydata.org/pandas-docs/stable/user_guide/indexing.html#returning-a-view-versus-a-copy\n",
      "  df_train_3['Lead_Creation_Date'] = pd.to_datetime(df_train_3['Lead_Creation_Date'], format='%d/%m/%y').dt.strftime('%Y-%m-%d')\n"
     ]
    }
   ],
   "source": [
    "df_train_3['Lead_Creation_Date'] = pd.to_datetime(df_train_3['Lead_Creation_Date'], format='%d/%m/%y').dt.strftime('%Y-%m-%d')"
   ]
  },
  {
   "cell_type": "code",
   "execution_count": 19,
   "id": "e4feddc4-e978-4bbb-a115-e17228b41d68",
   "metadata": {},
   "outputs": [
    {
     "data": {
      "text/html": [
       "<div>\n",
       "<style scoped>\n",
       "    .dataframe tbody tr th:only-of-type {\n",
       "        vertical-align: middle;\n",
       "    }\n",
       "\n",
       "    .dataframe tbody tr th {\n",
       "        vertical-align: top;\n",
       "    }\n",
       "\n",
       "    .dataframe thead th {\n",
       "        text-align: right;\n",
       "    }\n",
       "</style>\n",
       "<table border=\"1\" class=\"dataframe\">\n",
       "  <thead>\n",
       "    <tr style=\"text-align: right;\">\n",
       "      <th></th>\n",
       "      <th>ID</th>\n",
       "      <th>Gender</th>\n",
       "      <th>DOB</th>\n",
       "      <th>Lead_Creation_Date</th>\n",
       "      <th>City_Code</th>\n",
       "      <th>City_Category</th>\n",
       "      <th>Employer_Code</th>\n",
       "      <th>Employer_Category1</th>\n",
       "      <th>Employer_Category2</th>\n",
       "      <th>Monthly_Income</th>\n",
       "      <th>...</th>\n",
       "      <th>Contacted</th>\n",
       "      <th>Source</th>\n",
       "      <th>Source_Category</th>\n",
       "      <th>Existing_EMI</th>\n",
       "      <th>Loan_Amount</th>\n",
       "      <th>Loan_Period</th>\n",
       "      <th>Interest_Rate</th>\n",
       "      <th>EMI</th>\n",
       "      <th>Var1</th>\n",
       "      <th>Approved</th>\n",
       "    </tr>\n",
       "  </thead>\n",
       "  <tbody>\n",
       "    <tr>\n",
       "      <th>0</th>\n",
       "      <td>APPC90493171225</td>\n",
       "      <td>Female</td>\n",
       "      <td>1979-07-23</td>\n",
       "      <td>2016-07-15</td>\n",
       "      <td>C10001</td>\n",
       "      <td>A</td>\n",
       "      <td>COM0044082</td>\n",
       "      <td>A</td>\n",
       "      <td>4.0</td>\n",
       "      <td>2000.0</td>\n",
       "      <td>...</td>\n",
       "      <td>N</td>\n",
       "      <td>S122</td>\n",
       "      <td>G</td>\n",
       "      <td>0.0</td>\n",
       "      <td>NaN</td>\n",
       "      <td>NaN</td>\n",
       "      <td>NaN</td>\n",
       "      <td>NaN</td>\n",
       "      <td>0</td>\n",
       "      <td>0</td>\n",
       "    </tr>\n",
       "    <tr>\n",
       "      <th>1</th>\n",
       "      <td>APPD40611263344</td>\n",
       "      <td>Male</td>\n",
       "      <td>1986-12-07</td>\n",
       "      <td>2016-07-04</td>\n",
       "      <td>C10003</td>\n",
       "      <td>A</td>\n",
       "      <td>COM0000002</td>\n",
       "      <td>C</td>\n",
       "      <td>1.0</td>\n",
       "      <td>3500.0</td>\n",
       "      <td>...</td>\n",
       "      <td>Y</td>\n",
       "      <td>S122</td>\n",
       "      <td>G</td>\n",
       "      <td>0.0</td>\n",
       "      <td>20000.0</td>\n",
       "      <td>2.0</td>\n",
       "      <td>13.25</td>\n",
       "      <td>953.0</td>\n",
       "      <td>10</td>\n",
       "      <td>0</td>\n",
       "    </tr>\n",
       "    <tr>\n",
       "      <th>2</th>\n",
       "      <td>APPE70289249423</td>\n",
       "      <td>Male</td>\n",
       "      <td>1982-12-10</td>\n",
       "      <td>2016-07-19</td>\n",
       "      <td>C10125</td>\n",
       "      <td>C</td>\n",
       "      <td>COM0005267</td>\n",
       "      <td>C</td>\n",
       "      <td>4.0</td>\n",
       "      <td>2250.0</td>\n",
       "      <td>...</td>\n",
       "      <td>Y</td>\n",
       "      <td>S143</td>\n",
       "      <td>B</td>\n",
       "      <td>0.0</td>\n",
       "      <td>45000.0</td>\n",
       "      <td>4.0</td>\n",
       "      <td>NaN</td>\n",
       "      <td>NaN</td>\n",
       "      <td>0</td>\n",
       "      <td>0</td>\n",
       "    </tr>\n",
       "    <tr>\n",
       "      <th>3</th>\n",
       "      <td>APPF80273865537</td>\n",
       "      <td>Male</td>\n",
       "      <td>1989-01-30</td>\n",
       "      <td>2016-07-09</td>\n",
       "      <td>C10477</td>\n",
       "      <td>C</td>\n",
       "      <td>COM0004143</td>\n",
       "      <td>A</td>\n",
       "      <td>4.0</td>\n",
       "      <td>3500.0</td>\n",
       "      <td>...</td>\n",
       "      <td>Y</td>\n",
       "      <td>S143</td>\n",
       "      <td>B</td>\n",
       "      <td>0.0</td>\n",
       "      <td>92000.0</td>\n",
       "      <td>5.0</td>\n",
       "      <td>NaN</td>\n",
       "      <td>NaN</td>\n",
       "      <td>7</td>\n",
       "      <td>0</td>\n",
       "    </tr>\n",
       "    <tr>\n",
       "      <th>4</th>\n",
       "      <td>APPG60994436641</td>\n",
       "      <td>Male</td>\n",
       "      <td>1985-04-19</td>\n",
       "      <td>2016-07-20</td>\n",
       "      <td>C10002</td>\n",
       "      <td>A</td>\n",
       "      <td>COM0001781</td>\n",
       "      <td>A</td>\n",
       "      <td>4.0</td>\n",
       "      <td>10000.0</td>\n",
       "      <td>...</td>\n",
       "      <td>Y</td>\n",
       "      <td>S134</td>\n",
       "      <td>B</td>\n",
       "      <td>2500.0</td>\n",
       "      <td>50000.0</td>\n",
       "      <td>2.0</td>\n",
       "      <td>NaN</td>\n",
       "      <td>NaN</td>\n",
       "      <td>10</td>\n",
       "      <td>0</td>\n",
       "    </tr>\n",
       "  </tbody>\n",
       "</table>\n",
       "<p>5 rows × 22 columns</p>\n",
       "</div>"
      ],
      "text/plain": [
       "                ID  Gender         DOB Lead_Creation_Date City_Code  \\\n",
       "0  APPC90493171225  Female  1979-07-23         2016-07-15    C10001   \n",
       "1  APPD40611263344    Male  1986-12-07         2016-07-04    C10003   \n",
       "2  APPE70289249423    Male  1982-12-10         2016-07-19    C10125   \n",
       "3  APPF80273865537    Male  1989-01-30         2016-07-09    C10477   \n",
       "4  APPG60994436641    Male  1985-04-19         2016-07-20    C10002   \n",
       "\n",
       "  City_Category Employer_Code Employer_Category1  Employer_Category2  \\\n",
       "0             A    COM0044082                  A                 4.0   \n",
       "1             A    COM0000002                  C                 1.0   \n",
       "2             C    COM0005267                  C                 4.0   \n",
       "3             C    COM0004143                  A                 4.0   \n",
       "4             A    COM0001781                  A                 4.0   \n",
       "\n",
       "   Monthly_Income  ... Contacted Source Source_Category Existing_EMI  \\\n",
       "0          2000.0  ...         N   S122               G          0.0   \n",
       "1          3500.0  ...         Y   S122               G          0.0   \n",
       "2          2250.0  ...         Y   S143               B          0.0   \n",
       "3          3500.0  ...         Y   S143               B          0.0   \n",
       "4         10000.0  ...         Y   S134               B       2500.0   \n",
       "\n",
       "  Loan_Amount  Loan_Period  Interest_Rate    EMI  Var1  Approved  \n",
       "0         NaN          NaN            NaN    NaN     0         0  \n",
       "1     20000.0          2.0          13.25  953.0    10         0  \n",
       "2     45000.0          4.0            NaN    NaN     0         0  \n",
       "3     92000.0          5.0            NaN    NaN     7         0  \n",
       "4     50000.0          2.0            NaN    NaN    10         0  \n",
       "\n",
       "[5 rows x 22 columns]"
      ]
     },
     "execution_count": 19,
     "metadata": {},
     "output_type": "execute_result"
    }
   ],
   "source": [
    "df_train_3.head(5)"
   ]
  },
  {
   "cell_type": "markdown",
   "id": "05539755-bb40-4ef2-bc5b-121aa04d178d",
   "metadata": {},
   "source": [
    "# 4. Added DOB_Year column. "
   ]
  },
  {
   "cell_type": "code",
   "execution_count": 20,
   "id": "e1117a51-8b73-462a-822f-bcb302b4732d",
   "metadata": {},
   "outputs": [
    {
     "name": "stderr",
     "output_type": "stream",
     "text": [
      "C:\\Users\\Dinesh\\AppData\\Local\\Temp\\ipykernel_19068\\336185426.py:1: SettingWithCopyWarning: \n",
      "A value is trying to be set on a copy of a slice from a DataFrame.\n",
      "Try using .loc[row_indexer,col_indexer] = value instead\n",
      "\n",
      "See the caveats in the documentation: https://pandas.pydata.org/pandas-docs/stable/user_guide/indexing.html#returning-a-view-versus-a-copy\n",
      "  df_train_3['DOB_Year'] = df_train_3['DOB'].str[:4]\n"
     ]
    }
   ],
   "source": [
    "df_train_3['DOB_Year'] = df_train_3['DOB'].str[:4]"
   ]
  },
  {
   "cell_type": "markdown",
   "id": "46e3c99d-65a2-491b-91ac-496b6b4bcc21",
   "metadata": {},
   "source": [
    "# 5. Removed DOB rows with NaN. "
   ]
  },
  {
   "cell_type": "code",
   "execution_count": 21,
   "id": "025310ce-e1bd-4fd4-8ed7-893a508606c1",
   "metadata": {},
   "outputs": [
    {
     "data": {
      "text/plain": [
       "ID                                         0\n",
       "Gender                                     0\n",
       "DOB                                        0\n",
       "Lead_Creation_Date                         0\n",
       "City_Code                                799\n",
       "City_Category                            799\n",
       "Employer_Code                           3986\n",
       "Employer_Category1                      3986\n",
       "Employer_Category2                      4256\n",
       "Monthly_Income                             0\n",
       "Customer_Existing_Primary_Bank_Code     9260\n",
       "Primary_Bank_Type                       9260\n",
       "Contacted                                  0\n",
       "Source                                     0\n",
       "Source_Category                            0\n",
       "Existing_EMI                              50\n",
       "Loan_Amount                            27513\n",
       "Loan_Period                            27513\n",
       "Interest_Rate                          46798\n",
       "EMI                                    46798\n",
       "Var1                                       0\n",
       "Approved                                   0\n",
       "DOB_Year                                   0\n",
       "dtype: int64"
      ]
     },
     "execution_count": 21,
     "metadata": {},
     "output_type": "execute_result"
    }
   ],
   "source": [
    "df_train_4 = df_train_3.dropna(subset=['DOB'])\n",
    "df_train_4.isnull().sum()"
   ]
  },
  {
   "cell_type": "code",
   "execution_count": null,
   "id": "3ac37214-27ee-4da1-aba7-7ff6d409d9c2",
   "metadata": {},
   "outputs": [],
   "source": []
  },
  {
   "cell_type": "code",
   "execution_count": null,
   "id": "68ca5abc-3265-4687-929e-1b731d9a0670",
   "metadata": {},
   "outputs": [],
   "source": []
  },
  {
   "cell_type": "code",
   "execution_count": null,
   "id": "b7a72a89-b1b8-4c6c-8997-7eaccd4c11e4",
   "metadata": {},
   "outputs": [],
   "source": []
  },
  {
   "cell_type": "code",
   "execution_count": null,
   "id": "638764a0-8ad7-4ee0-86c5-a8ebba222ea4",
   "metadata": {},
   "outputs": [],
   "source": []
  },
  {
   "cell_type": "code",
   "execution_count": null,
   "id": "7165d181-4c22-4d85-bd4e-b177d9c377a2",
   "metadata": {},
   "outputs": [],
   "source": []
  },
  {
   "cell_type": "code",
   "execution_count": null,
   "id": "2f0cf186-b827-48b6-8813-ef4ee15c9577",
   "metadata": {},
   "outputs": [],
   "source": []
  },
  {
   "cell_type": "code",
   "execution_count": null,
   "id": "0678d0f3-c732-4445-b97e-61f8f6f1978f",
   "metadata": {},
   "outputs": [],
   "source": []
  },
  {
   "cell_type": "code",
   "execution_count": null,
   "id": "7d923e5e-0e7b-42f1-84f9-d0e697a27ac9",
   "metadata": {},
   "outputs": [],
   "source": []
  },
  {
   "cell_type": "code",
   "execution_count": null,
   "id": "f88ec0ae-dcf1-4277-b1d3-4547a2373718",
   "metadata": {},
   "outputs": [],
   "source": []
  }
 ],
 "metadata": {
  "kernelspec": {
   "display_name": "Python 3 (ipykernel)",
   "language": "python",
   "name": "python3"
  },
  "language_info": {
   "codemirror_mode": {
    "name": "ipython",
    "version": 3
   },
   "file_extension": ".py",
   "mimetype": "text/x-python",
   "name": "python",
   "nbconvert_exporter": "python",
   "pygments_lexer": "ipython3",
   "version": "3.11.5"
  }
 },
 "nbformat": 4,
 "nbformat_minor": 5
}
