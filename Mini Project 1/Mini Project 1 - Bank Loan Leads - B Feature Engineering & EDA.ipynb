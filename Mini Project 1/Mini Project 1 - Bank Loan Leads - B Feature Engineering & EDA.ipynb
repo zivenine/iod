{
 "cells": [
  {
   "cell_type": "code",
   "execution_count": 33,
   "id": "3d677894-7025-45e9-881d-69785355faf9",
   "metadata": {},
   "outputs": [],
   "source": [
    "import pandas as pd\n",
    "import numpy as np\n",
    "import matplotlib.pyplot as plt\n",
    "import seaborn as sns\n",
    "from datetime import datetime\n",
    "\n",
    "pd.set_option('display.max_columns', None)"
   ]
  },
  {
   "cell_type": "code",
   "execution_count": 34,
   "id": "29fc6cbb-924d-46d2-b15e-eff68be858bc",
   "metadata": {},
   "outputs": [],
   "source": [
    "cleads = pd.read_csv(\"Bank Leads Cleaned.csv\")"
   ]
  },
  {
   "cell_type": "code",
   "execution_count": 35,
   "id": "4c8fda13-83f0-421f-a705-91043dcbfa5b",
   "metadata": {},
   "outputs": [
    {
     "name": "stdout",
     "output_type": "stream",
     "text": [
      "<class 'pandas.core.frame.DataFrame'>\n",
      "RangeIndex: 68797 entries, 0 to 68796\n",
      "Data columns (total 18 columns):\n",
      " #   Column                               Non-Null Count  Dtype  \n",
      "---  ------                               --------------  -----  \n",
      " 0   Gender                               68797 non-null  object \n",
      " 1   DOB                                  68797 non-null  object \n",
      " 2   Lead_Creation_Date                   68797 non-null  object \n",
      " 3   City_Code                            68797 non-null  object \n",
      " 4   City_Category                        68797 non-null  object \n",
      " 5   Employer_Category1                   68797 non-null  object \n",
      " 6   Employer_Category2                   68797 non-null  float64\n",
      " 7   Monthly_Income                       68797 non-null  float64\n",
      " 8   Customer_Existing_Primary_Bank_Code  68797 non-null  object \n",
      " 9   Primary_Bank_Type                    68797 non-null  object \n",
      " 10  Contacted                            68797 non-null  object \n",
      " 11  Source                               68797 non-null  object \n",
      " 12  Source_Category                      68797 non-null  object \n",
      " 13  Existing_EMI                         68797 non-null  float64\n",
      " 14  Loan_Amount                          68797 non-null  float64\n",
      " 15  Loan_Period                          68797 non-null  float64\n",
      " 16  Var1                                 68797 non-null  int64  \n",
      " 17  Approved                             68797 non-null  int64  \n",
      "dtypes: float64(5), int64(2), object(11)\n",
      "memory usage: 9.4+ MB\n"
     ]
    }
   ],
   "source": [
    "cleads.info()"
   ]
  },
  {
   "cell_type": "code",
   "execution_count": null,
   "id": "21f49d69-5020-419f-b37a-56610956dd51",
   "metadata": {},
   "outputs": [],
   "source": [
    "\n"
   ]
  },
  {
   "cell_type": "code",
   "execution_count": null,
   "id": "8c37d6fa-d3f3-4ad6-860f-d98c505fd0be",
   "metadata": {},
   "outputs": [],
   "source": []
  },
  {
   "cell_type": "code",
   "execution_count": null,
   "id": "2a6df64d-8b2e-4fd4-89d5-79cac2f2b8a4",
   "metadata": {},
   "outputs": [],
   "source": []
  },
  {
   "cell_type": "markdown",
   "id": "209283e8-60cb-4bf4-9380-d3a86e1355fa",
   "metadata": {},
   "source": [
    "# Feature Engineering"
   ]
  },
  {
   "cell_type": "markdown",
   "id": "5411005a-e2e0-4207-83f7-6c6cb5104396",
   "metadata": {},
   "source": [
    "## Add Age feature "
   ]
  },
  {
   "cell_type": "code",
   "execution_count": 36,
   "id": "449da82d-4d10-482b-8862-ece87762ab3d",
   "metadata": {},
   "outputs": [],
   "source": [
    "def age(births):\n",
    "    current_year = datetime.today().year\n",
    "    ages=[]\n",
    "    for x in births:\n",
    "        birth_year = datetime.strptime(str(x), \"%Y-%m-%d\").year\n",
    "        ages.append(current_year - birth_year)\n",
    "    return ages\n",
    "\n",
    "cleads['Age'] = age(cleads['DOB'])"
   ]
  },
  {
   "cell_type": "code",
   "execution_count": 37,
   "id": "fc7fe203-f6dc-4a0b-b60c-82eb9a3da898",
   "metadata": {},
   "outputs": [
    {
     "name": "stdout",
     "output_type": "stream",
     "text": [
      "<class 'pandas.core.frame.DataFrame'>\n",
      "RangeIndex: 68797 entries, 0 to 68796\n",
      "Data columns (total 19 columns):\n",
      " #   Column                               Non-Null Count  Dtype  \n",
      "---  ------                               --------------  -----  \n",
      " 0   Gender                               68797 non-null  object \n",
      " 1   DOB                                  68797 non-null  object \n",
      " 2   Lead_Creation_Date                   68797 non-null  object \n",
      " 3   City_Code                            68797 non-null  object \n",
      " 4   City_Category                        68797 non-null  object \n",
      " 5   Employer_Category1                   68797 non-null  object \n",
      " 6   Employer_Category2                   68797 non-null  float64\n",
      " 7   Monthly_Income                       68797 non-null  float64\n",
      " 8   Customer_Existing_Primary_Bank_Code  68797 non-null  object \n",
      " 9   Primary_Bank_Type                    68797 non-null  object \n",
      " 10  Contacted                            68797 non-null  object \n",
      " 11  Source                               68797 non-null  object \n",
      " 12  Source_Category                      68797 non-null  object \n",
      " 13  Existing_EMI                         68797 non-null  float64\n",
      " 14  Loan_Amount                          68797 non-null  float64\n",
      " 15  Loan_Period                          68797 non-null  float64\n",
      " 16  Var1                                 68797 non-null  int64  \n",
      " 17  Approved                             68797 non-null  int64  \n",
      " 18  Age                                  68797 non-null  int64  \n",
      "dtypes: float64(5), int64(3), object(11)\n",
      "memory usage: 10.0+ MB\n"
     ]
    }
   ],
   "source": [
    "cleads.info()"
   ]
  },
  {
   "cell_type": "code",
   "execution_count": 38,
   "id": "0dabefde-94fb-48f4-b3a2-2bbabe37cf09",
   "metadata": {},
   "outputs": [
    {
     "data": {
      "text/html": [
       "<div>\n",
       "<style scoped>\n",
       "    .dataframe tbody tr th:only-of-type {\n",
       "        vertical-align: middle;\n",
       "    }\n",
       "\n",
       "    .dataframe tbody tr th {\n",
       "        vertical-align: top;\n",
       "    }\n",
       "\n",
       "    .dataframe thead th {\n",
       "        text-align: right;\n",
       "    }\n",
       "</style>\n",
       "<table border=\"1\" class=\"dataframe\">\n",
       "  <thead>\n",
       "    <tr style=\"text-align: right;\">\n",
       "      <th></th>\n",
       "      <th>Employer_Category2</th>\n",
       "      <th>Monthly_Income</th>\n",
       "      <th>Existing_EMI</th>\n",
       "      <th>Loan_Amount</th>\n",
       "      <th>Loan_Period</th>\n",
       "      <th>Var1</th>\n",
       "      <th>Approved</th>\n",
       "      <th>Age</th>\n",
       "    </tr>\n",
       "  </thead>\n",
       "  <tbody>\n",
       "    <tr>\n",
       "      <th>count</th>\n",
       "      <td>68797.000000</td>\n",
       "      <td>68797.000000</td>\n",
       "      <td>68797.000000</td>\n",
       "      <td>68797.000000</td>\n",
       "      <td>68797.000000</td>\n",
       "      <td>68797.000000</td>\n",
       "      <td>68797.000000</td>\n",
       "      <td>68797.000000</td>\n",
       "    </tr>\n",
       "    <tr>\n",
       "      <th>mean</th>\n",
       "      <td>3.735948</td>\n",
       "      <td>3599.859583</td>\n",
       "      <td>348.049336</td>\n",
       "      <td>35692.762766</td>\n",
       "      <td>3.933471</td>\n",
       "      <td>3.989723</td>\n",
       "      <td>0.014754</td>\n",
       "      <td>34.936829</td>\n",
       "    </tr>\n",
       "    <tr>\n",
       "      <th>std</th>\n",
       "      <td>0.786844</td>\n",
       "      <td>4810.412524</td>\n",
       "      <td>938.597201</td>\n",
       "      <td>24304.447313</td>\n",
       "      <td>0.912540</td>\n",
       "      <td>3.815124</td>\n",
       "      <td>0.120566</td>\n",
       "      <td>15.667161</td>\n",
       "    </tr>\n",
       "    <tr>\n",
       "      <th>min</th>\n",
       "      <td>1.000000</td>\n",
       "      <td>0.000000</td>\n",
       "      <td>0.000000</td>\n",
       "      <td>5000.000000</td>\n",
       "      <td>1.000000</td>\n",
       "      <td>0.000000</td>\n",
       "      <td>0.000000</td>\n",
       "      <td>-44.000000</td>\n",
       "    </tr>\n",
       "    <tr>\n",
       "      <th>25%</th>\n",
       "      <td>4.000000</td>\n",
       "      <td>1640.000000</td>\n",
       "      <td>0.000000</td>\n",
       "      <td>29000.000000</td>\n",
       "      <td>4.000000</td>\n",
       "      <td>0.000000</td>\n",
       "      <td>0.000000</td>\n",
       "      <td>33.000000</td>\n",
       "    </tr>\n",
       "    <tr>\n",
       "      <th>50%</th>\n",
       "      <td>4.000000</td>\n",
       "      <td>2500.000000</td>\n",
       "      <td>0.000000</td>\n",
       "      <td>30000.000000</td>\n",
       "      <td>4.000000</td>\n",
       "      <td>2.000000</td>\n",
       "      <td>0.000000</td>\n",
       "      <td>37.000000</td>\n",
       "    </tr>\n",
       "    <tr>\n",
       "      <th>75%</th>\n",
       "      <td>4.000000</td>\n",
       "      <td>4000.000000</td>\n",
       "      <td>350.000000</td>\n",
       "      <td>36000.000000</td>\n",
       "      <td>4.000000</td>\n",
       "      <td>7.000000</td>\n",
       "      <td>0.000000</td>\n",
       "      <td>41.000000</td>\n",
       "    </tr>\n",
       "    <tr>\n",
       "      <th>max</th>\n",
       "      <td>4.000000</td>\n",
       "      <td>97500.000000</td>\n",
       "      <td>42000.000000</td>\n",
       "      <td>300000.000000</td>\n",
       "      <td>6.000000</td>\n",
       "      <td>10.000000</td>\n",
       "      <td>1.000000</td>\n",
       "      <td>55.000000</td>\n",
       "    </tr>\n",
       "  </tbody>\n",
       "</table>\n",
       "</div>"
      ],
      "text/plain": [
       "       Employer_Category2  Monthly_Income  Existing_EMI    Loan_Amount  \\\n",
       "count        68797.000000    68797.000000  68797.000000   68797.000000   \n",
       "mean             3.735948     3599.859583    348.049336   35692.762766   \n",
       "std              0.786844     4810.412524    938.597201   24304.447313   \n",
       "min              1.000000        0.000000      0.000000    5000.000000   \n",
       "25%              4.000000     1640.000000      0.000000   29000.000000   \n",
       "50%              4.000000     2500.000000      0.000000   30000.000000   \n",
       "75%              4.000000     4000.000000    350.000000   36000.000000   \n",
       "max              4.000000    97500.000000  42000.000000  300000.000000   \n",
       "\n",
       "        Loan_Period          Var1      Approved           Age  \n",
       "count  68797.000000  68797.000000  68797.000000  68797.000000  \n",
       "mean       3.933471      3.989723      0.014754     34.936829  \n",
       "std        0.912540      3.815124      0.120566     15.667161  \n",
       "min        1.000000      0.000000      0.000000    -44.000000  \n",
       "25%        4.000000      0.000000      0.000000     33.000000  \n",
       "50%        4.000000      2.000000      0.000000     37.000000  \n",
       "75%        4.000000      7.000000      0.000000     41.000000  \n",
       "max        6.000000     10.000000      1.000000     55.000000  "
      ]
     },
     "execution_count": 38,
     "metadata": {},
     "output_type": "execute_result"
    }
   ],
   "source": [
    "cleads.describe()"
   ]
  },
  {
   "cell_type": "code",
   "execution_count": 39,
   "id": "3d2e5881-bf8d-45a1-9c66-ba265960f6f9",
   "metadata": {},
   "outputs": [
    {
     "data": {
      "text/html": [
       "<div>\n",
       "<style scoped>\n",
       "    .dataframe tbody tr th:only-of-type {\n",
       "        vertical-align: middle;\n",
       "    }\n",
       "\n",
       "    .dataframe tbody tr th {\n",
       "        vertical-align: top;\n",
       "    }\n",
       "\n",
       "    .dataframe thead th {\n",
       "        text-align: right;\n",
       "    }\n",
       "</style>\n",
       "<table border=\"1\" class=\"dataframe\">\n",
       "  <thead>\n",
       "    <tr style=\"text-align: right;\">\n",
       "      <th></th>\n",
       "      <th>Gender</th>\n",
       "      <th>DOB</th>\n",
       "      <th>Lead_Creation_Date</th>\n",
       "      <th>City_Code</th>\n",
       "      <th>City_Category</th>\n",
       "      <th>Employer_Category1</th>\n",
       "      <th>Employer_Category2</th>\n",
       "      <th>Monthly_Income</th>\n",
       "      <th>Customer_Existing_Primary_Bank_Code</th>\n",
       "      <th>Primary_Bank_Type</th>\n",
       "      <th>Contacted</th>\n",
       "      <th>Source</th>\n",
       "      <th>Source_Category</th>\n",
       "      <th>Existing_EMI</th>\n",
       "      <th>Loan_Amount</th>\n",
       "      <th>Loan_Period</th>\n",
       "      <th>Var1</th>\n",
       "      <th>Approved</th>\n",
       "      <th>Age</th>\n",
       "    </tr>\n",
       "  </thead>\n",
       "  <tbody>\n",
       "    <tr>\n",
       "      <th>0</th>\n",
       "      <td>Female</td>\n",
       "      <td>1979-07-23</td>\n",
       "      <td>2016-07-15</td>\n",
       "      <td>C10001</td>\n",
       "      <td>A</td>\n",
       "      <td>A</td>\n",
       "      <td>4.0</td>\n",
       "      <td>2000.0</td>\n",
       "      <td>B001</td>\n",
       "      <td>P</td>\n",
       "      <td>N</td>\n",
       "      <td>S122</td>\n",
       "      <td>G</td>\n",
       "      <td>0.0</td>\n",
       "      <td>30000.0</td>\n",
       "      <td>4.0</td>\n",
       "      <td>0</td>\n",
       "      <td>0</td>\n",
       "      <td>45</td>\n",
       "    </tr>\n",
       "    <tr>\n",
       "      <th>1</th>\n",
       "      <td>Male</td>\n",
       "      <td>1986-12-07</td>\n",
       "      <td>2016-07-04</td>\n",
       "      <td>C10003</td>\n",
       "      <td>A</td>\n",
       "      <td>C</td>\n",
       "      <td>1.0</td>\n",
       "      <td>3500.0</td>\n",
       "      <td>B002</td>\n",
       "      <td>P</td>\n",
       "      <td>Y</td>\n",
       "      <td>S122</td>\n",
       "      <td>G</td>\n",
       "      <td>0.0</td>\n",
       "      <td>20000.0</td>\n",
       "      <td>2.0</td>\n",
       "      <td>10</td>\n",
       "      <td>0</td>\n",
       "      <td>38</td>\n",
       "    </tr>\n",
       "    <tr>\n",
       "      <th>2</th>\n",
       "      <td>Male</td>\n",
       "      <td>1982-12-10</td>\n",
       "      <td>2016-07-19</td>\n",
       "      <td>C10125</td>\n",
       "      <td>C</td>\n",
       "      <td>C</td>\n",
       "      <td>4.0</td>\n",
       "      <td>2250.0</td>\n",
       "      <td>B003</td>\n",
       "      <td>G</td>\n",
       "      <td>Y</td>\n",
       "      <td>S143</td>\n",
       "      <td>B</td>\n",
       "      <td>0.0</td>\n",
       "      <td>45000.0</td>\n",
       "      <td>4.0</td>\n",
       "      <td>0</td>\n",
       "      <td>0</td>\n",
       "      <td>42</td>\n",
       "    </tr>\n",
       "    <tr>\n",
       "      <th>3</th>\n",
       "      <td>Male</td>\n",
       "      <td>1989-01-30</td>\n",
       "      <td>2016-07-09</td>\n",
       "      <td>C10477</td>\n",
       "      <td>C</td>\n",
       "      <td>A</td>\n",
       "      <td>4.0</td>\n",
       "      <td>3500.0</td>\n",
       "      <td>B003</td>\n",
       "      <td>G</td>\n",
       "      <td>Y</td>\n",
       "      <td>S143</td>\n",
       "      <td>B</td>\n",
       "      <td>0.0</td>\n",
       "      <td>92000.0</td>\n",
       "      <td>5.0</td>\n",
       "      <td>7</td>\n",
       "      <td>0</td>\n",
       "      <td>35</td>\n",
       "    </tr>\n",
       "    <tr>\n",
       "      <th>4</th>\n",
       "      <td>Male</td>\n",
       "      <td>1985-04-19</td>\n",
       "      <td>2016-07-20</td>\n",
       "      <td>C10002</td>\n",
       "      <td>A</td>\n",
       "      <td>A</td>\n",
       "      <td>4.0</td>\n",
       "      <td>10000.0</td>\n",
       "      <td>B001</td>\n",
       "      <td>P</td>\n",
       "      <td>Y</td>\n",
       "      <td>S134</td>\n",
       "      <td>B</td>\n",
       "      <td>2500.0</td>\n",
       "      <td>50000.0</td>\n",
       "      <td>2.0</td>\n",
       "      <td>10</td>\n",
       "      <td>0</td>\n",
       "      <td>39</td>\n",
       "    </tr>\n",
       "  </tbody>\n",
       "</table>\n",
       "</div>"
      ],
      "text/plain": [
       "   Gender         DOB Lead_Creation_Date City_Code City_Category  \\\n",
       "0  Female  1979-07-23         2016-07-15    C10001             A   \n",
       "1    Male  1986-12-07         2016-07-04    C10003             A   \n",
       "2    Male  1982-12-10         2016-07-19    C10125             C   \n",
       "3    Male  1989-01-30         2016-07-09    C10477             C   \n",
       "4    Male  1985-04-19         2016-07-20    C10002             A   \n",
       "\n",
       "  Employer_Category1  Employer_Category2  Monthly_Income  \\\n",
       "0                  A                 4.0          2000.0   \n",
       "1                  C                 1.0          3500.0   \n",
       "2                  C                 4.0          2250.0   \n",
       "3                  A                 4.0          3500.0   \n",
       "4                  A                 4.0         10000.0   \n",
       "\n",
       "  Customer_Existing_Primary_Bank_Code Primary_Bank_Type Contacted Source  \\\n",
       "0                                B001                 P         N   S122   \n",
       "1                                B002                 P         Y   S122   \n",
       "2                                B003                 G         Y   S143   \n",
       "3                                B003                 G         Y   S143   \n",
       "4                                B001                 P         Y   S134   \n",
       "\n",
       "  Source_Category  Existing_EMI  Loan_Amount  Loan_Period  Var1  Approved  Age  \n",
       "0               G           0.0      30000.0          4.0     0         0   45  \n",
       "1               G           0.0      20000.0          2.0    10         0   38  \n",
       "2               B           0.0      45000.0          4.0     0         0   42  \n",
       "3               B           0.0      92000.0          5.0     7         0   35  \n",
       "4               B        2500.0      50000.0          2.0    10         0   39  "
      ]
     },
     "execution_count": 39,
     "metadata": {},
     "output_type": "execute_result"
    }
   ],
   "source": [
    "cleads.head()"
   ]
  },
  {
   "cell_type": "code",
   "execution_count": 40,
   "id": "72b10954-0de1-4885-be2f-eed3985ee6e4",
   "metadata": {},
   "outputs": [],
   "source": [
    "# ages can't be negative, there must be some incorrectly entered data, also the dates aren't datetime format"
   ]
  },
  {
   "cell_type": "code",
   "execution_count": 41,
   "id": "f8b67e0b-9bfc-4e8c-a310-9772d616df30",
   "metadata": {},
   "outputs": [],
   "source": [
    "dob = pd.to_datetime(cleads['DOB'], format=\"%Y-%m-%d\")\n",
    "cleads['DOB'] = dob"
   ]
  },
  {
   "cell_type": "code",
   "execution_count": 42,
   "id": "5cff7a8d-7602-4e12-b1f1-7236665f49db",
   "metadata": {},
   "outputs": [],
   "source": [
    "lead_date = pd.to_datetime(cleads['Lead_Creation_Date'], format=\"%Y-%m-%d\")\n",
    "cleads['Lead_Creation_Date'] = lead_date"
   ]
  },
  {
   "cell_type": "code",
   "execution_count": 43,
   "id": "76cb5c91-c43e-44bd-b12a-220cec676208",
   "metadata": {},
   "outputs": [
    {
     "name": "stdout",
     "output_type": "stream",
     "text": [
      "<class 'pandas.core.frame.DataFrame'>\n",
      "RangeIndex: 68797 entries, 0 to 68796\n",
      "Data columns (total 19 columns):\n",
      " #   Column                               Non-Null Count  Dtype         \n",
      "---  ------                               --------------  -----         \n",
      " 0   Gender                               68797 non-null  object        \n",
      " 1   DOB                                  68797 non-null  datetime64[ns]\n",
      " 2   Lead_Creation_Date                   68797 non-null  datetime64[ns]\n",
      " 3   City_Code                            68797 non-null  object        \n",
      " 4   City_Category                        68797 non-null  object        \n",
      " 5   Employer_Category1                   68797 non-null  object        \n",
      " 6   Employer_Category2                   68797 non-null  float64       \n",
      " 7   Monthly_Income                       68797 non-null  float64       \n",
      " 8   Customer_Existing_Primary_Bank_Code  68797 non-null  object        \n",
      " 9   Primary_Bank_Type                    68797 non-null  object        \n",
      " 10  Contacted                            68797 non-null  object        \n",
      " 11  Source                               68797 non-null  object        \n",
      " 12  Source_Category                      68797 non-null  object        \n",
      " 13  Existing_EMI                         68797 non-null  float64       \n",
      " 14  Loan_Amount                          68797 non-null  float64       \n",
      " 15  Loan_Period                          68797 non-null  float64       \n",
      " 16  Var1                                 68797 non-null  int64         \n",
      " 17  Approved                             68797 non-null  int64         \n",
      " 18  Age                                  68797 non-null  int64         \n",
      "dtypes: datetime64[ns](2), float64(5), int64(3), object(9)\n",
      "memory usage: 10.0+ MB\n"
     ]
    }
   ],
   "source": [
    "cleads.info()"
   ]
  },
  {
   "cell_type": "code",
   "execution_count": 44,
   "id": "f9d4a39f-6001-4781-96f2-b4bea2bc1f25",
   "metadata": {},
   "outputs": [],
   "source": [
    "cleads['DOB_Year'] = cleads['DOB'].dt.year"
   ]
  },
  {
   "cell_type": "code",
   "execution_count": 45,
   "id": "3e3c9937-e3eb-49c3-8a3d-0455f8d83512",
   "metadata": {},
   "outputs": [
    {
     "data": {
      "text/plain": [
       "(2598, 20)"
      ]
     },
     "execution_count": 45,
     "metadata": {},
     "output_type": "execute_result"
    }
   ],
   "source": [
    "wrong_ages = cleads[cleads['Age'] < 0]\n",
    "wrong_ages.shape"
   ]
  },
  {
   "cell_type": "code",
   "execution_count": 46,
   "id": "c5d095dd-7e70-4fa3-b108-d17faf5d3769",
   "metadata": {},
   "outputs": [
    {
     "data": {
      "image/png": "[encoded data removed]",
      "text/plain": [
       "<Figure size 1500x400 with 1 Axes>"
      ]
     },
     "metadata": {},
     "output_type": "display_data"
    }
   ],
   "source": [
    "plt.figure(figsize=(15,4))\n",
    "plt.scatter(x=wrong_ages['DOB_Year'], y=wrong_ages['Approved'])\n",
    "plt.show()"
   ]
  },
  {
   "cell_type": "code",
   "execution_count": 47,
   "id": "a07aa55d-edd7-413a-8c00-628b846bd464",
   "metadata": {},
   "outputs": [],
   "source": [
    "dob_2000 = cleads[cleads['DOB'] > \"2000-01-01\"]"
   ]
  },
  {
   "cell_type": "code",
   "execution_count": 48,
   "id": "3a6549dc-5421-428c-8279-6c733ddefc7f",
   "metadata": {},
   "outputs": [
    {
     "data": {
      "text/plain": [
       "(2598, 20)"
      ]
     },
     "execution_count": 48,
     "metadata": {},
     "output_type": "execute_result"
    }
   ],
   "source": [
    "dob_2000.shape"
   ]
  },
  {
   "cell_type": "code",
   "execution_count": 49,
   "id": "540d7ac2-1792-450a-938e-8c63fd0e574d",
   "metadata": {},
   "outputs": [],
   "source": [
    "# Can't delete the rows, they have too many Approved, we have to correct them. It looks like\n",
    "# they're incorrectly entered. I will replace any 20-- with a 19--. "
   ]
  },
  {
   "cell_type": "code",
   "execution_count": 50,
   "id": "22651180-16a6-4900-89fb-a798f410901d",
   "metadata": {},
   "outputs": [
    {
     "data": {
      "text/html": [
       "<div>\n",
       "<style scoped>\n",
       "    .dataframe tbody tr th:only-of-type {\n",
       "        vertical-align: middle;\n",
       "    }\n",
       "\n",
       "    .dataframe tbody tr th {\n",
       "        vertical-align: top;\n",
       "    }\n",
       "\n",
       "    .dataframe thead th {\n",
       "        text-align: right;\n",
       "    }\n",
       "</style>\n",
       "<table border=\"1\" class=\"dataframe\">\n",
       "  <thead>\n",
       "    <tr style=\"text-align: right;\">\n",
       "      <th></th>\n",
       "      <th>Gender</th>\n",
       "      <th>DOB</th>\n",
       "      <th>Lead_Creation_Date</th>\n",
       "      <th>City_Code</th>\n",
       "      <th>City_Category</th>\n",
       "      <th>Employer_Category1</th>\n",
       "      <th>Employer_Category2</th>\n",
       "      <th>Monthly_Income</th>\n",
       "      <th>Customer_Existing_Primary_Bank_Code</th>\n",
       "      <th>Primary_Bank_Type</th>\n",
       "      <th>Contacted</th>\n",
       "      <th>Source</th>\n",
       "      <th>Source_Category</th>\n",
       "      <th>Existing_EMI</th>\n",
       "      <th>Loan_Amount</th>\n",
       "      <th>Loan_Period</th>\n",
       "      <th>Var1</th>\n",
       "      <th>Approved</th>\n",
       "      <th>Age</th>\n",
       "      <th>DOB_Year</th>\n",
       "    </tr>\n",
       "  </thead>\n",
       "  <tbody>\n",
       "    <tr>\n",
       "      <th>0</th>\n",
       "      <td>Female</td>\n",
       "      <td>1979-07-23</td>\n",
       "      <td>2016-07-15</td>\n",
       "      <td>C10001</td>\n",
       "      <td>A</td>\n",
       "      <td>A</td>\n",
       "      <td>4.0</td>\n",
       "      <td>2000.0</td>\n",
       "      <td>B001</td>\n",
       "      <td>P</td>\n",
       "      <td>N</td>\n",
       "      <td>S122</td>\n",
       "      <td>G</td>\n",
       "      <td>0.0</td>\n",
       "      <td>30000.0</td>\n",
       "      <td>4.0</td>\n",
       "      <td>0</td>\n",
       "      <td>0</td>\n",
       "      <td>45</td>\n",
       "      <td>1979</td>\n",
       "    </tr>\n",
       "    <tr>\n",
       "      <th>1</th>\n",
       "      <td>Male</td>\n",
       "      <td>1986-12-07</td>\n",
       "      <td>2016-07-04</td>\n",
       "      <td>C10003</td>\n",
       "      <td>A</td>\n",
       "      <td>C</td>\n",
       "      <td>1.0</td>\n",
       "      <td>3500.0</td>\n",
       "      <td>B002</td>\n",
       "      <td>P</td>\n",
       "      <td>Y</td>\n",
       "      <td>S122</td>\n",
       "      <td>G</td>\n",
       "      <td>0.0</td>\n",
       "      <td>20000.0</td>\n",
       "      <td>2.0</td>\n",
       "      <td>10</td>\n",
       "      <td>0</td>\n",
       "      <td>38</td>\n",
       "      <td>1986</td>\n",
       "    </tr>\n",
       "    <tr>\n",
       "      <th>2</th>\n",
       "      <td>Male</td>\n",
       "      <td>1982-12-10</td>\n",
       "      <td>2016-07-19</td>\n",
       "      <td>C10125</td>\n",
       "      <td>C</td>\n",
       "      <td>C</td>\n",
       "      <td>4.0</td>\n",
       "      <td>2250.0</td>\n",
       "      <td>B003</td>\n",
       "      <td>G</td>\n",
       "      <td>Y</td>\n",
       "      <td>S143</td>\n",
       "      <td>B</td>\n",
       "      <td>0.0</td>\n",
       "      <td>45000.0</td>\n",
       "      <td>4.0</td>\n",
       "      <td>0</td>\n",
       "      <td>0</td>\n",
       "      <td>42</td>\n",
       "      <td>1982</td>\n",
       "    </tr>\n",
       "    <tr>\n",
       "      <th>3</th>\n",
       "      <td>Male</td>\n",
       "      <td>1989-01-30</td>\n",
       "      <td>2016-07-09</td>\n",
       "      <td>C10477</td>\n",
       "      <td>C</td>\n",
       "      <td>A</td>\n",
       "      <td>4.0</td>\n",
       "      <td>3500.0</td>\n",
       "      <td>B003</td>\n",
       "      <td>G</td>\n",
       "      <td>Y</td>\n",
       "      <td>S143</td>\n",
       "      <td>B</td>\n",
       "      <td>0.0</td>\n",
       "      <td>92000.0</td>\n",
       "      <td>5.0</td>\n",
       "      <td>7</td>\n",
       "      <td>0</td>\n",
       "      <td>35</td>\n",
       "      <td>1989</td>\n",
       "    </tr>\n",
       "    <tr>\n",
       "      <th>4</th>\n",
       "      <td>Male</td>\n",
       "      <td>1985-04-19</td>\n",
       "      <td>2016-07-20</td>\n",
       "      <td>C10002</td>\n",
       "      <td>A</td>\n",
       "      <td>A</td>\n",
       "      <td>4.0</td>\n",
       "      <td>10000.0</td>\n",
       "      <td>B001</td>\n",
       "      <td>P</td>\n",
       "      <td>Y</td>\n",
       "      <td>S134</td>\n",
       "      <td>B</td>\n",
       "      <td>2500.0</td>\n",
       "      <td>50000.0</td>\n",
       "      <td>2.0</td>\n",
       "      <td>10</td>\n",
       "      <td>0</td>\n",
       "      <td>39</td>\n",
       "      <td>1985</td>\n",
       "    </tr>\n",
       "    <tr>\n",
       "      <th>...</th>\n",
       "      <td>...</td>\n",
       "      <td>...</td>\n",
       "      <td>...</td>\n",
       "      <td>...</td>\n",
       "      <td>...</td>\n",
       "      <td>...</td>\n",
       "      <td>...</td>\n",
       "      <td>...</td>\n",
       "      <td>...</td>\n",
       "      <td>...</td>\n",
       "      <td>...</td>\n",
       "      <td>...</td>\n",
       "      <td>...</td>\n",
       "      <td>...</td>\n",
       "      <td>...</td>\n",
       "      <td>...</td>\n",
       "      <td>...</td>\n",
       "      <td>...</td>\n",
       "      <td>...</td>\n",
       "      <td>...</td>\n",
       "    </tr>\n",
       "    <tr>\n",
       "      <th>68792</th>\n",
       "      <td>Female</td>\n",
       "      <td>1983-07-31</td>\n",
       "      <td>2016-09-30</td>\n",
       "      <td>C10006</td>\n",
       "      <td>A</td>\n",
       "      <td>A</td>\n",
       "      <td>1.0</td>\n",
       "      <td>4900.0</td>\n",
       "      <td>B002</td>\n",
       "      <td>P</td>\n",
       "      <td>N</td>\n",
       "      <td>S122</td>\n",
       "      <td>G</td>\n",
       "      <td>0.0</td>\n",
       "      <td>30000.0</td>\n",
       "      <td>4.0</td>\n",
       "      <td>10</td>\n",
       "      <td>0</td>\n",
       "      <td>41</td>\n",
       "      <td>1983</td>\n",
       "    </tr>\n",
       "    <tr>\n",
       "      <th>68793</th>\n",
       "      <td>Female</td>\n",
       "      <td>1971-01-27</td>\n",
       "      <td>2016-09-30</td>\n",
       "      <td>C10116</td>\n",
       "      <td>C</td>\n",
       "      <td>A</td>\n",
       "      <td>4.0</td>\n",
       "      <td>7190.1</td>\n",
       "      <td>B002</td>\n",
       "      <td>P</td>\n",
       "      <td>N</td>\n",
       "      <td>S122</td>\n",
       "      <td>G</td>\n",
       "      <td>1450.0</td>\n",
       "      <td>30000.0</td>\n",
       "      <td>4.0</td>\n",
       "      <td>7</td>\n",
       "      <td>0</td>\n",
       "      <td>53</td>\n",
       "      <td>1971</td>\n",
       "    </tr>\n",
       "    <tr>\n",
       "      <th>68794</th>\n",
       "      <td>Female</td>\n",
       "      <td>1992-02-01</td>\n",
       "      <td>2016-09-30</td>\n",
       "      <td>C10022</td>\n",
       "      <td>B</td>\n",
       "      <td>C</td>\n",
       "      <td>4.0</td>\n",
       "      <td>1600.0</td>\n",
       "      <td>B030</td>\n",
       "      <td>P</td>\n",
       "      <td>Y</td>\n",
       "      <td>S122</td>\n",
       "      <td>G</td>\n",
       "      <td>0.0</td>\n",
       "      <td>24000.0</td>\n",
       "      <td>4.0</td>\n",
       "      <td>2</td>\n",
       "      <td>0</td>\n",
       "      <td>32</td>\n",
       "      <td>1992</td>\n",
       "    </tr>\n",
       "    <tr>\n",
       "      <th>68795</th>\n",
       "      <td>Male</td>\n",
       "      <td>1978-06-27</td>\n",
       "      <td>2016-09-30</td>\n",
       "      <td>C10002</td>\n",
       "      <td>A</td>\n",
       "      <td>C</td>\n",
       "      <td>3.0</td>\n",
       "      <td>9893.0</td>\n",
       "      <td>B002</td>\n",
       "      <td>P</td>\n",
       "      <td>Y</td>\n",
       "      <td>S122</td>\n",
       "      <td>G</td>\n",
       "      <td>1366.0</td>\n",
       "      <td>80000.0</td>\n",
       "      <td>5.0</td>\n",
       "      <td>10</td>\n",
       "      <td>0</td>\n",
       "      <td>46</td>\n",
       "      <td>1978</td>\n",
       "    </tr>\n",
       "    <tr>\n",
       "      <th>68796</th>\n",
       "      <td>Male</td>\n",
       "      <td>1989-12-31</td>\n",
       "      <td>2016-09-30</td>\n",
       "      <td>C10003</td>\n",
       "      <td>A</td>\n",
       "      <td>A</td>\n",
       "      <td>1.0</td>\n",
       "      <td>4230.0</td>\n",
       "      <td>B001</td>\n",
       "      <td>P</td>\n",
       "      <td>Y</td>\n",
       "      <td>S122</td>\n",
       "      <td>G</td>\n",
       "      <td>0.0</td>\n",
       "      <td>69000.0</td>\n",
       "      <td>4.0</td>\n",
       "      <td>10</td>\n",
       "      <td>0</td>\n",
       "      <td>35</td>\n",
       "      <td>1989</td>\n",
       "    </tr>\n",
       "  </tbody>\n",
       "</table>\n",
       "<p>68797 rows × 20 columns</p>\n",
       "</div>"
      ],
      "text/plain": [
       "       Gender        DOB Lead_Creation_Date City_Code City_Category  \\\n",
       "0      Female 1979-07-23         2016-07-15    C10001             A   \n",
       "1        Male 1986-12-07         2016-07-04    C10003             A   \n",
       "2        Male 1982-12-10         2016-07-19    C10125             C   \n",
       "3        Male 1989-01-30         2016-07-09    C10477             C   \n",
       "4        Male 1985-04-19         2016-07-20    C10002             A   \n",
       "...       ...        ...                ...       ...           ...   \n",
       "68792  Female 1983-07-31         2016-09-30    C10006             A   \n",
       "68793  Female 1971-01-27         2016-09-30    C10116             C   \n",
       "68794  Female 1992-02-01         2016-09-30    C10022             B   \n",
       "68795    Male 1978-06-27         2016-09-30    C10002             A   \n",
       "68796    Male 1989-12-31         2016-09-30    C10003             A   \n",
       "\n",
       "      Employer_Category1  Employer_Category2  Monthly_Income  \\\n",
       "0                      A                 4.0          2000.0   \n",
       "1                      C                 1.0          3500.0   \n",
       "2                      C                 4.0          2250.0   \n",
       "3                      A                 4.0          3500.0   \n",
       "4                      A                 4.0         10000.0   \n",
       "...                  ...                 ...             ...   \n",
       "68792                  A                 1.0          4900.0   \n",
       "68793                  A                 4.0          7190.1   \n",
       "68794                  C                 4.0          1600.0   \n",
       "68795                  C                 3.0          9893.0   \n",
       "68796                  A                 1.0          4230.0   \n",
       "\n",
       "      Customer_Existing_Primary_Bank_Code Primary_Bank_Type Contacted Source  \\\n",
       "0                                    B001                 P         N   S122   \n",
       "1                                    B002                 P         Y   S122   \n",
       "2                                    B003                 G         Y   S143   \n",
       "3                                    B003                 G         Y   S143   \n",
       "4                                    B001                 P         Y   S134   \n",
       "...                                   ...               ...       ...    ...   \n",
       "68792                                B002                 P         N   S122   \n",
       "68793                                B002                 P         N   S122   \n",
       "68794                                B030                 P         Y   S122   \n",
       "68795                                B002                 P         Y   S122   \n",
       "68796                                B001                 P         Y   S122   \n",
       "\n",
       "      Source_Category  Existing_EMI  Loan_Amount  Loan_Period  Var1  Approved  \\\n",
       "0                   G           0.0      30000.0          4.0     0         0   \n",
       "1                   G           0.0      20000.0          2.0    10         0   \n",
       "2                   B           0.0      45000.0          4.0     0         0   \n",
       "3                   B           0.0      92000.0          5.0     7         0   \n",
       "4                   B        2500.0      50000.0          2.0    10         0   \n",
       "...               ...           ...          ...          ...   ...       ...   \n",
       "68792               G           0.0      30000.0          4.0    10         0   \n",
       "68793               G        1450.0      30000.0          4.0     7         0   \n",
       "68794               G           0.0      24000.0          4.0     2         0   \n",
       "68795               G        1366.0      80000.0          5.0    10         0   \n",
       "68796               G           0.0      69000.0          4.0    10         0   \n",
       "\n",
       "       Age  DOB_Year  \n",
       "0       45      1979  \n",
       "1       38      1986  \n",
       "2       42      1982  \n",
       "3       35      1989  \n",
       "4       39      1985  \n",
       "...    ...       ...  \n",
       "68792   41      1983  \n",
       "68793   53      1971  \n",
       "68794   32      1992  \n",
       "68795   46      1978  \n",
       "68796   35      1989  \n",
       "\n",
       "[68797 rows x 20 columns]"
      ]
     },
     "execution_count": 50,
     "metadata": {},
     "output_type": "execute_result"
    }
   ],
   "source": [
    "def fix_dob(data):\n",
    "    for idx, row in data.iterrows():\n",
    "        if row['DOB'] > pd.Timestamp(\"2000-01-01\"):\n",
    "            data.at[idx, 'DOB'] = row['DOB'] - pd.DateOffset(years=100)\n",
    "\n",
    "    return data\n",
    "\n",
    "fix_dob(cleads)\n"
   ]
  },
  {
   "cell_type": "code",
   "execution_count": 51,
   "id": "0735fd8c-c506-47b5-a339-0a9ea86ccbb1",
   "metadata": {},
   "outputs": [
    {
     "data": {
      "text/html": [
       "<div>\n",
       "<style scoped>\n",
       "    .dataframe tbody tr th:only-of-type {\n",
       "        vertical-align: middle;\n",
       "    }\n",
       "\n",
       "    .dataframe tbody tr th {\n",
       "        vertical-align: top;\n",
       "    }\n",
       "\n",
       "    .dataframe thead th {\n",
       "        text-align: right;\n",
       "    }\n",
       "</style>\n",
       "<table border=\"1\" class=\"dataframe\">\n",
       "  <thead>\n",
       "    <tr style=\"text-align: right;\">\n",
       "      <th></th>\n",
       "      <th>DOB</th>\n",
       "      <th>Lead_Creation_Date</th>\n",
       "      <th>Employer_Category2</th>\n",
       "      <th>Monthly_Income</th>\n",
       "      <th>Existing_EMI</th>\n",
       "      <th>Loan_Amount</th>\n",
       "      <th>Loan_Period</th>\n",
       "      <th>Var1</th>\n",
       "      <th>Approved</th>\n",
       "      <th>Age</th>\n",
       "      <th>DOB_Year</th>\n",
       "    </tr>\n",
       "  </thead>\n",
       "  <tbody>\n",
       "    <tr>\n",
       "      <th>count</th>\n",
       "      <td>68797</td>\n",
       "      <td>68797</td>\n",
       "      <td>68797.000000</td>\n",
       "      <td>68797.000000</td>\n",
       "      <td>68797.000000</td>\n",
       "      <td>68797.000000</td>\n",
       "      <td>68797.000000</td>\n",
       "      <td>68797.000000</td>\n",
       "      <td>68797.000000</td>\n",
       "      <td>68797.000000</td>\n",
       "      <td>68797.000000</td>\n",
       "    </tr>\n",
       "    <tr>\n",
       "      <th>mean</th>\n",
       "      <td>1985-10-15 16:20:34.937569920</td>\n",
       "      <td>2016-08-17 12:55:19.888948480</td>\n",
       "      <td>3.735948</td>\n",
       "      <td>3599.859583</td>\n",
       "      <td>348.049336</td>\n",
       "      <td>35692.762766</td>\n",
       "      <td>3.933471</td>\n",
       "      <td>3.989723</td>\n",
       "      <td>0.014754</td>\n",
       "      <td>34.936829</td>\n",
       "      <td>1989.063171</td>\n",
       "    </tr>\n",
       "    <tr>\n",
       "      <th>min</th>\n",
       "      <td>1930-07-24 00:00:00</td>\n",
       "      <td>2016-07-01 00:00:00</td>\n",
       "      <td>1.000000</td>\n",
       "      <td>0.000000</td>\n",
       "      <td>0.000000</td>\n",
       "      <td>5000.000000</td>\n",
       "      <td>1.000000</td>\n",
       "      <td>0.000000</td>\n",
       "      <td>0.000000</td>\n",
       "      <td>-44.000000</td>\n",
       "      <td>1969.000000</td>\n",
       "    </tr>\n",
       "    <tr>\n",
       "      <th>25%</th>\n",
       "      <td>1982-11-25 00:00:00</td>\n",
       "      <td>2016-07-25 00:00:00</td>\n",
       "      <td>4.000000</td>\n",
       "      <td>1640.000000</td>\n",
       "      <td>0.000000</td>\n",
       "      <td>29000.000000</td>\n",
       "      <td>4.000000</td>\n",
       "      <td>0.000000</td>\n",
       "      <td>0.000000</td>\n",
       "      <td>33.000000</td>\n",
       "      <td>1983.000000</td>\n",
       "    </tr>\n",
       "    <tr>\n",
       "      <th>50%</th>\n",
       "      <td>1987-06-02 00:00:00</td>\n",
       "      <td>2016-08-19 00:00:00</td>\n",
       "      <td>4.000000</td>\n",
       "      <td>2500.000000</td>\n",
       "      <td>0.000000</td>\n",
       "      <td>30000.000000</td>\n",
       "      <td>4.000000</td>\n",
       "      <td>2.000000</td>\n",
       "      <td>0.000000</td>\n",
       "      <td>37.000000</td>\n",
       "      <td>1987.000000</td>\n",
       "    </tr>\n",
       "    <tr>\n",
       "      <th>75%</th>\n",
       "      <td>1990-08-03 00:00:00</td>\n",
       "      <td>2016-09-09 00:00:00</td>\n",
       "      <td>4.000000</td>\n",
       "      <td>4000.000000</td>\n",
       "      <td>350.000000</td>\n",
       "      <td>36000.000000</td>\n",
       "      <td>4.000000</td>\n",
       "      <td>7.000000</td>\n",
       "      <td>0.000000</td>\n",
       "      <td>41.000000</td>\n",
       "      <td>1991.000000</td>\n",
       "    </tr>\n",
       "    <tr>\n",
       "      <th>max</th>\n",
       "      <td>1999-02-24 00:00:00</td>\n",
       "      <td>2016-09-30 00:00:00</td>\n",
       "      <td>4.000000</td>\n",
       "      <td>97500.000000</td>\n",
       "      <td>42000.000000</td>\n",
       "      <td>300000.000000</td>\n",
       "      <td>6.000000</td>\n",
       "      <td>10.000000</td>\n",
       "      <td>1.000000</td>\n",
       "      <td>55.000000</td>\n",
       "      <td>2068.000000</td>\n",
       "    </tr>\n",
       "    <tr>\n",
       "      <th>std</th>\n",
       "      <td>NaN</td>\n",
       "      <td>NaN</td>\n",
       "      <td>0.786844</td>\n",
       "      <td>4810.412524</td>\n",
       "      <td>938.597201</td>\n",
       "      <td>24304.447313</td>\n",
       "      <td>0.912540</td>\n",
       "      <td>3.815124</td>\n",
       "      <td>0.120566</td>\n",
       "      <td>15.667161</td>\n",
       "      <td>15.667161</td>\n",
       "    </tr>\n",
       "  </tbody>\n",
       "</table>\n",
       "</div>"
      ],
      "text/plain": [
       "                                 DOB             Lead_Creation_Date  \\\n",
       "count                          68797                          68797   \n",
       "mean   1985-10-15 16:20:34.937569920  2016-08-17 12:55:19.888948480   \n",
       "min              1930-07-24 00:00:00            2016-07-01 00:00:00   \n",
       "25%              1982-11-25 00:00:00            2016-07-25 00:00:00   \n",
       "50%              1987-06-02 00:00:00            2016-08-19 00:00:00   \n",
       "75%              1990-08-03 00:00:00            2016-09-09 00:00:00   \n",
       "max              1999-02-24 00:00:00            2016-09-30 00:00:00   \n",
       "std                              NaN                            NaN   \n",
       "\n",
       "       Employer_Category2  Monthly_Income  Existing_EMI    Loan_Amount  \\\n",
       "count        68797.000000    68797.000000  68797.000000   68797.000000   \n",
       "mean             3.735948     3599.859583    348.049336   35692.762766   \n",
       "min              1.000000        0.000000      0.000000    5000.000000   \n",
       "25%              4.000000     1640.000000      0.000000   29000.000000   \n",
       "50%              4.000000     2500.000000      0.000000   30000.000000   \n",
       "75%              4.000000     4000.000000    350.000000   36000.000000   \n",
       "max              4.000000    97500.000000  42000.000000  300000.000000   \n",
       "std              0.786844     4810.412524    938.597201   24304.447313   \n",
       "\n",
       "        Loan_Period          Var1      Approved           Age      DOB_Year  \n",
       "count  68797.000000  68797.000000  68797.000000  68797.000000  68797.000000  \n",
       "mean       3.933471      3.989723      0.014754     34.936829   1989.063171  \n",
       "min        1.000000      0.000000      0.000000    -44.000000   1969.000000  \n",
       "25%        4.000000      0.000000      0.000000     33.000000   1983.000000  \n",
       "50%        4.000000      2.000000      0.000000     37.000000   1987.000000  \n",
       "75%        4.000000      7.000000      0.000000     41.000000   1991.000000  \n",
       "max        6.000000     10.000000      1.000000     55.000000   2068.000000  \n",
       "std        0.912540      3.815124      0.120566     15.667161     15.667161  "
      ]
     },
     "execution_count": 51,
     "metadata": {},
     "output_type": "execute_result"
    }
   ],
   "source": [
    "cleads.describe()"
   ]
  },
  {
   "cell_type": "code",
   "execution_count": 52,
   "id": "1f110ab5-d4d1-41b4-9070-7ce358010dcd",
   "metadata": {},
   "outputs": [],
   "source": [
    "# Redo Age column"
   ]
  },
  {
   "cell_type": "code",
   "execution_count": 53,
   "id": "ac735f44-c86f-40fe-8399-dad3e2e0a995",
   "metadata": {},
   "outputs": [],
   "source": [
    "def age(births):\n",
    "    current_year = datetime.today().year\n",
    "    ages=[]\n",
    "    for x in births:\n",
    "        birth_year = x.year\n",
    "        ages.append(current_year - birth_year)\n",
    "    return ages\n",
    "\n",
    "cleads['Age'] = age(cleads['DOB'])"
   ]
  },
  {
   "cell_type": "code",
   "execution_count": 54,
   "id": "dda81490-d084-4b93-b94d-ffc41880586e",
   "metadata": {},
   "outputs": [
    {
     "data": {
      "text/plain": [
       "count    68797.000000\n",
       "mean        38.713156\n",
       "std          7.070241\n",
       "min         25.000000\n",
       "25%         34.000000\n",
       "50%         37.000000\n",
       "75%         42.000000\n",
       "max         94.000000\n",
       "Name: Age, dtype: float64"
      ]
     },
     "execution_count": 54,
     "metadata": {},
     "output_type": "execute_result"
    }
   ],
   "source": [
    "cleads['Age'].describe()"
   ]
  },
  {
   "cell_type": "code",
   "execution_count": null,
   "id": "8497e64e-bfe6-4322-9c59-4eb375d41648",
   "metadata": {},
   "outputs": [],
   "source": []
  },
  {
   "cell_type": "markdown",
   "id": "d40f99ab-a335-433d-9adf-47639ded25c5",
   "metadata": {},
   "source": [
    "## Add Lead_Creation month, day, day of week"
   ]
  },
  {
   "cell_type": "code",
   "execution_count": 55,
   "id": "c4358ecc-8e3c-4bf1-870d-88c1ed03c111",
   "metadata": {},
   "outputs": [],
   "source": [
    "def create_month(lead_creation_date):\n",
    "    months = []\n",
    "    for x in lead_creation_date:\n",
    "        months.append(x.month)\n",
    "    return months\n",
    "    \n",
    "cleads['Lead_Creation_Month'] = create_month(cleads['Lead_Creation_Date'])"
   ]
  },
  {
   "cell_type": "code",
   "execution_count": 56,
   "id": "ca83d067-9dc4-402b-a0e4-e10e4c1f7d60",
   "metadata": {},
   "outputs": [],
   "source": [
    "def create_day(lead_creation_date):\n",
    "    days = []\n",
    "    for x in lead_creation_date:\n",
    "        days.append(x.day)\n",
    "    return days\n",
    "    \n",
    "cleads['Lead_Creation_Day'] = create_day(cleads['Lead_Creation_Date'])"
   ]
  },
  {
   "cell_type": "code",
   "execution_count": 57,
   "id": "b75be422-0046-4007-9ba7-713555fb4de8",
   "metadata": {},
   "outputs": [],
   "source": [
    "def create_day_week(lead_creation_date):\n",
    "    day_weeks = []\n",
    "    for x in lead_creation_date:\n",
    "        day_weeks.append(x.weekday())\n",
    "    return day_weeks\n",
    "    \n",
    "# cleads['Lead_Creation_Day_of_Week'] = create_day_week(cleads['Lead_Creation_Date'])\n",
    "cleads['Lead_Creation_Day_of_Week'] = create_day_week(cleads['Lead_Creation_Date'])"
   ]
  },
  {
   "cell_type": "code",
   "execution_count": 58,
   "id": "c2c4222c-644e-4bde-afc8-2195a773edb9",
   "metadata": {},
   "outputs": [
    {
     "data": {
      "text/html": [
       "<div>\n",
       "<style scoped>\n",
       "    .dataframe tbody tr th:only-of-type {\n",
       "        vertical-align: middle;\n",
       "    }\n",
       "\n",
       "    .dataframe tbody tr th {\n",
       "        vertical-align: top;\n",
       "    }\n",
       "\n",
       "    .dataframe thead th {\n",
       "        text-align: right;\n",
       "    }\n",
       "</style>\n",
       "<table border=\"1\" class=\"dataframe\">\n",
       "  <thead>\n",
       "    <tr style=\"text-align: right;\">\n",
       "      <th></th>\n",
       "      <th>Gender</th>\n",
       "      <th>DOB</th>\n",
       "      <th>Lead_Creation_Date</th>\n",
       "      <th>City_Code</th>\n",
       "      <th>City_Category</th>\n",
       "      <th>Employer_Category1</th>\n",
       "      <th>Employer_Category2</th>\n",
       "      <th>Monthly_Income</th>\n",
       "      <th>Customer_Existing_Primary_Bank_Code</th>\n",
       "      <th>Primary_Bank_Type</th>\n",
       "      <th>Contacted</th>\n",
       "      <th>Source</th>\n",
       "      <th>Source_Category</th>\n",
       "      <th>Existing_EMI</th>\n",
       "      <th>Loan_Amount</th>\n",
       "      <th>Loan_Period</th>\n",
       "      <th>Var1</th>\n",
       "      <th>Approved</th>\n",
       "      <th>Age</th>\n",
       "      <th>DOB_Year</th>\n",
       "      <th>Lead_Creation_Month</th>\n",
       "      <th>Lead_Creation_Day</th>\n",
       "      <th>Lead_Creation_Day_of_Week</th>\n",
       "    </tr>\n",
       "  </thead>\n",
       "  <tbody>\n",
       "    <tr>\n",
       "      <th>0</th>\n",
       "      <td>Female</td>\n",
       "      <td>1979-07-23</td>\n",
       "      <td>2016-07-15</td>\n",
       "      <td>C10001</td>\n",
       "      <td>A</td>\n",
       "      <td>A</td>\n",
       "      <td>4.0</td>\n",
       "      <td>2000.0</td>\n",
       "      <td>B001</td>\n",
       "      <td>P</td>\n",
       "      <td>N</td>\n",
       "      <td>S122</td>\n",
       "      <td>G</td>\n",
       "      <td>0.0</td>\n",
       "      <td>30000.0</td>\n",
       "      <td>4.0</td>\n",
       "      <td>0</td>\n",
       "      <td>0</td>\n",
       "      <td>45</td>\n",
       "      <td>1979</td>\n",
       "      <td>7</td>\n",
       "      <td>15</td>\n",
       "      <td>4</td>\n",
       "    </tr>\n",
       "    <tr>\n",
       "      <th>1</th>\n",
       "      <td>Male</td>\n",
       "      <td>1986-12-07</td>\n",
       "      <td>2016-07-04</td>\n",
       "      <td>C10003</td>\n",
       "      <td>A</td>\n",
       "      <td>C</td>\n",
       "      <td>1.0</td>\n",
       "      <td>3500.0</td>\n",
       "      <td>B002</td>\n",
       "      <td>P</td>\n",
       "      <td>Y</td>\n",
       "      <td>S122</td>\n",
       "      <td>G</td>\n",
       "      <td>0.0</td>\n",
       "      <td>20000.0</td>\n",
       "      <td>2.0</td>\n",
       "      <td>10</td>\n",
       "      <td>0</td>\n",
       "      <td>38</td>\n",
       "      <td>1986</td>\n",
       "      <td>7</td>\n",
       "      <td>4</td>\n",
       "      <td>0</td>\n",
       "    </tr>\n",
       "    <tr>\n",
       "      <th>2</th>\n",
       "      <td>Male</td>\n",
       "      <td>1982-12-10</td>\n",
       "      <td>2016-07-19</td>\n",
       "      <td>C10125</td>\n",
       "      <td>C</td>\n",
       "      <td>C</td>\n",
       "      <td>4.0</td>\n",
       "      <td>2250.0</td>\n",
       "      <td>B003</td>\n",
       "      <td>G</td>\n",
       "      <td>Y</td>\n",
       "      <td>S143</td>\n",
       "      <td>B</td>\n",
       "      <td>0.0</td>\n",
       "      <td>45000.0</td>\n",
       "      <td>4.0</td>\n",
       "      <td>0</td>\n",
       "      <td>0</td>\n",
       "      <td>42</td>\n",
       "      <td>1982</td>\n",
       "      <td>7</td>\n",
       "      <td>19</td>\n",
       "      <td>1</td>\n",
       "    </tr>\n",
       "    <tr>\n",
       "      <th>3</th>\n",
       "      <td>Male</td>\n",
       "      <td>1989-01-30</td>\n",
       "      <td>2016-07-09</td>\n",
       "      <td>C10477</td>\n",
       "      <td>C</td>\n",
       "      <td>A</td>\n",
       "      <td>4.0</td>\n",
       "      <td>3500.0</td>\n",
       "      <td>B003</td>\n",
       "      <td>G</td>\n",
       "      <td>Y</td>\n",
       "      <td>S143</td>\n",
       "      <td>B</td>\n",
       "      <td>0.0</td>\n",
       "      <td>92000.0</td>\n",
       "      <td>5.0</td>\n",
       "      <td>7</td>\n",
       "      <td>0</td>\n",
       "      <td>35</td>\n",
       "      <td>1989</td>\n",
       "      <td>7</td>\n",
       "      <td>9</td>\n",
       "      <td>5</td>\n",
       "    </tr>\n",
       "    <tr>\n",
       "      <th>4</th>\n",
       "      <td>Male</td>\n",
       "      <td>1985-04-19</td>\n",
       "      <td>2016-07-20</td>\n",
       "      <td>C10002</td>\n",
       "      <td>A</td>\n",
       "      <td>A</td>\n",
       "      <td>4.0</td>\n",
       "      <td>10000.0</td>\n",
       "      <td>B001</td>\n",
       "      <td>P</td>\n",
       "      <td>Y</td>\n",
       "      <td>S134</td>\n",
       "      <td>B</td>\n",
       "      <td>2500.0</td>\n",
       "      <td>50000.0</td>\n",
       "      <td>2.0</td>\n",
       "      <td>10</td>\n",
       "      <td>0</td>\n",
       "      <td>39</td>\n",
       "      <td>1985</td>\n",
       "      <td>7</td>\n",
       "      <td>20</td>\n",
       "      <td>2</td>\n",
       "    </tr>\n",
       "  </tbody>\n",
       "</table>\n",
       "</div>"
      ],
      "text/plain": [
       "   Gender        DOB Lead_Creation_Date City_Code City_Category  \\\n",
       "0  Female 1979-07-23         2016-07-15    C10001             A   \n",
       "1    Male 1986-12-07         2016-07-04    C10003             A   \n",
       "2    Male 1982-12-10         2016-07-19    C10125             C   \n",
       "3    Male 1989-01-30         2016-07-09    C10477             C   \n",
       "4    Male 1985-04-19         2016-07-20    C10002             A   \n",
       "\n",
       "  Employer_Category1  Employer_Category2  Monthly_Income  \\\n",
       "0                  A                 4.0          2000.0   \n",
       "1                  C                 1.0          3500.0   \n",
       "2                  C                 4.0          2250.0   \n",
       "3                  A                 4.0          3500.0   \n",
       "4                  A                 4.0         10000.0   \n",
       "\n",
       "  Customer_Existing_Primary_Bank_Code Primary_Bank_Type Contacted Source  \\\n",
       "0                                B001                 P         N   S122   \n",
       "1                                B002                 P         Y   S122   \n",
       "2                                B003                 G         Y   S143   \n",
       "3                                B003                 G         Y   S143   \n",
       "4                                B001                 P         Y   S134   \n",
       "\n",
       "  Source_Category  Existing_EMI  Loan_Amount  Loan_Period  Var1  Approved  \\\n",
       "0               G           0.0      30000.0          4.0     0         0   \n",
       "1               G           0.0      20000.0          2.0    10         0   \n",
       "2               B           0.0      45000.0          4.0     0         0   \n",
       "3               B           0.0      92000.0          5.0     7         0   \n",
       "4               B        2500.0      50000.0          2.0    10         0   \n",
       "\n",
       "   Age  DOB_Year  Lead_Creation_Month  Lead_Creation_Day  \\\n",
       "0   45      1979                    7                 15   \n",
       "1   38      1986                    7                  4   \n",
       "2   42      1982                    7                 19   \n",
       "3   35      1989                    7                  9   \n",
       "4   39      1985                    7                 20   \n",
       "\n",
       "   Lead_Creation_Day_of_Week  \n",
       "0                          4  \n",
       "1                          0  \n",
       "2                          1  \n",
       "3                          5  \n",
       "4                          2  "
      ]
     },
     "execution_count": 58,
     "metadata": {},
     "output_type": "execute_result"
    }
   ],
   "source": [
    "cleads.head()"
   ]
  },
  {
   "cell_type": "markdown",
   "id": "0007ea11-f2a7-439e-be64-a213dcb0e2f4",
   "metadata": {},
   "source": [
    "## Remove observations where Contacted!=1 if all not Approved"
   ]
  },
  {
   "cell_type": "code",
   "execution_count": 59,
   "id": "46519aaf-8a31-4167-a009-ad2af0380df0",
   "metadata": {},
   "outputs": [
    {
     "data": {
      "image/png": "[encoded data removed]",
      "text/plain": [
       "<Figure size 800x600 with 2 Axes>"
      ]
     },
     "metadata": {},
     "output_type": "display_data"
    }
   ],
   "source": [
    "contingency_table = pd.crosstab(cleads['Contacted'], cleads['Approved'])\n",
    "\n",
    "# Plot as a heatmap\n",
    "plt.figure(figsize=(8, 6))\n",
    "sns.heatmap(contingency_table, annot=True, cmap=\"YlGnBu\", fmt='g')\n",
    "plt.title(\"Contingency Table Heatmap\")\n",
    "plt.ylabel(\"Contacted\")\n",
    "plt.xlabel(\"Approved\")\n",
    "plt.show()"
   ]
  },
  {
   "cell_type": "code",
   "execution_count": 60,
   "id": "8d384820-e4a9-4c1d-b21b-483dd59567d7",
   "metadata": {},
   "outputs": [],
   "source": [
    "# We can't remove the observations which are not contacted as many of them were approved for loans.\n",
    "# But we can see that being Contacted greatly improves the chances of being approved for a loan. "
   ]
  },
  {
   "cell_type": "code",
   "execution_count": null,
   "id": "d22e978e-bcc4-4fb6-85dc-05da9ae9dd39",
   "metadata": {},
   "outputs": [],
   "source": []
  },
  {
   "cell_type": "code",
   "execution_count": 61,
   "id": "ea3e1171-b6cb-4875-bfaf-ce7c70bf26a9",
   "metadata": {},
   "outputs": [],
   "source": [
    "cleads.to_csv(\"Bank Leads Cleaned v2.csv\", index=False)"
   ]
  },
  {
   "cell_type": "code",
   "execution_count": null,
   "id": "576e5632-028e-43c1-9f47-b93de365b480",
   "metadata": {},
   "outputs": [],
   "source": []
  },
  {
   "cell_type": "markdown",
   "id": "49b2eacd-3a1d-43bc-81be-ce9d7285d377",
   "metadata": {},
   "source": [
    "# EDA"
   ]
  },
  {
   "cell_type": "code",
   "execution_count": 62,
   "id": "9f076944-6f15-4c08-b51f-914df2e29a5e",
   "metadata": {},
   "outputs": [
    {
     "data": {
      "image/png": "[encoded data removed]",
      "text/plain": [
       "<Figure size 1500x600 with 1 Axes>"
      ]
     },
     "metadata": {},
     "output_type": "display_data"
    }
   ],
   "source": [
    "plt.figure(figsize=(15, 6))\n",
    "sns.boxplot(data=cleads, x=\"Monthly_Income\", y=\"Approved\", orient=\"h\")\n",
    "plt.show()"
   ]
  },
  {
   "cell_type": "code",
   "execution_count": null,
   "id": "110c61ae-f34a-491a-9944-b3e68a973a07",
   "metadata": {},
   "outputs": [],
   "source": []
  },
  {
   "cell_type": "code",
   "execution_count": 67,
   "id": "ca2a482b-41a2-431d-b7c5-024079ebbd67",
   "metadata": {},
   "outputs": [
    {
     "data": {
      "image/png": "[encoded data removed]",
      "text/plain": [
       "<Figure size 1500x600 with 1 Axes>"
      ]
     },
     "metadata": {},
     "output_type": "display_data"
    }
   ],
   "source": [
    "plt.figure(figsize=(15, 6))\n",
    "sns.boxplot(data=cleads, x=\"Age\", y=\"Approved\", orient=\"h\")\n",
    "plt.show()"
   ]
  },
  {
   "cell_type": "code",
   "execution_count": 69,
   "id": "fb4aaa2f-df43-44ce-8a0c-f5bbca245bbf",
   "metadata": {},
   "outputs": [
    {
     "data": {
      "image/png": "[encoded data removed]",
      "text/plain": [
       "<Figure size 1500x600 with 1 Axes>"
      ]
     },
     "metadata": {},
     "output_type": "display_data"
    }
   ],
   "source": [
    "plt.figure(figsize=(15, 6))\n",
    "sns.boxplot(data=cleads, x=\"Gender\", y=\"Approved\", orient=\"h\")\n",
    "plt.show()"
   ]
  },
  {
   "cell_type": "code",
   "execution_count": 68,
   "id": "94fc8bf0-221c-4e57-b583-4678a68b164b",
   "metadata": {},
   "outputs": [
    {
     "data": {
      "image/png": "[encoded data removed]",
      "text/plain": [
       "<Figure size 800x600 with 2 Axes>"
      ]
     },
     "metadata": {},
     "output_type": "display_data"
    }
   ],
   "source": [
    "gender_table = pd.crosstab(cleads['Gender'], cleads['Approved'])\n",
    "\n",
    "# Plot as a heatmap\n",
    "plt.figure(figsize=(8, 6))\n",
    "sns.heatmap(gender_table, annot=True, cmap=\"YlGnBu\", fmt='g')\n",
    "plt.title(\"Contingency Table Heatmap\")\n",
    "plt.ylabel(\"Gender\")\n",
    "plt.xlabel(\"Approved\")\n",
    "plt.show()"
   ]
  },
  {
   "cell_type": "code",
   "execution_count": 85,
   "id": "94b78431-2ca2-4cc8-8ff9-6ba31db81a3a",
   "metadata": {},
   "outputs": [
    {
     "name": "stdout",
     "output_type": "stream",
     "text": [
      "Female Approval Rate:  0.86\n",
      "Male Approval Rate:  1.97\n"
     ]
    }
   ],
   "source": [
    "app_f = (246/28703)\n",
    "app_m = (769/39079)\n",
    "\n",
    "print(\"Female Approval Rate: \", np.round(app_f*100, 2))\n",
    "print(\"Male Approval Rate: \", np.round(app_m*100, 2))"
   ]
  },
  {
   "cell_type": "code",
   "execution_count": null,
   "id": "1123ffd8-b9ea-460d-8b57-d1166dda90e2",
   "metadata": {},
   "outputs": [],
   "source": [
    "# "
   ]
  },
  {
   "cell_type": "code",
   "execution_count": null,
   "id": "4c529149-2ab0-4b2e-a7f0-e0201fd42fb1",
   "metadata": {},
   "outputs": [],
   "source": []
  },
  {
   "cell_type": "code",
   "execution_count": null,
   "id": "dc5c5b9f-aac6-43dd-89a7-e20bad9a4934",
   "metadata": {},
   "outputs": [],
   "source": []
  },
  {
   "cell_type": "code",
   "execution_count": null,
   "id": "c8d9be6c-700f-4864-aee3-de2cf01db3fe",
   "metadata": {},
   "outputs": [],
   "source": []
  },
  {
   "cell_type": "markdown",
   "id": "a260d966-f08b-4f66-b98c-750d4b069994",
   "metadata": {},
   "source": [
    "# Hypothesis Testing"
   ]
  },
  {
   "cell_type": "markdown",
   "id": "3163e1c5-4aeb-4e22-af85-9cc79cc5adc0",
   "metadata": {},
   "source": [
    "## Does Monthly_Income have a significant impact on a loan being approved? "
   ]
  },
  {
   "cell_type": "markdown",
   "id": "4b5ce05b-2afe-4556-9d86-b82ea31ddd5d",
   "metadata": {},
   "source": [
    "**Hypothesis:** Monthly_Income plays a significant role in determining whether an application is approved. \n",
    "\n",
    "**Null Hypothesis:** Monthly_Income has no impact on the likelihood of a loan being approved. "
   ]
  },
  {
   "cell_type": "code",
   "execution_count": 112,
   "id": "b59ea9eb-5897-4930-a1f2-4e6ddf6c92b7",
   "metadata": {},
   "outputs": [
    {
     "name": "stdout",
     "output_type": "stream",
     "text": [
      "Approved:  (1015, 23)\n",
      "Not Approved:  (67782, 23)\n"
     ]
    }
   ],
   "source": [
    "from scipy.stats import levene\n",
    "from scipy.stats import mannwhitneyu\n",
    "import scipy.stats as stats\n",
    "from scipy.stats import chi2_contingency\n",
    "\n",
    "approved = cleads[cleads['Approved']==1]\n",
    "not_approved = cleads[cleads['Approved']!=1]\n",
    "print(\"Approved: \", approved.shape)\n",
    "print(\"Not Approved: \", not_approved.shape)"
   ]
  },
  {
   "cell_type": "markdown",
   "id": "7a4c5e56-1099-4e82-935c-8e981bb65871",
   "metadata": {},
   "source": [
    "### check the distribution and variance to see if a Student's t-test is viable"
   ]
  },
  {
   "cell_type": "code",
   "execution_count": 32,
   "id": "5e391f99-214b-4575-9f38-fa95369424b8",
   "metadata": {},
   "outputs": [
    {
     "data": {
      "image/png": "[encoded data removed]",
      "text/plain": [
       "<Figure size 1500x800 with 2 Axes>"
      ]
     },
     "metadata": {},
     "output_type": "display_data"
    }
   ],
   "source": [
    "fig, (ax1, ax2) = plt.subplots(1, 2, figsize=(15,8))\n",
    "\n",
    "ax1.hist(x=np.log(approved['Monthly_Income'] + 1))\n",
    "ax1.set_xlabel(\"Approved Monthly Income\")\n",
    "\n",
    "ax2.hist(x=np.log(not_approved['Monthly_Income'] + 1))\n",
    "ax2.set_xlabel(\"Not Approved Monthly Income\")\n",
    "\n",
    "\n",
    "plt.show()"
   ]
  },
  {
   "cell_type": "code",
   "execution_count": null,
   "id": "ef159e3b-993f-4ece-98aa-e90d595542fd",
   "metadata": {},
   "outputs": [],
   "source": [
    "# When using the log of Monthly_Income the distributions are somewhat normally distributed. "
   ]
  },
  {
   "cell_type": "code",
   "execution_count": 99,
   "id": "6753d3ed-e7de-4b76-a809-8f81a4825a6d",
   "metadata": {},
   "outputs": [
    {
     "name": "stdout",
     "output_type": "stream",
     "text": [
      "Reject the null hypothesis of equal variance between groups.\n",
      "P-value is 2.4453695347634935e-11.\n"
     ]
    }
   ],
   "source": [
    "# Levene test of variance \n",
    "\n",
    "mi_group1_log = np.log(approved['Monthly_Income'] + 1)\n",
    "mi_group2_log = np.log(not_approved['Monthly_Income'] + 1)\n",
    "\n",
    "if levene(mi_group1_log, mi_group2_log)[1] < 0.05:\n",
    "    print('Reject the null hypothesis of equal variance between groups.')\n",
    "    print(f'P-value is {levene(mi_group1_log, mi_group2_log)[1]}.')\n",
    "else:\n",
    "    print('Fail to reject the null hypothesis of equal variance between groups.')\n",
    "    print(f'P-value is {levene(mi_group1_log, mi_group2_log)[1]}.')"
   ]
  },
  {
   "cell_type": "code",
   "execution_count": null,
   "id": "34df2e66-10ab-4321-a100-11863c683e2c",
   "metadata": {},
   "outputs": [],
   "source": [
    "# Because there is not equal variance between the groups, we can not use a T-test.\n",
    "# Instead, we will use the Mann Whitney U test. "
   ]
  },
  {
   "cell_type": "markdown",
   "id": "42fd0227-bdcd-455d-9486-54271ebb39d8",
   "metadata": {},
   "source": [
    "### Mann Whitney U test for Monthly Income"
   ]
  },
  {
   "cell_type": "code",
   "execution_count": 103,
   "id": "82e190bf-e2e2-4851-bb91-30755f923893",
   "metadata": {},
   "outputs": [
    {
     "name": "stdout",
     "output_type": "stream",
     "text": [
      "Reject the null hypothesis that Monthly Income are similar.\n",
      "P-value is 9.15927039197496e-221\n"
     ]
    }
   ],
   "source": [
    "# Mann Whitney U hypothesis test \n",
    "\n",
    "# H0 = The distributions in the Monthly Incomes between the groups Approved and Not Approved are similar.\n",
    "# HA = The distributions in the Monthly Incomes between the groups Approved and Not Approved are not similar.\n",
    "\n",
    "mi_group1_log = np.log(approved['Monthly_Income'] + 1)\n",
    "mi_group2_log = np.log(not_approved['Monthly_Income'] + 1)\n",
    "\n",
    "if mannwhitneyu(mi_group1_log, mi_group2_log, alternative='two-sided')[1] < 0.05:\n",
    "    print(\"Reject the null hypothesis that Monthly Income are similar.\")\n",
    "    print(f\"P-value is {mannwhitneyu(mi_group1_log, mi_group2_log, alternative='two-sided')[1]}\")\n",
    "else:\n",
    "    print(\"Fail to reject the null hypothesis that Monthly Income are similar.\")\n",
    "    print(f\"P-value is {mannwhitneyu(mi_group1_log, mi_group2_log, alternative='two-sided')[1]}\")"
   ]
  },
  {
   "cell_type": "markdown",
   "id": "fc3f669b-e9cc-4e47-82fa-a950aed2b593",
   "metadata": {},
   "source": [
    "### T-test for Monthly Income"
   ]
  },
  {
   "cell_type": "code",
   "execution_count": 118,
   "id": "5586762c-f392-4a68-9f7c-bc4cb2c2fc89",
   "metadata": {},
   "outputs": [
    {
     "name": "stdout",
     "output_type": "stream",
     "text": [
      "t-statistic: 24.695255925053445\n",
      "p-value: 4.630082639170323e-134\n"
     ]
    }
   ],
   "source": [
    "# T-test \n",
    "\n",
    "# H0 = The distributions in the Monthly Incomes between the groups Approved and Not Approved are similar.\n",
    "# HA = The distributions in the Monthly Incomes between the groups Approved and Not Approved are not similar.\n",
    "\n",
    "group1 = np.log(approved['Monthly_Income'] + 1)\n",
    "group2 = np.log(not_approved['Monthly_Income'] + 1)\n",
    "\n",
    "t_statistic, p_value = stats.ttest_ind(group1, group2)\n",
    "\n",
    "print(\"t-statistic:\", t_statistic)\n",
    "print(\"p-value:\", p_value)\n"
   ]
  },
  {
   "cell_type": "code",
   "execution_count": null,
   "id": "9aad830a-3cbd-408c-8411-742b1cc57097",
   "metadata": {},
   "outputs": [],
   "source": []
  },
  {
   "cell_type": "markdown",
   "id": "6d59bd7b-8502-4617-80e8-bdfd617f6465",
   "metadata": {},
   "source": [
    "## Does Age have a significant impact on a loan being approved? "
   ]
  },
  {
   "cell_type": "code",
   "execution_count": 100,
   "id": "f674e87a-6825-4f29-b9fd-cb5a32c16a58",
   "metadata": {},
   "outputs": [
    {
     "data": {
      "image/png": "[encoded data removed]",
      "text/plain": [
       "<Figure size 1500x800 with 2 Axes>"
      ]
     },
     "metadata": {},
     "output_type": "display_data"
    }
   ],
   "source": [
    "fig, (ax1, ax2) = plt.subplots(1, 2, figsize=(15,8))\n",
    "\n",
    "ax1.hist(x=np.log(approved['Age'] + 1))\n",
    "ax1.set_xlabel(\"Approved Age\")\n",
    "\n",
    "ax2.hist(x=np.log(not_approved['Age'] + 1))\n",
    "ax2.set_xlabel(\"Not Approved Age\")\n",
    "\n",
    "\n",
    "plt.show()"
   ]
  },
  {
   "cell_type": "code",
   "execution_count": 104,
   "id": "1050ac05-9808-43ba-8fde-0df65b3c85be",
   "metadata": {},
   "outputs": [
    {
     "name": "stdout",
     "output_type": "stream",
     "text": [
      "Reject the null hypothesis of equal variance between groups.\n",
      "P-value is 0.0003688318237039589.\n"
     ]
    }
   ],
   "source": [
    "# Levene test of variance \n",
    "\n",
    "age_group1_log = np.log(approved['Age'] + 1)\n",
    "age_group2_log = np.log(not_approved['Age'] + 1)\n",
    "\n",
    "if levene(age_group1_log, age_group2_log)[1] < 0.05:\n",
    "    print('Reject the null hypothesis of equal variance between groups.')\n",
    "    print(f'P-value is {levene(age_group1_log, age_group2_log)[1]}.')\n",
    "else:\n",
    "    print('Fail to reject the null hypothesis of equal variance between groups.')\n",
    "    print(f'P-value is {levene(age_group1_log, age_group2_log)[1]}.')"
   ]
  },
  {
   "cell_type": "code",
   "execution_count": null,
   "id": "a4b76d46-c282-4203-a0c7-e034c080f641",
   "metadata": {},
   "outputs": [],
   "source": [
    "# Because there is not equal variance between the groups, we can not use a T-test.\n",
    "# Instead, we will use the Mann Whitney U test."
   ]
  },
  {
   "cell_type": "markdown",
   "id": "7f4824d2-114b-4ee8-a3ab-5b0ba853c0cb",
   "metadata": {},
   "source": [
    "### Mann Whitney U test for Age"
   ]
  },
  {
   "cell_type": "code",
   "execution_count": 105,
   "id": "90d25e97-dab7-49f9-8b06-de32a89db19d",
   "metadata": {},
   "outputs": [
    {
     "name": "stdout",
     "output_type": "stream",
     "text": [
      "Reject the null hypothesis that Monthly Income are similar.\n",
      "P-value is 5.366404302367249e-41\n"
     ]
    }
   ],
   "source": [
    "# Mann Whitney U hypothesis test \n",
    "\n",
    "# H0 = The distributions in the Ages between the groups Approved and Not Approved are similar.\n",
    "# HA = The distributions in the Ages between the groups Approved and Not Approved are not similar.\n",
    "\n",
    "age_group1_log = np.log(approved['Age'] + 1)\n",
    "age_group2_log = np.log(not_approved['Age'] + 1)\n",
    "\n",
    "if mannwhitneyu(age_group1_log, age_group2_log, alternative='two-sided')[1] < 0.05:\n",
    "    print(\"Reject the null hypothesis that Monthly Income are similar.\")\n",
    "    print(f\"P-value is {mannwhitneyu(age_group1_log, age_group2_log, alternative='two-sided')[1]}\")\n",
    "else:\n",
    "    print(\"Fail to reject the null hypothesis that Monthly Income are similar.\")\n",
    "    print(f\"P-value is {mannwhitneyu(age_group1_log, age_group2_log, alternative='two-sided')[1]}\")"
   ]
  },
  {
   "cell_type": "markdown",
   "id": "838559ca-61ad-48af-8c32-51ad3b6f8ad8",
   "metadata": {},
   "source": [
    "### T-test for Age"
   ]
  },
  {
   "cell_type": "code",
   "execution_count": 107,
   "id": "52af7796-4b44-4eec-b299-1a65d0313775",
   "metadata": {},
   "outputs": [
    {
     "name": "stdout",
     "output_type": "stream",
     "text": [
      "t-statistic: 10.872919150875491\n",
      "p-value: 1.6336949894249888e-27\n"
     ]
    }
   ],
   "source": [
    "# T-test \n",
    "\n",
    "# H0 = The distributions in the Monthly Incomes between the groups Approved and Not Approved are similar.\n",
    "# HA = The distributions in the Monthly Incomes between the groups Approved and Not Approved are not similar.\n",
    "\n",
    "age_group1_log = np.log(approved['Age'] + 1)\n",
    "age_group2_log = np.log(not_approved['Age'] + 1)\n",
    "\n",
    "t_statistic, p_value = stats.ttest_ind(age_group1_log, age_group2_log)\n",
    "\n",
    "print(\"t-statistic:\", t_statistic)\n",
    "print(\"p-value:\", p_value)"
   ]
  },
  {
   "cell_type": "code",
   "execution_count": null,
   "id": "0d5caa2b-932e-4eab-8ef8-1c02272b511c",
   "metadata": {},
   "outputs": [],
   "source": []
  },
  {
   "cell_type": "markdown",
   "id": "9be105c3-fcb4-4e92-af79-5b03bcd9c6f7",
   "metadata": {},
   "source": [
    "## Does Gender have a significant impact on a loan being approved? "
   ]
  },
  {
   "cell_type": "code",
   "execution_count": 111,
   "id": "fb790d82-3f5b-4cf9-809f-cd04f99167bf",
   "metadata": {},
   "outputs": [
    {
     "data": {
      "image/png": "[encoded data removed]",
      "text/plain": [
       "<Figure size 1500x800 with 2 Axes>"
      ]
     },
     "metadata": {},
     "output_type": "display_data"
    }
   ],
   "source": [
    "fig, (ax1, ax2) = plt.subplots(1, 2, figsize=(15,8))\n",
    "\n",
    "ax1.hist(x=approved['Gender'])\n",
    "ax1.set_xlabel(\"Approved Gender\")\n",
    "\n",
    "ax2.hist(x=not_approved['Gender'])\n",
    "ax2.set_xlabel(\"Not Approved Gender\")\n",
    "\n",
    "\n",
    "plt.show()"
   ]
  },
  {
   "cell_type": "code",
   "execution_count": 115,
   "id": "ea8fca6a-e395-4deb-a5b0-2e72b190ed59",
   "metadata": {},
   "outputs": [
    {
     "name": "stdout",
     "output_type": "stream",
     "text": [
      "P-value is  5.977403968721319e-31\n",
      "Reject H0, there is a relationship between the Gender and Approved.\n"
     ]
    }
   ],
   "source": [
    "# Chi-squared test\n",
    "\n",
    "# H0 = There is no relationship between Gender and Approved. \n",
    "# HA = There is a relationship between Gender and Approved. \n",
    "\n",
    "gender_table = pd.crosstab(cleads['Gender'], cleads['Approved'])\n",
    "data = gender_table\n",
    "\n",
    "stat, p, dof, expected = chi2_contingency(data)\n",
    "\n",
    "print(\"P-value is \", str(p))\n",
    "if p <= 0.05:\n",
    "    print(\"Reject H0, there is a relationship between the Gender and Approved.\")\n",
    "else:\n",
    "    print(\"Fail to reject H0, there is no relationship between Gender and Approved.\")"
   ]
  },
  {
   "cell_type": "code",
   "execution_count": null,
   "id": "35e9554a-eb40-4c29-8bda-8020f8f2aee2",
   "metadata": {},
   "outputs": [],
   "source": []
  },
  {
   "cell_type": "markdown",
   "id": "6cbe8025-03cf-4e89-b5fb-17f1ab0356fa",
   "metadata": {},
   "source": [
    "## Does Contacted have a significant impact on a loan being approved? "
   ]
  },
  {
   "cell_type": "code",
   "execution_count": 116,
   "id": "8dd57538-a10b-4799-babc-8038188404db",
   "metadata": {},
   "outputs": [
    {
     "data": {
      "image/png": "[encoded data removed]",
      "text/plain": [
       "<Figure size 1500x800 with 2 Axes>"
      ]
     },
     "metadata": {},
     "output_type": "display_data"
    }
   ],
   "source": [
    "fig, (ax1, ax2) = plt.subplots(1, 2, figsize=(15,8))\n",
    "\n",
    "ax1.hist(x=approved['Contacted'])\n",
    "ax1.set_xlabel(\"Approved Contacted\")\n",
    "\n",
    "ax2.hist(x=not_approved['Contacted'])\n",
    "ax2.set_xlabel(\"Not Approved Contacted\")\n",
    "\n",
    "\n",
    "plt.show()"
   ]
  },
  {
   "cell_type": "code",
   "execution_count": 117,
   "id": "4e0849a3-64c1-43b4-9da8-7a264951985e",
   "metadata": {},
   "outputs": [
    {
     "name": "stdout",
     "output_type": "stream",
     "text": [
      "P-value is  4.21845658076776e-32\n",
      "Reject H0, there is a relationship between the Contacted and Approved.\n"
     ]
    }
   ],
   "source": [
    "# Chi-squared test\n",
    "\n",
    "# H0 = There is no relationship between Contacted and Approved. \n",
    "# HA = There is a relationship between Contacted and Approved. \n",
    "\n",
    "gender_table = pd.crosstab(cleads['Contacted'], cleads['Approved'])\n",
    "data = gender_table\n",
    "\n",
    "stat, p, dof, expected = chi2_contingency(data)\n",
    "\n",
    "print(\"P-value is \", str(p))\n",
    "if p <= 0.05:\n",
    "    print(\"Reject H0, there is a relationship between the Contacted and Approved.\")\n",
    "else:\n",
    "    print(\"Fail to reject H0, there is no relationship between Contacted and Approved.\")"
   ]
  },
  {
   "cell_type": "code",
   "execution_count": null,
   "id": "7dec877b-1390-451c-90ad-6b6803b62053",
   "metadata": {},
   "outputs": [],
   "source": []
  },
  {
   "cell_type": "code",
   "execution_count": null,
   "id": "2fbb2bd3-4d81-4636-95be-aa15ece9e09a",
   "metadata": {},
   "outputs": [],
   "source": []
  },
  {
   "cell_type": "code",
   "execution_count": null,
   "id": "3abafaf5-8f6f-4ea5-9727-c6a47f17ef3e",
   "metadata": {},
   "outputs": [],
   "source": []
  },
  {
   "cell_type": "code",
   "execution_count": null,
   "id": "e8db2174-f86e-4a27-94b6-5409078fc6a7",
   "metadata": {},
   "outputs": [],
   "source": []
  },
  {
   "cell_type": "code",
   "execution_count": null,
   "id": "c0169a06-9cb6-45f1-ba77-9bea4a42ebc9",
   "metadata": {},
   "outputs": [],
   "source": []
  },
  {
   "cell_type": "code",
   "execution_count": null,
   "id": "8c8679aa-3531-41da-895c-6f2e715d389a",
   "metadata": {},
   "outputs": [],
   "source": [
    "# For each continuous feature: \n",
    "## Check distribution of each group\n",
    "## Check variance of each group\n",
    "## If feature is normally distributed and variance is similar, run T-test\n",
    "## Print feature name, t-stat, p-value\n",
    "\n",
    "# For each categorical feature: \n",
    "## Run Chi-squared test of independence \n",
    "## Print feature name, ch-stat, p-value "
   ]
  },
  {
   "cell_type": "code",
   "execution_count": null,
   "id": "19489100-e603-4591-aeb2-17b5ff805b4e",
   "metadata": {},
   "outputs": [],
   "source": []
  },
  {
   "cell_type": "code",
   "execution_count": null,
   "id": "9a593628-e66f-4e67-802d-384418e536f9",
   "metadata": {},
   "outputs": [],
   "source": []
  },
  {
   "cell_type": "code",
   "execution_count": null,
   "id": "277d8519-e91d-44e0-a722-a4b02788a2c9",
   "metadata": {},
   "outputs": [],
   "source": []
  },
  {
   "cell_type": "code",
   "execution_count": null,
   "id": "3ebaa1e6-c899-46c1-b4d6-0a3a26d083a6",
   "metadata": {},
   "outputs": [],
   "source": []
  },
  {
   "cell_type": "code",
   "execution_count": null,
   "id": "185b74c5-7584-4e77-804a-f375ff5a5000",
   "metadata": {},
   "outputs": [],
   "source": []
  },
  {
   "cell_type": "code",
   "execution_count": null,
   "id": "fe47b1a3-5916-4dce-811b-709dbc77bacd",
   "metadata": {},
   "outputs": [],
   "source": []
  }
 ],
 "metadata": {
  "kernelspec": {
   "display_name": "Python 3 (ipykernel)",
   "language": "python",
   "name": "python3"
  },
  "language_info": {
   "codemirror_mode": {
    "name": "ipython",
    "version": 3
   },
   "file_extension": ".py",
   "mimetype": "text/x-python",
   "name": "python",
   "nbconvert_exporter": "python",
   "pygments_lexer": "ipython3",
   "version": "3.11.5"
  }
 },
 "nbformat": 4,
 "nbformat_minor": 5
}
