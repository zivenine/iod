{
 "cells": [
  {
   "cell_type": "code",
   "execution_count": 2,
   "id": "eac81a95-f3b2-43a4-8112-a70899cb17b0",
   "metadata": {},
   "outputs": [],
   "source": [
    "import pandas as pd\n",
    "import numpy as np\n",
    "import matplotlib.pyplot as plt\n",
    "import seaborn as sns\n",
    "from datetime import datetime\n",
    "from matplotlib.ticker import MaxNLocator\n",
    "\n",
    "from scipy.stats import levene\n",
    "from scipy.stats import mannwhitneyu\n",
    "import scipy.stats as stats\n",
    "from scipy.stats import chi2_contingency\n",
    "from sklearn.preprocessing import PowerTransformer\n",
    "from sklearn.preprocessing import StandardScaler\n",
    "\n",
    "pd.set_option('display.max_columns', None)"
   ]
  },
  {
   "cell_type": "code",
   "execution_count": null,
   "id": "2c42a7bf-c301-49b2-b817-c47bf9a7d952",
   "metadata": {},
   "outputs": [],
   "source": []
  },
  {
   "cell_type": "code",
   "execution_count": 5,
   "id": "c4477c8e-5d6d-4b43-99c7-4f66f125f1c5",
   "metadata": {},
   "outputs": [],
   "source": [
    "data = pd.read_csv(\"Bank Leads Cleaned v2 20240119.csv\")"
   ]
  },
  {
   "cell_type": "code",
   "execution_count": null,
   "id": "a75019ad-c366-4d07-b7c3-d109060f0cfd",
   "metadata": {},
   "outputs": [],
   "source": []
  },
  {
   "cell_type": "markdown",
   "id": "f0883d86-4e8c-491b-9719-ce98a8cd44e4",
   "metadata": {},
   "source": [
    "## Scale numeric features and run hypothesis tests"
   ]
  },
  {
   "cell_type": "code",
   "execution_count": 9,
   "id": "fc0767d2-1100-4cf5-ab88-6953ca924cdc",
   "metadata": {},
   "outputs": [
    {
     "name": "stdout",
     "output_type": "stream",
     "text": [
      "Approved:  (1015, 25)\n",
      "Not Approved:  (67782, 25)\n"
     ]
    }
   ],
   "source": [
    "approved = data[data['Approved']==1]\n",
    "not_approved = data[data['Approved']!=1]\n",
    "print(\"Approved: \", approved.shape)\n",
    "print(\"Not Approved: \", not_approved.shape)"
   ]
  },
  {
   "cell_type": "code",
   "execution_count": 46,
   "id": "73082620-70f8-4353-b2b4-c8e17b7a1fe3",
   "metadata": {},
   "outputs": [],
   "source": [
    "def scale_test(data1, data2):\n",
    "    # Instantiate PowerTransformer and run\n",
    "    pt = PowerTransformer(method='box-cox')\n",
    "\n",
    "    pt_scaled_a = pt.fit_transform((data1.values + 1).reshape(-1, 1))\n",
    "    pt_scaled_na = pt.fit_transform((data2.values + 1).reshape(-1, 1))\n",
    "\n",
    "    ## Levene's test of variance\n",
    "    lev_a = pd.Series(map(lambda x: x, pt_scaled_a))\n",
    "    lev_na = pd.Series(map(lambda x: x, pt_scaled_na))\n",
    "    print(\"***Box-Cox Scaled***\\nLevene's test of variance...................................\")\n",
    "    if levene(lev_a, lev_na)[1] < 0.05:\n",
    "        print('Reject the null hypothesis of equal variance between groups.')\n",
    "        print(f'P-value is {levene(lev_a, lev_na)[1]}.')\n",
    "    else:\n",
    "        print('Fail to reject the null hypothesis of equal variance between groups.')\n",
    "        print(f'P-value is {levene(lev_a, lev_na)[1]}.')\n",
    "\n",
    "    ## Mann Whitney U test of distribution\n",
    "    print(\"\\nMann Whitney U test of distribution..........................\")\n",
    "    if mannwhitneyu(pt_scaled_a, pt_scaled_na, alternative='two-sided')[1] < 0.05:\n",
    "        print(\"Reject the null hypothesis that Monthly Income are similar.\")\n",
    "        print(f\"P-value is {mannwhitneyu(pt_scaled_a, pt_scaled_na, alternative='two-sided')[1]}\")\n",
    "    else:\n",
    "        print(\"Fail to reject the null hypothesis that Monthly Income are similar.\")\n",
    "        print(f\"P-value is {mannwhitneyu(pt_scaled_a, pt_scaled_na, alternative='two-sided')[1]}\")\n",
    "\n",
    "    # Instantiate StandardScaler and run\n",
    "    ss = StandardScaler()\n",
    "\n",
    "    ss_scaled_a = ss.fit_transform((data1.values + 1).reshape(-1, 1))\n",
    "    ss_scaled_na = ss.fit_transform((data2.values + 1).reshape(-1, 1))\n",
    "\n",
    "    # Levene's test of variance\n",
    "    lev_a_ss = pd.Series(map(lambda x: x, ss_scaled_a))\n",
    "    lev_na_ss = pd.Series(map(lambda x: x, ss_scaled_na))                              \n",
    "    print(\"\\n\\n***Standardized***\\nLevene's test of variance...................................\")\n",
    "    if levene(lev_a_ss, lev_na_ss)[1] < 0.05:\n",
    "        print('Reject the null hypothesis of equal variance between groups.')\n",
    "        print(f'P-value is {levene(lev_a_ss, lev_na_ss)[1]}.')\n",
    "    else:\n",
    "        print('Fail to reject the null hypothesis of equal variance between groups.')\n",
    "        print(f'P-value is {levene(lev_a_ss, lev_na_ss)[1]}.')\n",
    "\n",
    "    # Mann Whitney U test of distribution\n",
    "    print(\"\\nMann Whitney U test of distribution..........................\")\n",
    "    if mannwhitneyu(pt_scaled_a, pt_scaled_na, alternative='two-sided')[1] < 0.05:\n",
    "        print(\"Reject the null hypothesis that Monthly Income are similar.\")\n",
    "        print(f\"P-value is {mannwhitneyu(pt_scaled_a, pt_scaled_na, alternative='two-sided')[1]}\")\n",
    "    else:\n",
    "        print(\"Fail to reject the null hypothesis that Monthly Income are similar.\")\n",
    "        print(f\"P-value is {mannwhitneyu(pt_scaled_a, pt_scaled_na, alternative='two-sided')[1]}\")"
   ]
  },
  {
   "cell_type": "markdown",
   "id": "08e34346-2971-4178-892c-a029fcd37b7d",
   "metadata": {},
   "source": [
    "### Scale and test Monthly_Income"
   ]
  },
  {
   "cell_type": "code",
   "execution_count": 47,
   "id": "ef95b603-9050-45d7-834c-999fa345e60f",
   "metadata": {},
   "outputs": [
    {
     "name": "stdout",
     "output_type": "stream",
     "text": [
      "***Box-Cox Scaled***\n",
      "Levene's test of variance...................................\n",
      "Reject the null hypothesis of equal variance between groups.\n",
      "P-value is [8.97713067e-06].\n",
      "\n",
      "Mann Whitney U test of distribution..........................\n",
      "Reject the null hypothesis that Monthly Income are similar.\n",
      "P-value is [0.02676371]\n",
      "\n",
      "\n",
      "***Standardized***\n",
      "Levene's test of variance...................................\n",
      "Reject the null hypothesis of equal variance between groups.\n",
      "P-value is [0.02733187].\n",
      "\n",
      "Mann Whitney U test of distribution..........................\n",
      "Reject the null hypothesis that Monthly Income are similar.\n",
      "P-value is [0.02676371]\n"
     ]
    }
   ],
   "source": [
    "scale_test(approved['Monthly_Income'], not_approved['Monthly_Income'])"
   ]
  },
  {
   "cell_type": "markdown",
   "id": "1dbc3507-35df-42fe-83bf-a78d04def544",
   "metadata": {},
   "source": [
    "### Scale and test Age"
   ]
  },
  {
   "cell_type": "code",
   "execution_count": 48,
   "id": "b4ef581f-bdc0-4f3c-988e-034ab4b1a227",
   "metadata": {},
   "outputs": [
    {
     "name": "stdout",
     "output_type": "stream",
     "text": [
      "***Box-Cox Scaled***\n",
      "Levene's test of variance...................................\n",
      "Fail to reject the null hypothesis of equal variance between groups.\n",
      "P-value is [0.69973729].\n",
      "\n",
      "Mann Whitney U test of distribution..........................\n",
      "Fail to reject the null hypothesis that Monthly Income are similar.\n",
      "P-value is [0.6778571]\n",
      "\n",
      "\n",
      "***Standardized***\n",
      "Levene's test of variance...................................\n",
      "Fail to reject the null hypothesis of equal variance between groups.\n",
      "P-value is [0.34586098].\n",
      "\n",
      "Mann Whitney U test of distribution..........................\n",
      "Fail to reject the null hypothesis that Monthly Income are similar.\n",
      "P-value is [0.6778571]\n"
     ]
    }
   ],
   "source": [
    "scale_test(approved['Age'], not_approved['Age'])"
   ]
  },
  {
   "cell_type": "code",
   "execution_count": null,
   "id": "a6c9ada4-b8db-40d9-b8e6-d2f5b8c8f803",
   "metadata": {},
   "outputs": [],
   "source": []
  },
  {
   "cell_type": "code",
   "execution_count": null,
   "id": "28bf5668-eb96-4756-9845-9bba039d9106",
   "metadata": {},
   "outputs": [],
   "source": []
  },
  {
   "cell_type": "code",
   "execution_count": null,
   "id": "28f7a0cf-88d3-4ac6-9f13-ac05ca88e770",
   "metadata": {},
   "outputs": [],
   "source": []
  },
  {
   "cell_type": "code",
   "execution_count": null,
   "id": "257ea50a-d120-4893-a343-4e009d12d1aa",
   "metadata": {},
   "outputs": [],
   "source": []
  },
  {
   "cell_type": "code",
   "execution_count": null,
   "id": "69e87c39-a477-4910-9333-c7bc30579bda",
   "metadata": {},
   "outputs": [],
   "source": []
  },
  {
   "cell_type": "code",
   "execution_count": null,
   "id": "976f32fe-8a77-4dba-a82b-7d8b9b936b51",
   "metadata": {},
   "outputs": [],
   "source": []
  },
  {
   "cell_type": "code",
   "execution_count": null,
   "id": "cc75f969-957f-435f-ada9-a6ab798871ae",
   "metadata": {},
   "outputs": [],
   "source": []
  }
 ],
 "metadata": {
  "kernelspec": {
   "display_name": "Python 3 (ipykernel)",
   "language": "python",
   "name": "python3"
  },
  "language_info": {
   "codemirror_mode": {
    "name": "ipython",
    "version": 3
   },
   "file_extension": ".py",
   "mimetype": "text/x-python",
   "name": "python",
   "nbconvert_exporter": "python",
   "pygments_lexer": "ipython3",
   "version": "3.11.5"
  }
 },
 "nbformat": 4,
 "nbformat_minor": 5
}
