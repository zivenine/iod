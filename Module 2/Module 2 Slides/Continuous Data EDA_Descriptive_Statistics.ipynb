{
 "cells": [
  {
   "cell_type": "code",
   "execution_count": 96,
   "metadata": {
    "colab": {},
    "colab_type": "code",
    "id": "t_vdqTd18EtY"
   },
   "outputs": [],
   "source": [
    "# import libraries\n",
    "import pandas as pd\n",
    "import numpy as np"
   ]
  },
  {
   "cell_type": "code",
   "execution_count": 133,
   "metadata": {
    "colab": {
     "base_uri": "https://localhost:8080/",
     "height": 309
    },
    "colab_type": "code",
    "id": "2ccn8bquu4LE",
    "outputId": "68626f3f-669b-4535-812e-862e9e95bf1b"
   },
   "outputs": [
    {
     "data": {
      "text/html": [
       "<div>\n",
       "<style scoped>\n",
       "    .dataframe tbody tr th:only-of-type {\n",
       "        vertical-align: middle;\n",
       "    }\n",
       "\n",
       "    .dataframe tbody tr th {\n",
       "        vertical-align: top;\n",
       "    }\n",
       "\n",
       "    .dataframe thead th {\n",
       "        text-align: right;\n",
       "    }\n",
       "</style>\n",
       "<table border=\"1\" class=\"dataframe\">\n",
       "  <thead>\n",
       "    <tr style=\"text-align: right;\">\n",
       "      <th></th>\n",
       "      <th>symboling</th>\n",
       "      <th>normalized-losses</th>\n",
       "      <th>make</th>\n",
       "      <th>fuel-type</th>\n",
       "      <th>aspiration</th>\n",
       "      <th>num-of-doors</th>\n",
       "      <th>body-style</th>\n",
       "      <th>drive-wheels</th>\n",
       "      <th>engine-location</th>\n",
       "      <th>wheel-base</th>\n",
       "      <th>...</th>\n",
       "      <th>engine-size</th>\n",
       "      <th>fuel-system</th>\n",
       "      <th>bore</th>\n",
       "      <th>stroke</th>\n",
       "      <th>compression-ratio</th>\n",
       "      <th>horsepower</th>\n",
       "      <th>peak-rpm</th>\n",
       "      <th>city-mpg</th>\n",
       "      <th>highway-mpg</th>\n",
       "      <th>price</th>\n",
       "    </tr>\n",
       "  </thead>\n",
       "  <tbody>\n",
       "    <tr>\n",
       "      <th>0</th>\n",
       "      <td>3</td>\n",
       "      <td>?</td>\n",
       "      <td>alfa-romero</td>\n",
       "      <td>gas</td>\n",
       "      <td>std</td>\n",
       "      <td>two</td>\n",
       "      <td>convertible</td>\n",
       "      <td>rwd</td>\n",
       "      <td>front</td>\n",
       "      <td>88.6</td>\n",
       "      <td>...</td>\n",
       "      <td>130</td>\n",
       "      <td>mpfi</td>\n",
       "      <td>3.47</td>\n",
       "      <td>2.68</td>\n",
       "      <td>9.0</td>\n",
       "      <td>111</td>\n",
       "      <td>5000</td>\n",
       "      <td>21</td>\n",
       "      <td>27</td>\n",
       "      <td>13495</td>\n",
       "    </tr>\n",
       "    <tr>\n",
       "      <th>1</th>\n",
       "      <td>3</td>\n",
       "      <td>?</td>\n",
       "      <td>alfa-romero</td>\n",
       "      <td>gas</td>\n",
       "      <td>std</td>\n",
       "      <td>two</td>\n",
       "      <td>convertible</td>\n",
       "      <td>rwd</td>\n",
       "      <td>front</td>\n",
       "      <td>88.6</td>\n",
       "      <td>...</td>\n",
       "      <td>130</td>\n",
       "      <td>mpfi</td>\n",
       "      <td>3.47</td>\n",
       "      <td>2.68</td>\n",
       "      <td>9.0</td>\n",
       "      <td>111</td>\n",
       "      <td>5000</td>\n",
       "      <td>21</td>\n",
       "      <td>27</td>\n",
       "      <td>16500</td>\n",
       "    </tr>\n",
       "    <tr>\n",
       "      <th>2</th>\n",
       "      <td>1</td>\n",
       "      <td>?</td>\n",
       "      <td>alfa-romero</td>\n",
       "      <td>gas</td>\n",
       "      <td>std</td>\n",
       "      <td>two</td>\n",
       "      <td>hatchback</td>\n",
       "      <td>rwd</td>\n",
       "      <td>front</td>\n",
       "      <td>94.5</td>\n",
       "      <td>...</td>\n",
       "      <td>152</td>\n",
       "      <td>mpfi</td>\n",
       "      <td>2.68</td>\n",
       "      <td>3.47</td>\n",
       "      <td>9.0</td>\n",
       "      <td>154</td>\n",
       "      <td>5000</td>\n",
       "      <td>19</td>\n",
       "      <td>26</td>\n",
       "      <td>16500</td>\n",
       "    </tr>\n",
       "    <tr>\n",
       "      <th>3</th>\n",
       "      <td>2</td>\n",
       "      <td>164</td>\n",
       "      <td>audi</td>\n",
       "      <td>gas</td>\n",
       "      <td>std</td>\n",
       "      <td>four</td>\n",
       "      <td>sedan</td>\n",
       "      <td>fwd</td>\n",
       "      <td>front</td>\n",
       "      <td>99.8</td>\n",
       "      <td>...</td>\n",
       "      <td>109</td>\n",
       "      <td>mpfi</td>\n",
       "      <td>3.19</td>\n",
       "      <td>3.4</td>\n",
       "      <td>10.0</td>\n",
       "      <td>102</td>\n",
       "      <td>5500</td>\n",
       "      <td>24</td>\n",
       "      <td>30</td>\n",
       "      <td>13950</td>\n",
       "    </tr>\n",
       "    <tr>\n",
       "      <th>4</th>\n",
       "      <td>2</td>\n",
       "      <td>164</td>\n",
       "      <td>audi</td>\n",
       "      <td>gas</td>\n",
       "      <td>std</td>\n",
       "      <td>four</td>\n",
       "      <td>sedan</td>\n",
       "      <td>4wd</td>\n",
       "      <td>front</td>\n",
       "      <td>99.4</td>\n",
       "      <td>...</td>\n",
       "      <td>136</td>\n",
       "      <td>mpfi</td>\n",
       "      <td>3.19</td>\n",
       "      <td>3.4</td>\n",
       "      <td>8.0</td>\n",
       "      <td>115</td>\n",
       "      <td>5500</td>\n",
       "      <td>18</td>\n",
       "      <td>22</td>\n",
       "      <td>17450</td>\n",
       "    </tr>\n",
       "  </tbody>\n",
       "</table>\n",
       "<p>5 rows × 26 columns</p>\n",
       "</div>"
      ],
      "text/plain": [
       "   symboling normalized-losses         make fuel-type aspiration num-of-doors  \\\n",
       "0          3                 ?  alfa-romero       gas        std          two   \n",
       "1          3                 ?  alfa-romero       gas        std          two   \n",
       "2          1                 ?  alfa-romero       gas        std          two   \n",
       "3          2               164         audi       gas        std         four   \n",
       "4          2               164         audi       gas        std         four   \n",
       "\n",
       "    body-style drive-wheels engine-location  wheel-base  ...  engine-size  \\\n",
       "0  convertible          rwd           front        88.6  ...          130   \n",
       "1  convertible          rwd           front        88.6  ...          130   \n",
       "2    hatchback          rwd           front        94.5  ...          152   \n",
       "3        sedan          fwd           front        99.8  ...          109   \n",
       "4        sedan          4wd           front        99.4  ...          136   \n",
       "\n",
       "   fuel-system  bore  stroke compression-ratio horsepower  peak-rpm city-mpg  \\\n",
       "0         mpfi  3.47    2.68               9.0        111      5000       21   \n",
       "1         mpfi  3.47    2.68               9.0        111      5000       21   \n",
       "2         mpfi  2.68    3.47               9.0        154      5000       19   \n",
       "3         mpfi  3.19     3.4              10.0        102      5500       24   \n",
       "4         mpfi  3.19     3.4               8.0        115      5500       18   \n",
       "\n",
       "  highway-mpg  price  \n",
       "0          27  13495  \n",
       "1          27  16500  \n",
       "2          26  16500  \n",
       "3          30  13950  \n",
       "4          22  17450  \n",
       "\n",
       "[5 rows x 26 columns]"
      ]
     },
     "execution_count": 133,
     "metadata": {},
     "output_type": "execute_result"
    }
   ],
   "source": [
    "# loading data set as Pandas dataframe\n",
    "df = pd.read_csv(\"https://raw.githubusercontent.com/PacktPublishing/hands-on-exploratory-data-analysis-with-python/master/Chapter%205/data.csv\")\n",
    "df.head()"
   ]
  },
  {
   "cell_type": "code",
   "execution_count": 134,
   "metadata": {},
   "outputs": [
    {
     "ename": "NameError",
     "evalue": "name 'boolean' is not defined",
     "output_type": "error",
     "traceback": [
      "\u001b[0;31m---------------------------------------------------------------------------\u001b[0m",
      "\u001b[0;31mNameError\u001b[0m                                 Traceback (most recent call last)",
      "\u001b[0;32m/var/folders/n5/g6mnx0yj7k1cpjk618spcsw80000gn/T/ipykernel_52187/690857178.py\u001b[0m in \u001b[0;36m<module>\u001b[0;34m\u001b[0m\n\u001b[0;32m----> 1\u001b[0;31m \u001b[0mboolean\u001b[0m \u001b[0;34m-\u001b[0m  \u001b[0;36m1\u001b[0m \u001b[0;32mor\u001b[0m \u001b[0;36m0\u001b[0m\u001b[0;34m,\u001b[0m \u001b[0mtrue\u001b[0m \u001b[0;32mor\u001b[0m \u001b[0mfalse\u001b[0m\u001b[0;34m\u001b[0m\u001b[0;34m\u001b[0m\u001b[0m\n\u001b[0m\u001b[1;32m      2\u001b[0m \u001b[0;34m\u001b[0m\u001b[0m\n\u001b[1;32m      3\u001b[0m \u001b[0mfuel\u001b[0m\u001b[0;34m-\u001b[0m\u001b[0mtype\u001b[0m \u001b[0;34m-\u001b[0m\u001b[0;34m-\u001b[0m \u001b[0mstring\u001b[0m \u001b[0;34m-\u001b[0m\u001b[0;34m-\u001b[0m \u001b[0;34m[\u001b[0m\u001b[0mgas\u001b[0m\u001b[0;34m,\u001b[0m \u001b[0mfuel\u001b[0m\u001b[0;34m,\u001b[0m \u001b[0melectronic\u001b[0m\u001b[0;34m]\u001b[0m   \u001b[0;34m<\u001b[0m\u001b[0;34m-\u001b[0m \u001b[0mcategorical\u001b[0m\u001b[0;34m\u001b[0m\u001b[0;34m\u001b[0m\u001b[0m\n",
      "\u001b[0;31mNameError\u001b[0m: name 'boolean' is not defined"
     ]
    }
   ],
   "source": [
    "boolean -  1 or 0, true or false \n",
    "\n",
    "fuel-type -- string -- [gas, fuel, electronic]   <- categorical "
   ]
  },
  {
   "cell_type": "code",
   "execution_count": 135,
   "metadata": {
    "colab": {
     "base_uri": "https://localhost:8080/",
     "height": 476
    },
    "colab_type": "code",
    "id": "KrCdNtnKOiVe",
    "outputId": "c20392c8-6524-428f-857b-51724d0fbb09"
   },
   "outputs": [
    {
     "data": {
      "text/plain": [
       "symboling              int64\n",
       "normalized-losses     object\n",
       "make                  object\n",
       "fuel-type             object\n",
       "aspiration            object\n",
       "num-of-doors          object\n",
       "body-style            object\n",
       "drive-wheels          object\n",
       "engine-location       object\n",
       "wheel-base           float64\n",
       "length               float64\n",
       "width                float64\n",
       "height               float64\n",
       "curb-weight            int64\n",
       "engine-type           object\n",
       "num-of-cylinders      object\n",
       "engine-size            int64\n",
       "fuel-system           object\n",
       "bore                  object\n",
       "stroke                object\n",
       "compression-ratio    float64\n",
       "horsepower            object\n",
       "peak-rpm              object\n",
       "city-mpg               int64\n",
       "highway-mpg            int64\n",
       "price                 object\n",
       "dtype: object"
      ]
     },
     "execution_count": 135,
     "metadata": {},
     "output_type": "execute_result"
    }
   ],
   "source": [
    "df.dtypes"
   ]
  },
  {
   "cell_type": "markdown",
   "metadata": {
    "colab_type": "text",
    "id": "bjbweKCCSZ6_"
   },
   "source": [
    "# Data Cleaning"
   ]
  },
  {
   "cell_type": "code",
   "execution_count": 136,
   "metadata": {
    "colab": {
     "base_uri": "https://localhost:8080/",
     "height": 119
    },
    "colab_type": "code",
    "id": "WT3hky4XEc7y",
    "outputId": "4c16af26-55bb-4919-d5a8-95b4a5fbd4fe"
   },
   "outputs": [
    {
     "data": {
      "text/plain": [
       "price\n",
       "True     201\n",
       "False      4\n",
       "Name: count, dtype: int64"
      ]
     },
     "execution_count": 136,
     "metadata": {},
     "output_type": "execute_result"
    }
   ],
   "source": [
    "# Find out the number of values which are not numeric\n",
    "df['price'].str.isnumeric().value_counts()"
   ]
  },
  {
   "cell_type": "code",
   "execution_count": 137,
   "metadata": {},
   "outputs": [
    {
     "data": {
      "text/plain": [
       "9      ?\n",
       "44     ?\n",
       "45     ?\n",
       "129    ?\n",
       "Name: price, dtype: object"
      ]
     },
     "execution_count": 137,
     "metadata": {},
     "output_type": "execute_result"
    }
   ],
   "source": [
    "# List out the values which are not numeric\n",
    "df['price'].loc[df['price'].str.isnumeric() == False]"
   ]
  },
  {
   "cell_type": "code",
   "execution_count": 138,
   "metadata": {},
   "outputs": [],
   "source": [
    "price = df['price'].loc[df['price'] != '?']"
   ]
  },
  {
   "cell_type": "code",
   "execution_count": 139,
   "metadata": {},
   "outputs": [
    {
     "data": {
      "text/plain": [
       "0      13495\n",
       "1      16500\n",
       "2      16500\n",
       "3      13950\n",
       "4      17450\n",
       "       ...  \n",
       "200    16845\n",
       "201    19045\n",
       "202    21485\n",
       "203    22470\n",
       "204    22625\n",
       "Name: price, Length: 201, dtype: object"
      ]
     },
     "execution_count": 139,
     "metadata": {},
     "output_type": "execute_result"
    }
   ],
   "source": [
    "price"
   ]
  },
  {
   "cell_type": "code",
   "execution_count": 140,
   "metadata": {},
   "outputs": [
    {
     "data": {
      "text/plain": [
       "13207.129353233831"
      ]
     },
     "execution_count": 140,
     "metadata": {},
     "output_type": "execute_result"
    }
   ],
   "source": [
    "price.astype('int').mean()"
   ]
  },
  {
   "cell_type": "code",
   "execution_count": 141,
   "metadata": {},
   "outputs": [
    {
     "data": {
      "text/plain": [
       "0    13495\n",
       "1    16500\n",
       "2    16500\n",
       "3    13950\n",
       "4    17450\n",
       "Name: price, dtype: int64"
      ]
     },
     "execution_count": 141,
     "metadata": {},
     "output_type": "execute_result"
    }
   ],
   "source": [
    "#Setting the missing value to mean of price and convert the datatype to integer\n",
    "price = df['price'].loc[df['price'] != '?']\n",
    "pmean = price.astype(str).astype(int).mean()\n",
    "df['price'] = df['price'].replace('?',pmean).astype(int)\n",
    "df['price'].head()"
   ]
  },
  {
   "cell_type": "code",
   "execution_count": 142,
   "metadata": {},
   "outputs": [
    {
     "ename": "NameError",
     "evalue": "name 'pandas' is not defined",
     "output_type": "error",
     "traceback": [
      "\u001b[0;31m---------------------------------------------------------------------------\u001b[0m",
      "\u001b[0;31mNameError\u001b[0m                                 Traceback (most recent call last)",
      "\u001b[0;32m/var/folders/n5/g6mnx0yj7k1cpjk618spcsw80000gn/T/ipykernel_52187/893791076.py\u001b[0m in \u001b[0;36m<module>\u001b[0;34m\u001b[0m\n\u001b[1;32m      1\u001b[0m \u001b[0;31m## another way to fix the value\u001b[0m\u001b[0;34m\u001b[0m\u001b[0;34m\u001b[0m\u001b[0m\n\u001b[0;32m----> 2\u001b[0;31m \u001b[0mpandas\u001b[0m\u001b[0;34m.\u001b[0m\u001b[0mfillna\u001b[0m\u001b[0;34m(\u001b[0m\u001b[0;34m)\u001b[0m\u001b[0;34m\u001b[0m\u001b[0;34m\u001b[0m\u001b[0m\n\u001b[0m",
      "\u001b[0;31mNameError\u001b[0m: name 'pandas' is not defined"
     ]
    }
   ],
   "source": [
    "## another way to fix the value\n",
    "pandas.fillna()"
   ]
  },
  {
   "cell_type": "code",
   "execution_count": 143,
   "metadata": {},
   "outputs": [
    {
     "data": {
      "text/html": [
       "<div>\n",
       "<style scoped>\n",
       "    .dataframe tbody tr th:only-of-type {\n",
       "        vertical-align: middle;\n",
       "    }\n",
       "\n",
       "    .dataframe tbody tr th {\n",
       "        vertical-align: top;\n",
       "    }\n",
       "\n",
       "    .dataframe thead th {\n",
       "        text-align: right;\n",
       "    }\n",
       "</style>\n",
       "<table border=\"1\" class=\"dataframe\">\n",
       "  <thead>\n",
       "    <tr style=\"text-align: right;\">\n",
       "      <th></th>\n",
       "      <th>symboling</th>\n",
       "      <th>normalized-losses</th>\n",
       "      <th>make</th>\n",
       "      <th>fuel-type</th>\n",
       "      <th>aspiration</th>\n",
       "      <th>num-of-doors</th>\n",
       "      <th>body-style</th>\n",
       "      <th>drive-wheels</th>\n",
       "      <th>engine-location</th>\n",
       "      <th>wheel-base</th>\n",
       "      <th>...</th>\n",
       "      <th>engine-size</th>\n",
       "      <th>fuel-system</th>\n",
       "      <th>bore</th>\n",
       "      <th>stroke</th>\n",
       "      <th>compression-ratio</th>\n",
       "      <th>horsepower</th>\n",
       "      <th>peak-rpm</th>\n",
       "      <th>city-mpg</th>\n",
       "      <th>highway-mpg</th>\n",
       "      <th>price</th>\n",
       "    </tr>\n",
       "  </thead>\n",
       "  <tbody>\n",
       "  </tbody>\n",
       "</table>\n",
       "<p>0 rows × 26 columns</p>\n",
       "</div>"
      ],
      "text/plain": [
       "Empty DataFrame\n",
       "Columns: [symboling, normalized-losses, make, fuel-type, aspiration, num-of-doors, body-style, drive-wheels, engine-location, wheel-base, length, width, height, curb-weight, engine-type, num-of-cylinders, engine-size, fuel-system, bore, stroke, compression-ratio, horsepower, peak-rpm, city-mpg, highway-mpg, price]\n",
       "Index: []\n",
       "\n",
       "[0 rows x 26 columns]"
      ]
     },
     "execution_count": 143,
     "metadata": {},
     "output_type": "execute_result"
    }
   ],
   "source": [
    "df[df['price'] == '?']"
   ]
  },
  {
   "cell_type": "code",
   "execution_count": 144,
   "metadata": {},
   "outputs": [],
   "source": [
    "df.loc[df['price'] == '?','price'] = np.nan"
   ]
  },
  {
   "cell_type": "code",
   "execution_count": 145,
   "metadata": {},
   "outputs": [
    {
     "data": {
      "text/html": [
       "<div>\n",
       "<style scoped>\n",
       "    .dataframe tbody tr th:only-of-type {\n",
       "        vertical-align: middle;\n",
       "    }\n",
       "\n",
       "    .dataframe tbody tr th {\n",
       "        vertical-align: top;\n",
       "    }\n",
       "\n",
       "    .dataframe thead th {\n",
       "        text-align: right;\n",
       "    }\n",
       "</style>\n",
       "<table border=\"1\" class=\"dataframe\">\n",
       "  <thead>\n",
       "    <tr style=\"text-align: right;\">\n",
       "      <th></th>\n",
       "      <th>symboling</th>\n",
       "      <th>normalized-losses</th>\n",
       "      <th>make</th>\n",
       "      <th>fuel-type</th>\n",
       "      <th>aspiration</th>\n",
       "      <th>num-of-doors</th>\n",
       "      <th>body-style</th>\n",
       "      <th>drive-wheels</th>\n",
       "      <th>engine-location</th>\n",
       "      <th>wheel-base</th>\n",
       "      <th>...</th>\n",
       "      <th>engine-size</th>\n",
       "      <th>fuel-system</th>\n",
       "      <th>bore</th>\n",
       "      <th>stroke</th>\n",
       "      <th>compression-ratio</th>\n",
       "      <th>horsepower</th>\n",
       "      <th>peak-rpm</th>\n",
       "      <th>city-mpg</th>\n",
       "      <th>highway-mpg</th>\n",
       "      <th>price</th>\n",
       "    </tr>\n",
       "  </thead>\n",
       "  <tbody>\n",
       "  </tbody>\n",
       "</table>\n",
       "<p>0 rows × 26 columns</p>\n",
       "</div>"
      ],
      "text/plain": [
       "Empty DataFrame\n",
       "Columns: [symboling, normalized-losses, make, fuel-type, aspiration, num-of-doors, body-style, drive-wheels, engine-location, wheel-base, length, width, height, curb-weight, engine-type, num-of-cylinders, engine-size, fuel-system, bore, stroke, compression-ratio, horsepower, peak-rpm, city-mpg, highway-mpg, price]\n",
       "Index: []\n",
       "\n",
       "[0 rows x 26 columns]"
      ]
     },
     "execution_count": 145,
     "metadata": {},
     "output_type": "execute_result"
    }
   ],
   "source": [
    "df[df['price'].isna()]"
   ]
  },
  {
   "cell_type": "code",
   "execution_count": 146,
   "metadata": {},
   "outputs": [],
   "source": [
    "df['price'] = df['price'].fillna(mean)"
   ]
  },
  {
   "cell_type": "code",
   "execution_count": 147,
   "metadata": {},
   "outputs": [
    {
     "data": {
      "text/plain": [
       "0"
      ]
     },
     "execution_count": 147,
     "metadata": {},
     "output_type": "execute_result"
    }
   ],
   "source": [
    "sum(df['price'].isna())"
   ]
  },
  {
   "cell_type": "code",
   "execution_count": 148,
   "metadata": {
    "colab": {
     "base_uri": "https://localhost:8080/",
     "height": 119
    },
    "colab_type": "code",
    "id": "3aGIcFuaNOnk",
    "outputId": "327537d5-5869-4c2e-c0da-064fa17fcc3f"
   },
   "outputs": [
    {
     "data": {
      "text/plain": [
       "0    111\n",
       "1    111\n",
       "2    154\n",
       "3    102\n",
       "4    115\n",
       "Name: horsepower, dtype: int64"
      ]
     },
     "execution_count": 148,
     "metadata": {},
     "output_type": "execute_result"
    }
   ],
   "source": [
    "# Cleaning the horsepower losses field\n",
    "df['horsepower'].str.isnumeric().value_counts()\n",
    "horsepower = df['horsepower'].loc[df['horsepower'] != '?']\n",
    "hpmean = horsepower.astype(str).astype(int).mean()\n",
    "df['horsepower'] = df['horsepower'].replace('?',hpmean).astype(int)\n",
    "df['horsepower'].head()"
   ]
  },
  {
   "cell_type": "code",
   "execution_count": 149,
   "metadata": {
    "colab": {
     "base_uri": "https://localhost:8080/",
     "height": 119
    },
    "colab_type": "code",
    "id": "v3EMdTUUSrUq",
    "outputId": "91af39f8-eb0b-463d-833d-6b7adc223294"
   },
   "outputs": [
    {
     "data": {
      "text/plain": [
       "0    164\n",
       "1    164\n",
       "2    164\n",
       "3    164\n",
       "4    164\n",
       "Name: normalized-losses, dtype: int64"
      ]
     },
     "execution_count": 149,
     "metadata": {},
     "output_type": "execute_result"
    }
   ],
   "source": [
    "# Cleaning the Normalized losses field\n",
    "df[df['normalized-losses']=='?'].count()\n",
    "nl=df['normalized-losses'].loc[df['normalized-losses'] !='?'].count()\n",
    "nmean=nl.astype(str).astype(int).mean()\n",
    "df['normalized-losses'] = df['normalized-losses'].replace('?',nmean).astype(int)\n",
    "df['normalized-losses'].head()"
   ]
  },
  {
   "cell_type": "code",
   "execution_count": 150,
   "metadata": {
    "colab": {
     "base_uri": "https://localhost:8080/",
     "height": 119
    },
    "colab_type": "code",
    "id": "tQRjtnUnS-wd",
    "outputId": "5d437dd5-13e3-47ae-d49e-7286f956b92d"
   },
   "outputs": [
    {
     "data": {
      "text/plain": [
       "0    3.47\n",
       "1    3.47\n",
       "2    2.68\n",
       "3    3.19\n",
       "4    3.19\n",
       "Name: bore, dtype: float64"
      ]
     },
     "execution_count": 150,
     "metadata": {},
     "output_type": "execute_result"
    }
   ],
   "source": [
    "# cleaning the bore\n",
    "# Find out the number of invalid value\n",
    "df['bore'].loc[df['bore'] == '?']\n",
    "# Replace the non-numeric value to null and convert the datatype\n",
    "df['bore'] = pd.to_numeric(df['bore'],errors='coerce')\n",
    "df.bore.head()"
   ]
  },
  {
   "cell_type": "code",
   "execution_count": 151,
   "metadata": {
    "colab": {
     "base_uri": "https://localhost:8080/",
     "height": 119
    },
    "colab_type": "code",
    "id": "jp2uE8OzTOcp",
    "outputId": "81e4c2e7-9faa-4867-a008-b1355dd3dca7"
   },
   "outputs": [
    {
     "data": {
      "text/plain": [
       "0    2.68\n",
       "1    2.68\n",
       "2    3.47\n",
       "3    3.40\n",
       "4    3.40\n",
       "Name: stroke, dtype: float64"
      ]
     },
     "execution_count": 151,
     "metadata": {},
     "output_type": "execute_result"
    }
   ],
   "source": [
    "# Cleaning the column stoke\n",
    "df['stroke'] = pd.to_numeric(df['stroke'],errors='coerce')\n",
    "df['stroke'].head()"
   ]
  },
  {
   "cell_type": "code",
   "execution_count": 152,
   "metadata": {
    "colab": {
     "base_uri": "https://localhost:8080/",
     "height": 119
    },
    "colab_type": "code",
    "id": "vC5Ey5yuTb0H",
    "outputId": "ee1a5b98-8253-4ab5-de97-827abb44a4dc"
   },
   "outputs": [
    {
     "data": {
      "text/plain": [
       "0    5000.0\n",
       "1    5000.0\n",
       "2    5000.0\n",
       "3    5500.0\n",
       "4    5500.0\n",
       "Name: peak-rpm, dtype: float64"
      ]
     },
     "execution_count": 152,
     "metadata": {},
     "output_type": "execute_result"
    }
   ],
   "source": [
    "# Cleaning the column peak-rpm \n",
    "df['peak-rpm'] = pd.to_numeric(df['peak-rpm'],errors='coerce')\n",
    "df['peak-rpm'].head()"
   ]
  },
  {
   "cell_type": "code",
   "execution_count": 153,
   "metadata": {
    "colab": {
     "base_uri": "https://localhost:8080/",
     "height": 34
    },
    "colab_type": "code",
    "id": "sjEWKFd6Tug9",
    "outputId": "26086dad-c41e-420c-c3b6-05a3c1f0fbb8"
   },
   "outputs": [
    {
     "data": {
      "text/plain": [
       "Series([], Name: num-of-doors, dtype: object)"
      ]
     },
     "execution_count": 153,
     "metadata": {},
     "output_type": "execute_result"
    }
   ],
   "source": [
    "# Cleaning the Column num-of-doors data\n",
    "# remove the records which are having the value '?'\n",
    "df['num-of-doors'].loc[df['num-of-doors'] == '?']\n",
    "df= df[df['num-of-doors'] != '?']\n",
    "df['num-of-doors'].loc[df['num-of-doors'] == '?']"
   ]
  },
  {
   "cell_type": "code",
   "execution_count": 154,
   "metadata": {
    "colab": {
     "base_uri": "https://localhost:8080/",
     "height": 297
    },
    "colab_type": "code",
    "id": "Rz3m8rQb9gmw",
    "outputId": "948f737d-0945-4361-e060-70da9b5950bc"
   },
   "outputs": [
    {
     "data": {
      "text/html": [
       "<div>\n",
       "<style scoped>\n",
       "    .dataframe tbody tr th:only-of-type {\n",
       "        vertical-align: middle;\n",
       "    }\n",
       "\n",
       "    .dataframe tbody tr th {\n",
       "        vertical-align: top;\n",
       "    }\n",
       "\n",
       "    .dataframe thead th {\n",
       "        text-align: right;\n",
       "    }\n",
       "</style>\n",
       "<table border=\"1\" class=\"dataframe\">\n",
       "  <thead>\n",
       "    <tr style=\"text-align: right;\">\n",
       "      <th></th>\n",
       "      <th>symboling</th>\n",
       "      <th>normalized-losses</th>\n",
       "      <th>wheel-base</th>\n",
       "      <th>length</th>\n",
       "      <th>width</th>\n",
       "      <th>height</th>\n",
       "      <th>curb-weight</th>\n",
       "      <th>engine-size</th>\n",
       "      <th>bore</th>\n",
       "      <th>stroke</th>\n",
       "      <th>compression-ratio</th>\n",
       "      <th>horsepower</th>\n",
       "      <th>peak-rpm</th>\n",
       "      <th>city-mpg</th>\n",
       "      <th>highway-mpg</th>\n",
       "      <th>price</th>\n",
       "    </tr>\n",
       "  </thead>\n",
       "  <tbody>\n",
       "    <tr>\n",
       "      <th>count</th>\n",
       "      <td>203.000000</td>\n",
       "      <td>203.000000</td>\n",
       "      <td>203.000000</td>\n",
       "      <td>203.00000</td>\n",
       "      <td>203.000000</td>\n",
       "      <td>203.000000</td>\n",
       "      <td>203.000000</td>\n",
       "      <td>203.000000</td>\n",
       "      <td>199.000000</td>\n",
       "      <td>199.000000</td>\n",
       "      <td>203.000000</td>\n",
       "      <td>203.000000</td>\n",
       "      <td>201.000000</td>\n",
       "      <td>203.000000</td>\n",
       "      <td>203.000000</td>\n",
       "      <td>203.000000</td>\n",
       "    </tr>\n",
       "    <tr>\n",
       "      <th>mean</th>\n",
       "      <td>0.837438</td>\n",
       "      <td>130.147783</td>\n",
       "      <td>98.781281</td>\n",
       "      <td>174.11330</td>\n",
       "      <td>65.915271</td>\n",
       "      <td>53.731527</td>\n",
       "      <td>2557.916256</td>\n",
       "      <td>127.073892</td>\n",
       "      <td>3.330955</td>\n",
       "      <td>3.254070</td>\n",
       "      <td>10.093202</td>\n",
       "      <td>104.463054</td>\n",
       "      <td>5125.870647</td>\n",
       "      <td>25.172414</td>\n",
       "      <td>30.699507</td>\n",
       "      <td>13241.911330</td>\n",
       "    </tr>\n",
       "    <tr>\n",
       "      <th>std</th>\n",
       "      <td>1.250021</td>\n",
       "      <td>35.956490</td>\n",
       "      <td>6.040994</td>\n",
       "      <td>12.33909</td>\n",
       "      <td>2.150274</td>\n",
       "      <td>2.442526</td>\n",
       "      <td>522.557049</td>\n",
       "      <td>41.797123</td>\n",
       "      <td>0.274054</td>\n",
       "      <td>0.318023</td>\n",
       "      <td>3.888216</td>\n",
       "      <td>39.612384</td>\n",
       "      <td>479.820136</td>\n",
       "      <td>6.529812</td>\n",
       "      <td>6.874645</td>\n",
       "      <td>7898.957924</td>\n",
       "    </tr>\n",
       "    <tr>\n",
       "      <th>min</th>\n",
       "      <td>-2.000000</td>\n",
       "      <td>65.000000</td>\n",
       "      <td>86.600000</td>\n",
       "      <td>141.10000</td>\n",
       "      <td>60.300000</td>\n",
       "      <td>47.800000</td>\n",
       "      <td>1488.000000</td>\n",
       "      <td>61.000000</td>\n",
       "      <td>2.540000</td>\n",
       "      <td>2.070000</td>\n",
       "      <td>7.000000</td>\n",
       "      <td>48.000000</td>\n",
       "      <td>4150.000000</td>\n",
       "      <td>13.000000</td>\n",
       "      <td>16.000000</td>\n",
       "      <td>5118.000000</td>\n",
       "    </tr>\n",
       "    <tr>\n",
       "      <th>25%</th>\n",
       "      <td>0.000000</td>\n",
       "      <td>101.000000</td>\n",
       "      <td>94.500000</td>\n",
       "      <td>166.55000</td>\n",
       "      <td>64.100000</td>\n",
       "      <td>52.000000</td>\n",
       "      <td>2145.000000</td>\n",
       "      <td>97.000000</td>\n",
       "      <td>3.150000</td>\n",
       "      <td>3.110000</td>\n",
       "      <td>8.600000</td>\n",
       "      <td>70.000000</td>\n",
       "      <td>4800.000000</td>\n",
       "      <td>19.000000</td>\n",
       "      <td>25.000000</td>\n",
       "      <td>7781.500000</td>\n",
       "    </tr>\n",
       "    <tr>\n",
       "      <th>50%</th>\n",
       "      <td>1.000000</td>\n",
       "      <td>128.000000</td>\n",
       "      <td>97.000000</td>\n",
       "      <td>173.20000</td>\n",
       "      <td>65.500000</td>\n",
       "      <td>54.100000</td>\n",
       "      <td>2414.000000</td>\n",
       "      <td>120.000000</td>\n",
       "      <td>3.310000</td>\n",
       "      <td>3.290000</td>\n",
       "      <td>9.000000</td>\n",
       "      <td>95.000000</td>\n",
       "      <td>5200.000000</td>\n",
       "      <td>24.000000</td>\n",
       "      <td>30.000000</td>\n",
       "      <td>10595.000000</td>\n",
       "    </tr>\n",
       "    <tr>\n",
       "      <th>75%</th>\n",
       "      <td>2.000000</td>\n",
       "      <td>164.000000</td>\n",
       "      <td>102.400000</td>\n",
       "      <td>183.30000</td>\n",
       "      <td>66.900000</td>\n",
       "      <td>55.500000</td>\n",
       "      <td>2943.500000</td>\n",
       "      <td>143.000000</td>\n",
       "      <td>3.590000</td>\n",
       "      <td>3.410000</td>\n",
       "      <td>9.400000</td>\n",
       "      <td>116.000000</td>\n",
       "      <td>5500.000000</td>\n",
       "      <td>30.000000</td>\n",
       "      <td>34.000000</td>\n",
       "      <td>16500.000000</td>\n",
       "    </tr>\n",
       "    <tr>\n",
       "      <th>max</th>\n",
       "      <td>3.000000</td>\n",
       "      <td>256.000000</td>\n",
       "      <td>120.900000</td>\n",
       "      <td>208.10000</td>\n",
       "      <td>72.300000</td>\n",
       "      <td>59.800000</td>\n",
       "      <td>4066.000000</td>\n",
       "      <td>326.000000</td>\n",
       "      <td>3.940000</td>\n",
       "      <td>4.170000</td>\n",
       "      <td>23.000000</td>\n",
       "      <td>288.000000</td>\n",
       "      <td>6600.000000</td>\n",
       "      <td>49.000000</td>\n",
       "      <td>54.000000</td>\n",
       "      <td>45400.000000</td>\n",
       "    </tr>\n",
       "  </tbody>\n",
       "</table>\n",
       "</div>"
      ],
      "text/plain": [
       "        symboling  normalized-losses  wheel-base     length       width  \\\n",
       "count  203.000000         203.000000  203.000000  203.00000  203.000000   \n",
       "mean     0.837438         130.147783   98.781281  174.11330   65.915271   \n",
       "std      1.250021          35.956490    6.040994   12.33909    2.150274   \n",
       "min     -2.000000          65.000000   86.600000  141.10000   60.300000   \n",
       "25%      0.000000         101.000000   94.500000  166.55000   64.100000   \n",
       "50%      1.000000         128.000000   97.000000  173.20000   65.500000   \n",
       "75%      2.000000         164.000000  102.400000  183.30000   66.900000   \n",
       "max      3.000000         256.000000  120.900000  208.10000   72.300000   \n",
       "\n",
       "           height  curb-weight  engine-size        bore      stroke  \\\n",
       "count  203.000000   203.000000   203.000000  199.000000  199.000000   \n",
       "mean    53.731527  2557.916256   127.073892    3.330955    3.254070   \n",
       "std      2.442526   522.557049    41.797123    0.274054    0.318023   \n",
       "min     47.800000  1488.000000    61.000000    2.540000    2.070000   \n",
       "25%     52.000000  2145.000000    97.000000    3.150000    3.110000   \n",
       "50%     54.100000  2414.000000   120.000000    3.310000    3.290000   \n",
       "75%     55.500000  2943.500000   143.000000    3.590000    3.410000   \n",
       "max     59.800000  4066.000000   326.000000    3.940000    4.170000   \n",
       "\n",
       "       compression-ratio  horsepower     peak-rpm    city-mpg  highway-mpg  \\\n",
       "count         203.000000  203.000000   201.000000  203.000000   203.000000   \n",
       "mean           10.093202  104.463054  5125.870647   25.172414    30.699507   \n",
       "std             3.888216   39.612384   479.820136    6.529812     6.874645   \n",
       "min             7.000000   48.000000  4150.000000   13.000000    16.000000   \n",
       "25%             8.600000   70.000000  4800.000000   19.000000    25.000000   \n",
       "50%             9.000000   95.000000  5200.000000   24.000000    30.000000   \n",
       "75%             9.400000  116.000000  5500.000000   30.000000    34.000000   \n",
       "max            23.000000  288.000000  6600.000000   49.000000    54.000000   \n",
       "\n",
       "              price  \n",
       "count    203.000000  \n",
       "mean   13241.911330  \n",
       "std     7898.957924  \n",
       "min     5118.000000  \n",
       "25%     7781.500000  \n",
       "50%    10595.000000  \n",
       "75%    16500.000000  \n",
       "max    45400.000000  "
      ]
     },
     "execution_count": 154,
     "metadata": {},
     "output_type": "execute_result"
    }
   ],
   "source": [
    "df.describe()"
   ]
  },
  {
   "cell_type": "markdown",
   "metadata": {
    "colab_type": "text",
    "id": "QVvsxOBEu6i2"
   },
   "source": [
    "Let's start by computing Measure of central tendency"
   ]
  },
  {
   "cell_type": "code",
   "execution_count": 155,
   "metadata": {
    "colab": {
     "base_uri": "https://localhost:8080/",
     "height": 221
    },
    "colab_type": "code",
    "id": "xermW08E0_hP",
    "outputId": "5d6946f1-4b63-46e5-d744-ab0eb54b8b26"
   },
   "outputs": [
    {
     "name": "stdout",
     "output_type": "stream",
     "text": [
      "0      48.8\n",
      "1      48.8\n",
      "2      52.4\n",
      "3      54.3\n",
      "4      54.3\n",
      "       ... \n",
      "200    55.5\n",
      "201    55.5\n",
      "202    55.5\n",
      "203    55.5\n",
      "204    55.5\n",
      "Name: height, Length: 203, dtype: float64\n"
     ]
    }
   ],
   "source": [
    "# get column height from df\n",
    "height = df[\"height\"]\n",
    "print(height)"
   ]
  },
  {
   "cell_type": "code",
   "execution_count": 156,
   "metadata": {
    "colab": {
     "base_uri": "https://localhost:8080/",
     "height": 51
    },
    "colab_type": "code",
    "id": "1SdC7Vre1ysd",
    "outputId": "35c9463a-4bd0-4179-856a-8ddbb29b2009"
   },
   "outputs": [
    {
     "name": "stdout",
     "output_type": "stream",
     "text": [
      "53.73152709359606 54.1 0    50.8\n",
      "Name: height, dtype: float64\n"
     ]
    }
   ],
   "source": [
    "#calculate mean, median and mode of dat set height\n",
    "mean = height.mean()\n",
    "median =height.median()\n",
    "mode = height.mode()\n",
    "print(mean , median, mode)"
   ]
  },
  {
   "cell_type": "markdown",
   "metadata": {
    "colab_type": "text",
    "id": "cydMjbLD_g_D"
   },
   "source": [
    "For categorical variables which has discrite values we can summarize the categorical data is by using the function value_counts(). "
   ]
  },
  {
   "cell_type": "code",
   "execution_count": 157,
   "metadata": {},
   "outputs": [
    {
     "data": {
      "text/plain": [
       "make\n",
       "toyota           32\n",
       "nissan           18\n",
       "mazda            16\n",
       "mitsubishi       13\n",
       "honda            13\n",
       "volkswagen       12\n",
       "subaru           12\n",
       "peugot           11\n",
       "volvo            11\n",
       "mercedes-benz     8\n",
       "dodge             8\n",
       "bmw               8\n",
       "audi              7\n",
       "plymouth          7\n",
       "saab              6\n",
       "porsche           5\n",
       "isuzu             4\n",
       "jaguar            3\n",
       "chevrolet         3\n",
       "alfa-romero       3\n",
       "renault           2\n",
       "mercury           1\n",
       "Name: count, dtype: int64"
      ]
     },
     "execution_count": 157,
     "metadata": {},
     "output_type": "execute_result"
    }
   ],
   "source": [
    "df['make'].value_counts()"
   ]
  },
  {
   "cell_type": "code",
   "execution_count": 158,
   "metadata": {
    "colab": {
     "base_uri": "https://localhost:8080/",
     "height": 594
    },
    "colab_type": "code",
    "id": "l2GMtsoTOmzL",
    "outputId": "64443e78-98a1-46c3-daf1-4667d15b67bf"
   },
   "outputs": [
    {
     "data": {
      "image/png": "[encoded data removed]",
      "text/plain": [
       "<Figure size 1400x800 with 1 Axes>"
      ]
     },
     "metadata": {},
     "output_type": "display_data"
    }
   ],
   "source": [
    "import matplotlib.pyplot as plt\n",
    "\n",
    "df.make.value_counts().nlargest(30).plot(kind='bar', figsize=(14,8))\n",
    "plt.title(\"Number of cars by make\")\n",
    "plt.ylabel('Number of cars')\n",
    "plt.xlabel('Make of the cars');"
   ]
  },
  {
   "cell_type": "code",
   "execution_count": 159,
   "metadata": {
    "colab": {
     "base_uri": "https://localhost:8080/",
     "height": 85
    },
    "colab_type": "code",
    "id": "GVakZvw-AMsR",
    "outputId": "cd637ba7-2ed8-4d21-aaa9-d10ad89b223f"
   },
   "outputs": [
    {
     "name": "stdout",
     "output_type": "stream",
     "text": [
      "drive-wheels\n",
      "fwd    118\n",
      "rwd     76\n",
      "4wd      9\n",
      "Name: count, dtype: int64\n"
     ]
    }
   ],
   "source": [
    "#summarize categories of drive-wheels\n",
    "drive_wheels_count =df[\"drive-wheels\"].value_counts()\n",
    "print(drive_wheels_count)"
   ]
  },
  {
   "cell_type": "code",
   "execution_count": 160,
   "metadata": {},
   "outputs": [
    {
     "data": {
      "text/plain": [
       "0      rwd\n",
       "1      rwd\n",
       "2      rwd\n",
       "3      fwd\n",
       "4      4wd\n",
       "      ... \n",
       "200    rwd\n",
       "201    rwd\n",
       "202    rwd\n",
       "203    rwd\n",
       "204    rwd\n",
       "Name: drive-wheels, Length: 203, dtype: object"
      ]
     },
     "execution_count": 160,
     "metadata": {},
     "output_type": "execute_result"
    }
   ],
   "source": [
    "df['drive-wheels']"
   ]
  },
  {
   "cell_type": "code",
   "execution_count": 161,
   "metadata": {},
   "outputs": [
    {
     "data": {
      "text/plain": [
       "symboling              int64\n",
       "normalized-losses      int64\n",
       "make                  object\n",
       "fuel-type             object\n",
       "aspiration            object\n",
       "num-of-doors          object\n",
       "body-style            object\n",
       "drive-wheels          object\n",
       "engine-location       object\n",
       "wheel-base           float64\n",
       "length               float64\n",
       "width                float64\n",
       "height               float64\n",
       "curb-weight            int64\n",
       "engine-type           object\n",
       "num-of-cylinders      object\n",
       "engine-size            int64\n",
       "fuel-system           object\n",
       "bore                 float64\n",
       "stroke               float64\n",
       "compression-ratio    float64\n",
       "horsepower             int64\n",
       "peak-rpm             float64\n",
       "city-mpg               int64\n",
       "highway-mpg            int64\n",
       "price                float64\n",
       "dtype: object"
      ]
     },
     "execution_count": 161,
     "metadata": {},
     "output_type": "execute_result"
    }
   ],
   "source": [
    "df.dtypes"
   ]
  },
  {
   "cell_type": "code",
   "execution_count": 162,
   "metadata": {},
   "outputs": [],
   "source": [
    "numerics = ['int64', 'float64']\n",
    "\n",
    "df_numeric = df.select_dtypes(include=numerics)"
   ]
  },
  {
   "cell_type": "markdown",
   "metadata": {
    "colab_type": "text",
    "id": "a_MdTpnB8Tti"
   },
   "source": [
    "**Measures of Dispersion**"
   ]
  },
  {
   "cell_type": "code",
   "execution_count": 163,
   "metadata": {
    "colab": {
     "base_uri": "https://localhost:8080/",
     "height": 323
    },
    "colab_type": "code",
    "id": "bvVTTyil5tKB",
    "outputId": "0573763f-10f9-4122-88a7-49cc3b1f4cf1"
   },
   "outputs": [
    {
     "name": "stdout",
     "output_type": "stream",
     "text": [
      "symboling               1.250021\n",
      "normalized-losses      35.956490\n",
      "wheel-base              6.040994\n",
      "length                 12.339090\n",
      "width                   2.150274\n",
      "height                  2.442526\n",
      "curb-weight           522.557049\n",
      "engine-size            41.797123\n",
      "bore                    0.274054\n",
      "stroke                  0.318023\n",
      "compression-ratio       3.888216\n",
      "horsepower             39.612384\n",
      "peak-rpm              479.820136\n",
      "city-mpg                6.529812\n",
      "highway-mpg             6.874645\n",
      "price                7898.957924\n",
      "dtype: float64\n",
      "2.442525704031867\n"
     ]
    }
   ],
   "source": [
    "#standard variance of data set using std() function\n",
    "std_dev = df_numeric.std()\n",
    "print(std_dev)\n",
    "\n",
    "# standard variance of the specific column\n",
    "sv_height=df_numeric.loc[:,\"height\"].std()\n",
    "print(sv_height)"
   ]
  },
  {
   "cell_type": "markdown",
   "metadata": {
    "colab_type": "text",
    "id": "Ete2HtKqKm_c"
   },
   "source": [
    "# Measure of variance"
   ]
  },
  {
   "cell_type": "code",
   "execution_count": 164,
   "metadata": {
    "colab": {
     "base_uri": "https://localhost:8080/",
     "height": 323
    },
    "colab_type": "code",
    "id": "wyCfxqeBK_Hl",
    "outputId": "f51ef9bd-8e83-4e60-f64f-6996badfa3f6"
   },
   "outputs": [
    {
     "name": "stdout",
     "output_type": "stream",
     "text": [
      "symboling            1.562552e+00\n",
      "normalized-losses    1.292869e+03\n",
      "wheel-base           3.649361e+01\n",
      "length               1.522531e+02\n",
      "width                4.623677e+00\n",
      "height               5.965932e+00\n",
      "curb-weight          2.730659e+05\n",
      "engine-size          1.746999e+03\n",
      "bore                 7.510565e-02\n",
      "stroke               1.011384e-01\n",
      "compression-ratio    1.511822e+01\n",
      "horsepower           1.569141e+03\n",
      "peak-rpm             2.302274e+05\n",
      "city-mpg             4.263844e+01\n",
      "highway-mpg          4.726074e+01\n",
      "price                6.239354e+07\n",
      "dtype: float64\n",
      "5.965931814856368\n"
     ]
    }
   ],
   "source": [
    "# variance of data set using var() function\n",
    "variance=df_numeric.var()\n",
    "print(variance)\n",
    "# variance of the specific column\n",
    "var_height=df_numeric.loc[:,\"height\"].var()\n",
    "print(var_height)"
   ]
  },
  {
   "cell_type": "code",
   "execution_count": 165,
   "metadata": {
    "colab": {},
    "colab_type": "code",
    "id": "R9ZmeTubK4vs"
   },
   "outputs": [
    {
     "data": {
      "text/plain": [
       "<Axes: >"
      ]
     },
     "execution_count": 165,
     "metadata": {},
     "output_type": "execute_result"
    },
    {
     "data": {
      "image/png": "[encoded data removed]",
      "text/plain": [
       "<Figure size 1000x600 with 1 Axes>"
      ]
     },
     "metadata": {},
     "output_type": "display_data"
    }
   ],
   "source": [
    "df_numeric['length'].hist()"
   ]
  },
  {
   "cell_type": "code",
   "execution_count": 166,
   "metadata": {},
   "outputs": [
    {
     "data": {
      "text/plain": [
       "<Axes: >"
      ]
     },
     "execution_count": 166,
     "metadata": {},
     "output_type": "execute_result"
    },
    {
     "data": {
      "image/png": "[encoded data removed]",
      "text/plain": [
       "<Figure size 1000x600 with 1 Axes>"
      ]
     },
     "metadata": {},
     "output_type": "display_data"
    }
   ],
   "source": [
    "df_numeric['stroke'].hist()"
   ]
  },
  {
   "cell_type": "markdown",
   "metadata": {},
   "source": [
    "### Skewness"
   ]
  },
  {
   "cell_type": "code",
   "execution_count": 167,
   "metadata": {
    "colab": {
     "base_uri": "https://localhost:8080/",
     "height": 306
    },
    "colab_type": "code",
    "id": "n6t8NJKCJEWL",
    "outputId": "73777de4-6c30-44e6-803e-9cf1c698c40a"
   },
   "outputs": [
    {
     "data": {
      "text/plain": [
       "symboling            0.204275\n",
       "normalized-losses    0.209007\n",
       "wheel-base           1.041170\n",
       "length               0.154086\n",
       "width                0.900685\n",
       "height               0.064134\n",
       "curb-weight          0.668942\n",
       "engine-size          1.934993\n",
       "bore                 0.013419\n",
       "stroke              -0.669515\n",
       "compression-ratio    2.682640\n",
       "horsepower           1.391224\n",
       "peak-rpm             0.073094\n",
       "city-mpg             0.673533\n",
       "highway-mpg          0.549104\n",
       "price                1.812335\n",
       "dtype: float64"
      ]
     },
     "execution_count": 167,
     "metadata": {},
     "output_type": "execute_result"
    }
   ],
   "source": [
    "df_numeric.skew()"
   ]
  },
  {
   "cell_type": "code",
   "execution_count": 168,
   "metadata": {},
   "outputs": [
    {
     "data": {
      "text/plain": [
       "<Axes: >"
      ]
     },
     "execution_count": 168,
     "metadata": {},
     "output_type": "execute_result"
    },
    {
     "data": {
      "image/png": "[encoded data removed]",
      "text/plain": [
       "<Figure size 1000x600 with 1 Axes>"
      ]
     },
     "metadata": {},
     "output_type": "display_data"
    }
   ],
   "source": [
    "df_numeric['engine-size'].hist()"
   ]
  },
  {
   "cell_type": "code",
   "execution_count": 169,
   "metadata": {
    "colab": {
     "base_uri": "https://localhost:8080/",
     "height": 34
    },
    "colab_type": "code",
    "id": "lVUxKXAyZRc3",
    "outputId": "5be7fef7-895b-4e8a-b474-7aeddf60d9ca"
   },
   "outputs": [
    {
     "data": {
      "text/plain": [
       "0.06413448813322854"
      ]
     },
     "execution_count": 169,
     "metadata": {},
     "output_type": "execute_result"
    }
   ],
   "source": [
    "# skewness of the specific column\n",
    "df_numeric.loc[:,\"height\"].skew()"
   ]
  },
  {
   "cell_type": "markdown",
   "metadata": {
    "colab_type": "text",
    "id": "VG737ZQ6oxH3"
   },
   "source": [
    "# Kurtosis\n"
   ]
  },
  {
   "cell_type": "code",
   "execution_count": 170,
   "metadata": {},
   "outputs": [
    {
     "data": {
      "text/plain": [
       "<Axes: >"
      ]
     },
     "execution_count": 170,
     "metadata": {},
     "output_type": "execute_result"
    },
    {
     "data": {
      "image/png": "[encoded data removed]",
      "text/plain": [
       "<Figure size 1000x600 with 1 Axes>"
      ]
     },
     "metadata": {},
     "output_type": "display_data"
    }
   ],
   "source": [
    "df_numeric['engine-size'].hist()"
   ]
  },
  {
   "cell_type": "code",
   "execution_count": 171,
   "metadata": {},
   "outputs": [
    {
     "data": {
      "text/plain": [
       "<Axes: >"
      ]
     },
     "execution_count": 171,
     "metadata": {},
     "output_type": "execute_result"
    },
    {
     "data": {
      "image/png": "[encoded data removed]",
      "text/plain": [
       "<Figure size 1000x600 with 1 Axes>"
      ]
     },
     "metadata": {},
     "output_type": "display_data"
    }
   ],
   "source": [
    "df_numeric['height'].hist()"
   ]
  },
  {
   "cell_type": "code",
   "execution_count": 172,
   "metadata": {
    "colab": {
     "base_uri": "https://localhost:8080/",
     "height": 323
    },
    "colab_type": "code",
    "id": "m2GuUXzUsNFX",
    "outputId": "f38ac81a-ceff-48ee-8bde-b176660fa689"
   },
   "outputs": [
    {
     "name": "stdout",
     "output_type": "stream",
     "text": [
      "symboling           -0.691709\n",
      "normalized-losses   -0.471235\n",
      "wheel-base           0.986065\n",
      "length              -0.075680\n",
      "width                0.687375\n",
      "height              -0.429298\n",
      "curb-weight         -0.069648\n",
      "engine-size          5.233661\n",
      "bore                -0.830965\n",
      "stroke               2.030592\n",
      "compression-ratio    5.643878\n",
      "horsepower           2.646625\n",
      "peak-rpm             0.068155\n",
      "city-mpg             0.624470\n",
      "highway-mpg          0.479323\n",
      "price                3.287412\n",
      "dtype: float64\n",
      "-0.4292976016374439\n"
     ]
    }
   ],
   "source": [
    "# Kurtosis of data in data using kurt() function\n",
    "kurtosis =df_numeric.kurt()\n",
    "print(kurtosis)\n",
    "\n",
    "# Kurtosis of the specific column\n",
    "sk_height=df_numeric.loc[:,\"height\"].kurt()\n",
    "print(sk_height)"
   ]
  },
  {
   "cell_type": "code",
   "execution_count": 173,
   "metadata": {
    "colab": {},
    "colab_type": "code",
    "id": "Tg0BVF-lBbg1"
   },
   "outputs": [],
   "source": [
    "import matplotlib.pyplot as plt\n",
    "import seaborn as sns\n",
    "\n",
    "sns.set()\n",
    "plt.rcParams['figure.figsize'] = (10, 6)"
   ]
  },
  {
   "cell_type": "code",
   "execution_count": 174,
   "metadata": {
    "colab": {
     "base_uri": "https://localhost:8080/",
     "height": 427
    },
    "colab_type": "code",
    "id": "0h60Cunf-xe9",
    "outputId": "3cb5f44e-c145-4a8b-de75-0e81e25bfea9"
   },
   "outputs": [
    {
     "data": {
      "text/plain": [
       "Text(0, 0.5, 'price')"
      ]
     },
     "execution_count": 174,
     "metadata": {},
     "output_type": "execute_result"
    },
    {
     "data": {
      "image/png": "[encoded data removed]",
      "text/plain": [
       "<Figure size 1000x600 with 1 Axes>"
      ]
     },
     "metadata": {},
     "output_type": "display_data"
    }
   ],
   "source": [
    "# plot the relationship between “engine-size” and ”price”\n",
    "plt.scatter(df_numeric[\"price\"], df_numeric[\"engine-size\"])\n",
    "plt.title(\"Scatter Plot for engine-size vs price\")\n",
    "plt.xlabel(\"engine-size\")\n",
    "plt.ylabel(\"price\")"
   ]
  },
  {
   "cell_type": "code",
   "execution_count": 176,
   "metadata": {},
   "outputs": [
    {
     "data": {
      "text/plain": [
       "<Axes: ylabel='price'>"
      ]
     },
     "execution_count": 176,
     "metadata": {},
     "output_type": "execute_result"
    },
    {
     "data": {
      "image/png": "[encoded data removed]",
      "text/plain": [
       "<Figure size 1000x600 with 1 Axes>"
      ]
     },
     "metadata": {},
     "output_type": "display_data"
    }
   ],
   "source": [
    "sns.boxplot(y=\"price\",data=df)"
   ]
  },
  {
   "cell_type": "code",
   "execution_count": 175,
   "metadata": {
    "colab": {
     "base_uri": "https://localhost:8080/",
     "height": 411
    },
    "colab_type": "code",
    "id": "ccUEYiG131w0",
    "outputId": "6a9ee374-c22f-41da-ae72-ea48eb1a5c04",
    "scrolled": false
   },
   "outputs": [
    {
     "data": {
      "text/plain": [
       "<Axes: xlabel='drive-wheels', ylabel='price'>"
      ]
     },
     "execution_count": 175,
     "metadata": {},
     "output_type": "execute_result"
    },
    {
     "data": {
      "image/png": "[encoded data removed]",
      "text/plain": [
       "<Figure size 1000x600 with 1 Axes>"
      ]
     },
     "metadata": {},
     "output_type": "display_data"
    }
   ],
   "source": [
    "#boxplot to visualize the distribution of \"price\" with types of \"drive-wheels\"\n",
    "sns.boxplot(x=\"drive-wheels\", y=\"price\",data=df)"
   ]
  },
  {
   "cell_type": "code",
   "execution_count": 80,
   "metadata": {
    "colab": {
     "base_uri": "https://localhost:8080/",
     "height": 34
    },
    "colab_type": "code",
    "id": "q49nCnLU-7Uc",
    "outputId": "0b32883c-c18c-4751-c2b8-50d952590b4a"
   },
   "outputs": [
    {
     "data": {
      "text/plain": [
       "numpy.int64"
      ]
     },
     "execution_count": 80,
     "metadata": {},
     "output_type": "execute_result"
    }
   ],
   "source": [
    "type(df.price[0])"
   ]
  },
  {
   "cell_type": "markdown",
   "metadata": {
    "colab_type": "text",
    "id": "aSC74OD8K6Jk"
   },
   "source": [
    "# Calculating percentiles\n",
    "\n"
   ]
  },
  {
   "cell_type": "code",
   "execution_count": 81,
   "metadata": {
    "colab": {
     "base_uri": "https://localhost:8080/",
     "height": 34
    },
    "colab_type": "code",
    "id": "h1_yVU9kEXoR",
    "outputId": "709daec3-de52-4866-abaf-08004cd0dfa7"
   },
   "outputs": [
    {
     "name": "stdout",
     "output_type": "stream",
     "text": [
      "54.1\n"
     ]
    }
   ],
   "source": [
    "# calculating 30th percentile of heights in dataset\n",
    "height = df[\"height\"]\n",
    "percentile = np.percentile(height, 50,)\n",
    "print(percentile)"
   ]
  },
  {
   "cell_type": "markdown",
   "metadata": {
    "colab_type": "text",
    "id": "ENzTKt-CJMGS"
   },
   "source": [
    "**Quartiles** \n",
    "\n",
    "It divides the data set into four equal points. \n",
    "\n",
    "First quartile = 25th percentile\n",
    "Second quartile = 50th percentile (Median)\n",
    "Third quartile = 75th percentile\n",
    "\n",
    "Based on the quartile, there is a another measure called inter-quartile range that also measures the variability in the dataset. It is defined as:\n",
    "\n",
    "IQR = Q3 - Q1\n",
    "\n",
    "IQR is not affected by the presence of outliers. \n",
    "\n",
    "\n"
   ]
  },
  {
   "cell_type": "code",
   "execution_count": 82,
   "metadata": {
    "colab": {
     "base_uri": "https://localhost:8080/",
     "height": 34
    },
    "colab_type": "code",
    "id": "A2qJhFB8aKyd",
    "outputId": "03bd3f06-c8e6-4538-e204-213f9812ed65"
   },
   "outputs": [
    {
     "data": {
      "text/plain": [
       "8718.5"
      ]
     },
     "execution_count": 82,
     "metadata": {},
     "output_type": "execute_result"
    }
   ],
   "source": [
    "price = df.price.sort_values()\n",
    "Q1 = np.percentile(price, 25)\n",
    "Q2 = np.percentile(price, 50)\n",
    "Q3 = np.percentile(price, 75)\n",
    "\n",
    "IQR = Q3 - Q1\n",
    "IQR"
   ]
  },
  {
   "cell_type": "code",
   "execution_count": 91,
   "metadata": {},
   "outputs": [
    {
     "data": {
      "text/plain": [
       "(array([0.00492611, 0.00492611, 0.00492611, 0.00492611, 0.01477833,\n",
       "        0.01477833, 0.02463054, 0.0591133 , 0.0591133 , 0.0591133 ,\n",
       "        0.08866995, 0.1182266 , 0.18719212, 0.19211823, 0.19211823,\n",
       "        0.2364532 , 0.2364532 , 0.2955665 , 0.2955665 , 0.31527094,\n",
       "        0.37931034, 0.408867  , 0.43842365, 0.45320197, 0.47783251,\n",
       "        0.48768473, 0.53694581, 0.63546798, 0.6453202 , 0.67980296,\n",
       "        0.70935961, 0.71428571, 0.81773399, 0.8226601 , 0.86206897,\n",
       "        0.88669951, 0.89655172, 0.93596059, 0.93596059, 0.93596059,\n",
       "        0.95073892, 0.95073892, 0.95073892, 0.95566502, 0.95566502,\n",
       "        0.97536946, 0.97536946, 0.99014778, 0.99014778, 1.        ]),\n",
       " array([47.8 , 48.04, 48.28, 48.52, 48.76, 49.  , 49.24, 49.48, 49.72,\n",
       "        49.96, 50.2 , 50.44, 50.68, 50.92, 51.16, 51.4 , 51.64, 51.88,\n",
       "        52.12, 52.36, 52.6 , 52.84, 53.08, 53.32, 53.56, 53.8 , 54.04,\n",
       "        54.28, 54.52, 54.76, 55.  , 55.24, 55.48, 55.72, 55.96, 56.2 ,\n",
       "        56.44, 56.68, 56.92, 57.16, 57.4 , 57.64, 57.88, 58.12, 58.36,\n",
       "        58.6 , 58.84, 59.08, 59.32, 59.56, 59.8 ]),\n",
       " [<matplotlib.patches.Polygon at 0x7fb9281e8040>])"
      ]
     },
     "execution_count": 91,
     "metadata": {},
     "output_type": "execute_result"
    },
    {
     "data": {
      "image/png": "[encoded data removed]",
      "text/plain": [
       "<Figure size 1000x600 with 1 Axes>"
      ]
     },
     "metadata": {},
     "output_type": "display_data"
    }
   ],
   "source": [
    "## cumulative function\n",
    "plt.hist(height, bins =50, density=True, histtype='step',\n",
    "                           cumulative=True, label='Empirical')"
   ]
  },
  {
   "cell_type": "code",
   "execution_count": 83,
   "metadata": {
    "colab": {
     "base_uri": "https://localhost:8080/",
     "height": 170
    },
    "colab_type": "code",
    "id": "N6ERrNg_6aD6",
    "outputId": "3453a020-4a29-4d48-b3d5-50242a891eaa"
   },
   "outputs": [
    {
     "data": {
      "text/plain": [
       "count    203.000000\n",
       "mean     130.147783\n",
       "std       35.956490\n",
       "min       65.000000\n",
       "25%      101.000000\n",
       "50%      128.000000\n",
       "75%      164.000000\n",
       "max      256.000000\n",
       "Name: normalized-losses, dtype: float64"
      ]
     },
     "execution_count": 83,
     "metadata": {},
     "output_type": "execute_result"
    }
   ],
   "source": [
    "df[\"normalized-losses\"].describe()"
   ]
  },
  {
   "cell_type": "code",
   "execution_count": 84,
   "metadata": {
    "colab": {},
    "colab_type": "code",
    "id": "nsNBWFzjZzOO"
   },
   "outputs": [],
   "source": [
    "\n",
    "scorePhysics = [34,35,35,35,35,35,36,36,37,37,37,37,37,38,38,38,39,39,\n",
    "              40,40,40,40,40,41,42,42,42,42,42,42,42,42,43,43,43,43,44,44,44,44,44,44,45,\n",
    "              45,45,45,45,46,46,46,46,46,46,47,47,47,47,47,47,48,48,48,48,48,49,49,49,49,\n",
    "              49,49,49,49,52,52,52,53,53,53,53,53,53,53,53,54,54,\n",
    "              54,54,54,54,54,55,55,55,55,55,56,56,56,56,56,56,57,57,57,58,58,59,59,59,59,\n",
    "              59,59,59,60,60,60,60,60,60,60,61,61,61,61,61,62,62,63,63,63,63,63,64,64,64,\n",
    "              64,64,64,64,65,65,65,66,66,67,67,68,68,68,68,68,68,68,69,70,71,71,71,72,72,\n",
    "              72,72,73,73,74,75,76,76,76,76,77,77,78,79,79,80,80,81,84,84,85,85,87,87,88]\n",
    "            \n",
    "scoreLiterature = [49,49,50,51,51,52,52,52,52,53,54,54,55,55,55,55,56,\n",
    "                 56,56,56,56,57,57,57,58,58,58,59,59,59,60,60,60,60,60,60,60,61,61,61,62,\n",
    "                 62,62,62,63,63,67,67,68,68,68,68,68,68,69,69,69,69,69,69,\n",
    "                 70,71,71,71,71,72,72,72,72,73,73,73,73,74,74,74,74,74,75,75,75,76,76,76,\n",
    "                 77,77,78,78,78,79,79,79,80,80,82,83,85,88]\n",
    "                 \n",
    "scoreComputer = [56,57,58,58,58,60,60,61,61,61,61,61,61,62,62,62,62,\n",
    "                63,63,63,63,63,64,64,64,64,65,65,66,66,67,67,67,67,67,67,67,68,68,68,69,\n",
    "                69,70,70,70,71,71,71,73,73,74,75,75,76,76,77,77,77,78,78,81,82,\n",
    "                84,89,90]\n",
    "\n",
    "scores=[scorePhysics, scoreLiterature, scoreComputer]\n"
   ]
  },
  {
   "cell_type": "code",
   "execution_count": 85,
   "metadata": {
    "colab": {
     "base_uri": "https://localhost:8080/",
     "height": 513
    },
    "colab_type": "code",
    "id": "XgNEQEbsSYpa",
    "outputId": "591ac576-52e4-40ac-9dc9-6686939b101d"
   },
   "outputs": [
    {
     "data": {
      "text/plain": [
       "{'whiskers': [<matplotlib.lines.Line2D at 0x7fb98ac0b820>,\n",
       "  <matplotlib.lines.Line2D at 0x7fb98ac0baf0>],\n",
       " 'caps': [<matplotlib.lines.Line2D at 0x7fb98ac0bb20>,\n",
       "  <matplotlib.lines.Line2D at 0x7fb98ac0bfd0>],\n",
       " 'boxes': [<matplotlib.lines.Line2D at 0x7fb98ac0b640>],\n",
       " 'medians': [<matplotlib.lines.Line2D at 0x7fb979c732b0>],\n",
       " 'fliers': [<matplotlib.lines.Line2D at 0x7fb979c737c0>],\n",
       " 'means': [<matplotlib.lines.Line2D at 0x7fb979c73520>]}"
      ]
     },
     "execution_count": 85,
     "metadata": {},
     "output_type": "execute_result"
    },
    {
     "data": {
      "image/png": "[encoded data removed]",
      "text/plain": [
       "<Figure size 1000x600 with 1 Axes>"
      ]
     },
     "metadata": {},
     "output_type": "display_data"
    }
   ],
   "source": [
    " plt.boxplot(scoreComputer, showmeans=True, whis = 99)\n",
    "    "
   ]
  },
  {
   "cell_type": "code",
   "execution_count": 89,
   "metadata": {},
   "outputs": [
    {
     "data": {
      "text/plain": [
       "{'bodies': [<matplotlib.collections.PolyCollection at 0x7fb958635df0>],\n",
       " 'cmaxes': <matplotlib.collections.LineCollection at 0x7fb958630e50>,\n",
       " 'cmins': <matplotlib.collections.LineCollection at 0x7fb958650400>,\n",
       " 'cbars': <matplotlib.collections.LineCollection at 0x7fb958650760>}"
      ]
     },
     "execution_count": 89,
     "metadata": {},
     "output_type": "execute_result"
    },
    {
     "data": {
      "image/png": "[encoded data removed]",
      "text/plain": [
       "<Figure size 1000x600 with 1 Axes>"
      ]
     },
     "metadata": {},
     "output_type": "display_data"
    }
   ],
   "source": [
    "plt.violinplot(scoreComputer)"
   ]
  },
  {
   "cell_type": "code",
   "execution_count": 86,
   "metadata": {
    "colab": {
     "base_uri": "https://localhost:8080/",
     "height": 397
    },
    "colab_type": "code",
    "id": "98qewxJdO91s",
    "outputId": "775be290-62a6-48a6-ce3c-9b00bcb46faa"
   },
   "outputs": [
    {
     "data": {
      "image/png": "[encoded data removed]",
      "text/plain": [
       "<Figure size 1000x600 with 1 Axes>"
      ]
     },
     "metadata": {},
     "output_type": "display_data"
    }
   ],
   "source": [
    "box = plt.boxplot(scores, showmeans=True, whis=99)\n",
    "\n",
    "plt.setp(box['boxes'][0], color='blue')\n",
    "plt.setp(box['caps'][0], color='blue')\n",
    "plt.setp(box['caps'][1], color='blue')\n",
    "plt.setp(box['whiskers'][0], color='blue')\n",
    "plt.setp(box['whiskers'][1], color='blue')\n",
    "\n",
    "plt.setp(box['boxes'][1], color='red')\n",
    "plt.setp(box['caps'][2], color='red')\n",
    "plt.setp(box['caps'][3], color='red')\n",
    "plt.setp(box['whiskers'][2], color='red')\n",
    "plt.setp(box['whiskers'][3], color='red')\n",
    "\n",
    "plt.ylim([20, 95]) \n",
    "plt.grid(True, axis='y')  \n",
    "plt.title('Distribution of the scores in three subjects', fontsize=18) \n",
    "plt.ylabel('Total score in that subject')            \n",
    "plt.xticks([1,2,3], ['Physics','Literature','Computer'])\n",
    "\n",
    "\n",
    "plt.show()"
   ]
  },
  {
   "cell_type": "markdown",
   "metadata": {},
   "source": [
    "### Marginal Distribution vs conditional distribution"
   ]
  },
  {
   "cell_type": "code",
   "execution_count": 180,
   "metadata": {},
   "outputs": [
    {
     "data": {
      "text/plain": [
       "0      (150, 180]\n",
       "1      (150, 180]\n",
       "2      (150, 180]\n",
       "3      (150, 180]\n",
       "4      (150, 180]\n",
       "          ...    \n",
       "200    (182, 200]\n",
       "201    (182, 200]\n",
       "202    (182, 200]\n",
       "203    (182, 200]\n",
       "204    (182, 200]\n",
       "Name: length, Length: 203, dtype: category\n",
       "Categories (4, interval[int64, right]): [(141, 150] < (150, 180] < (180, 182] < (182, 200]]"
      ]
     },
     "execution_count": 180,
     "metadata": {},
     "output_type": "execute_result"
    }
   ],
   "source": [
    "df_numeric['length']\n",
    "pd.cut(df_numeric['length'], bins = [141, 150, 180, 182, 200])"
   ]
  },
  {
   "cell_type": "code",
   "execution_count": 181,
   "metadata": {},
   "outputs": [
    {
     "data": {
      "text/plain": [
       "(203, 16)"
      ]
     },
     "execution_count": 181,
     "metadata": {},
     "output_type": "execute_result"
    }
   ],
   "source": [
    "df_numeric.shape"
   ]
  },
  {
   "cell_type": "code",
   "execution_count": 92,
   "metadata": {},
   "outputs": [
    {
     "data": {
      "text/plain": [
       "<Axes: >"
      ]
     },
     "execution_count": 92,
     "metadata": {},
     "output_type": "execute_result"
    },
    {
     "data": {
      "image/png": "[encoded data removed]",
      "text/plain": [
       "<Figure size 1000x600 with 1 Axes>"
      ]
     },
     "metadata": {},
     "output_type": "display_data"
    }
   ],
   "source": [
    "df_numeric['length'].hist()"
   ]
  },
  {
   "cell_type": "code",
   "execution_count": 95,
   "metadata": {},
   "outputs": [
    {
     "data": {
      "text/plain": [
       "<Axes: >"
      ]
     },
     "execution_count": 95,
     "metadata": {},
     "output_type": "execute_result"
    },
    {
     "data": {
      "image/png": "[encoded data removed]",
      "text/plain": [
       "<Figure size 1000x600 with 1 Axes>"
      ]
     },
     "metadata": {},
     "output_type": "display_data"
    }
   ],
   "source": [
    "#conditional \n",
    "df_numeric[df_numeric['wheel-base'] > 100]['length'].hist()"
   ]
  },
  {
   "cell_type": "code",
   "execution_count": 182,
   "metadata": {},
   "outputs": [
    {
     "data": {
      "text/html": [
       "<div>\n",
       "<style scoped>\n",
       "    .dataframe tbody tr th:only-of-type {\n",
       "        vertical-align: middle;\n",
       "    }\n",
       "\n",
       "    .dataframe tbody tr th {\n",
       "        vertical-align: top;\n",
       "    }\n",
       "\n",
       "    .dataframe thead th {\n",
       "        text-align: right;\n",
       "    }\n",
       "</style>\n",
       "<table border=\"1\" class=\"dataframe\">\n",
       "  <thead>\n",
       "    <tr style=\"text-align: right;\">\n",
       "      <th></th>\n",
       "      <th>symboling</th>\n",
       "      <th>normalized-losses</th>\n",
       "      <th>wheel-base</th>\n",
       "      <th>length</th>\n",
       "      <th>width</th>\n",
       "      <th>height</th>\n",
       "      <th>curb-weight</th>\n",
       "      <th>engine-size</th>\n",
       "      <th>bore</th>\n",
       "      <th>stroke</th>\n",
       "      <th>compression-ratio</th>\n",
       "      <th>horsepower</th>\n",
       "      <th>peak-rpm</th>\n",
       "      <th>city-mpg</th>\n",
       "      <th>highway-mpg</th>\n",
       "      <th>price</th>\n",
       "    </tr>\n",
       "  </thead>\n",
       "  <tbody>\n",
       "    <tr>\n",
       "      <th>symboling</th>\n",
       "      <td>1.000000</td>\n",
       "      <td>0.446613</td>\n",
       "      <td>-0.532929</td>\n",
       "      <td>-0.357856</td>\n",
       "      <td>-0.232241</td>\n",
       "      <td>-0.541323</td>\n",
       "      <td>-0.228520</td>\n",
       "      <td>-0.105985</td>\n",
       "      <td>-0.133130</td>\n",
       "      <td>-0.007956</td>\n",
       "      <td>-0.172343</td>\n",
       "      <td>0.068312</td>\n",
       "      <td>0.272162</td>\n",
       "      <td>-0.030513</td>\n",
       "      <td>0.040374</td>\n",
       "      <td>-0.083020</td>\n",
       "    </tr>\n",
       "    <tr>\n",
       "      <th>normalized-losses</th>\n",
       "      <td>0.446613</td>\n",
       "      <td>1.000000</td>\n",
       "      <td>0.044916</td>\n",
       "      <td>0.158185</td>\n",
       "      <td>0.212157</td>\n",
       "      <td>-0.349461</td>\n",
       "      <td>0.265983</td>\n",
       "      <td>0.303717</td>\n",
       "      <td>0.082768</td>\n",
       "      <td>0.099114</td>\n",
       "      <td>-0.113747</td>\n",
       "      <td>0.378103</td>\n",
       "      <td>0.190214</td>\n",
       "      <td>-0.354567</td>\n",
       "      <td>-0.317451</td>\n",
       "      <td>0.330624</td>\n",
       "    </tr>\n",
       "    <tr>\n",
       "      <th>wheel-base</th>\n",
       "      <td>-0.532929</td>\n",
       "      <td>0.044916</td>\n",
       "      <td>1.000000</td>\n",
       "      <td>0.874651</td>\n",
       "      <td>0.794488</td>\n",
       "      <td>0.588281</td>\n",
       "      <td>0.775870</td>\n",
       "      <td>0.568141</td>\n",
       "      <td>0.488138</td>\n",
       "      <td>0.163744</td>\n",
       "      <td>0.254105</td>\n",
       "      <td>0.353285</td>\n",
       "      <td>-0.359843</td>\n",
       "      <td>-0.475257</td>\n",
       "      <td>-0.549141</td>\n",
       "      <td>0.582379</td>\n",
       "    </tr>\n",
       "    <tr>\n",
       "      <th>length</th>\n",
       "      <td>-0.357856</td>\n",
       "      <td>0.158185</td>\n",
       "      <td>0.874651</td>\n",
       "      <td>1.000000</td>\n",
       "      <td>0.840300</td>\n",
       "      <td>0.486316</td>\n",
       "      <td>0.878719</td>\n",
       "      <td>0.682984</td>\n",
       "      <td>0.604518</td>\n",
       "      <td>0.132778</td>\n",
       "      <td>0.154219</td>\n",
       "      <td>0.559618</td>\n",
       "      <td>-0.283068</td>\n",
       "      <td>-0.682433</td>\n",
       "      <td>-0.715913</td>\n",
       "      <td>0.683494</td>\n",
       "    </tr>\n",
       "    <tr>\n",
       "      <th>width</th>\n",
       "      <td>-0.232241</td>\n",
       "      <td>0.212157</td>\n",
       "      <td>0.794488</td>\n",
       "      <td>0.840300</td>\n",
       "      <td>1.000000</td>\n",
       "      <td>0.274216</td>\n",
       "      <td>0.867307</td>\n",
       "      <td>0.735016</td>\n",
       "      <td>0.556721</td>\n",
       "      <td>0.185110</td>\n",
       "      <td>0.178893</td>\n",
       "      <td>0.646575</td>\n",
       "      <td>-0.216229</td>\n",
       "      <td>-0.651892</td>\n",
       "      <td>-0.686216</td>\n",
       "      <td>0.728917</td>\n",
       "    </tr>\n",
       "    <tr>\n",
       "      <th>height</th>\n",
       "      <td>-0.541323</td>\n",
       "      <td>-0.349461</td>\n",
       "      <td>0.588281</td>\n",
       "      <td>0.486316</td>\n",
       "      <td>0.274216</td>\n",
       "      <td>1.000000</td>\n",
       "      <td>0.293892</td>\n",
       "      <td>0.063622</td>\n",
       "      <td>0.169575</td>\n",
       "      <td>-0.056016</td>\n",
       "      <td>0.253871</td>\n",
       "      <td>-0.107707</td>\n",
       "      <td>-0.316713</td>\n",
       "      <td>-0.056337</td>\n",
       "      <td>-0.115209</td>\n",
       "      <td>0.132614</td>\n",
       "    </tr>\n",
       "    <tr>\n",
       "      <th>curb-weight</th>\n",
       "      <td>-0.228520</td>\n",
       "      <td>0.265983</td>\n",
       "      <td>0.775870</td>\n",
       "      <td>0.878719</td>\n",
       "      <td>0.867307</td>\n",
       "      <td>0.293892</td>\n",
       "      <td>1.000000</td>\n",
       "      <td>0.850236</td>\n",
       "      <td>0.648345</td>\n",
       "      <td>0.171289</td>\n",
       "      <td>0.156838</td>\n",
       "      <td>0.752603</td>\n",
       "      <td>-0.266077</td>\n",
       "      <td>-0.762457</td>\n",
       "      <td>-0.802444</td>\n",
       "      <td>0.820439</td>\n",
       "    </tr>\n",
       "    <tr>\n",
       "      <th>engine-size</th>\n",
       "      <td>-0.105985</td>\n",
       "      <td>0.303717</td>\n",
       "      <td>0.568141</td>\n",
       "      <td>0.682984</td>\n",
       "      <td>0.735016</td>\n",
       "      <td>0.063622</td>\n",
       "      <td>0.850236</td>\n",
       "      <td>1.000000</td>\n",
       "      <td>0.592931</td>\n",
       "      <td>0.209022</td>\n",
       "      <td>0.029468</td>\n",
       "      <td>0.812981</td>\n",
       "      <td>-0.243784</td>\n",
       "      <td>-0.658584</td>\n",
       "      <td>-0.682212</td>\n",
       "      <td>0.861545</td>\n",
       "    </tr>\n",
       "    <tr>\n",
       "      <th>bore</th>\n",
       "      <td>-0.133130</td>\n",
       "      <td>0.082768</td>\n",
       "      <td>0.488138</td>\n",
       "      <td>0.604518</td>\n",
       "      <td>0.556721</td>\n",
       "      <td>0.169575</td>\n",
       "      <td>0.648345</td>\n",
       "      <td>0.592931</td>\n",
       "      <td>1.000000</td>\n",
       "      <td>-0.054250</td>\n",
       "      <td>-0.001731</td>\n",
       "      <td>0.580690</td>\n",
       "      <td>-0.260465</td>\n",
       "      <td>-0.603529</td>\n",
       "      <td>-0.602912</td>\n",
       "      <td>0.531935</td>\n",
       "    </tr>\n",
       "    <tr>\n",
       "      <th>stroke</th>\n",
       "      <td>-0.007956</td>\n",
       "      <td>0.099114</td>\n",
       "      <td>0.163744</td>\n",
       "      <td>0.132778</td>\n",
       "      <td>0.185110</td>\n",
       "      <td>-0.056016</td>\n",
       "      <td>0.171289</td>\n",
       "      <td>0.209022</td>\n",
       "      <td>-0.054250</td>\n",
       "      <td>1.000000</td>\n",
       "      <td>0.185802</td>\n",
       "      <td>0.090862</td>\n",
       "      <td>-0.071544</td>\n",
       "      <td>-0.046312</td>\n",
       "      <td>-0.048075</td>\n",
       "      <td>0.084217</td>\n",
       "    </tr>\n",
       "    <tr>\n",
       "      <th>compression-ratio</th>\n",
       "      <td>-0.172343</td>\n",
       "      <td>-0.113747</td>\n",
       "      <td>0.254105</td>\n",
       "      <td>0.154219</td>\n",
       "      <td>0.178893</td>\n",
       "      <td>0.253871</td>\n",
       "      <td>0.156838</td>\n",
       "      <td>0.029468</td>\n",
       "      <td>-0.001731</td>\n",
       "      <td>0.185802</td>\n",
       "      <td>1.000000</td>\n",
       "      <td>-0.195603</td>\n",
       "      <td>-0.431118</td>\n",
       "      <td>0.308526</td>\n",
       "      <td>0.247460</td>\n",
       "      <td>0.075992</td>\n",
       "    </tr>\n",
       "    <tr>\n",
       "      <th>horsepower</th>\n",
       "      <td>0.068312</td>\n",
       "      <td>0.378103</td>\n",
       "      <td>0.353285</td>\n",
       "      <td>0.559618</td>\n",
       "      <td>0.646575</td>\n",
       "      <td>-0.107707</td>\n",
       "      <td>0.752603</td>\n",
       "      <td>0.812981</td>\n",
       "      <td>0.580690</td>\n",
       "      <td>0.090862</td>\n",
       "      <td>-0.195603</td>\n",
       "      <td>1.000000</td>\n",
       "      <td>0.127036</td>\n",
       "      <td>-0.802421</td>\n",
       "      <td>-0.769799</td>\n",
       "      <td>0.759006</td>\n",
       "    </tr>\n",
       "    <tr>\n",
       "      <th>peak-rpm</th>\n",
       "      <td>0.272162</td>\n",
       "      <td>0.190214</td>\n",
       "      <td>-0.359843</td>\n",
       "      <td>-0.283068</td>\n",
       "      <td>-0.216229</td>\n",
       "      <td>-0.316713</td>\n",
       "      <td>-0.266077</td>\n",
       "      <td>-0.243784</td>\n",
       "      <td>-0.260465</td>\n",
       "      <td>-0.071544</td>\n",
       "      <td>-0.431118</td>\n",
       "      <td>0.127036</td>\n",
       "      <td>1.000000</td>\n",
       "      <td>-0.106146</td>\n",
       "      <td>-0.046338</td>\n",
       "      <td>-0.100702</td>\n",
       "    </tr>\n",
       "    <tr>\n",
       "      <th>city-mpg</th>\n",
       "      <td>-0.030513</td>\n",
       "      <td>-0.354567</td>\n",
       "      <td>-0.475257</td>\n",
       "      <td>-0.682433</td>\n",
       "      <td>-0.651892</td>\n",
       "      <td>-0.056337</td>\n",
       "      <td>-0.762457</td>\n",
       "      <td>-0.658584</td>\n",
       "      <td>-0.603529</td>\n",
       "      <td>-0.046312</td>\n",
       "      <td>0.308526</td>\n",
       "      <td>-0.802421</td>\n",
       "      <td>-0.106146</td>\n",
       "      <td>1.000000</td>\n",
       "      <td>0.970964</td>\n",
       "      <td>-0.670766</td>\n",
       "    </tr>\n",
       "    <tr>\n",
       "      <th>highway-mpg</th>\n",
       "      <td>0.040374</td>\n",
       "      <td>-0.317451</td>\n",
       "      <td>-0.549141</td>\n",
       "      <td>-0.715913</td>\n",
       "      <td>-0.686216</td>\n",
       "      <td>-0.115209</td>\n",
       "      <td>-0.802444</td>\n",
       "      <td>-0.682212</td>\n",
       "      <td>-0.602912</td>\n",
       "      <td>-0.048075</td>\n",
       "      <td>0.247460</td>\n",
       "      <td>-0.769799</td>\n",
       "      <td>-0.046338</td>\n",
       "      <td>0.970964</td>\n",
       "      <td>1.000000</td>\n",
       "      <td>-0.693701</td>\n",
       "    </tr>\n",
       "    <tr>\n",
       "      <th>price</th>\n",
       "      <td>-0.083020</td>\n",
       "      <td>0.330624</td>\n",
       "      <td>0.582379</td>\n",
       "      <td>0.683494</td>\n",
       "      <td>0.728917</td>\n",
       "      <td>0.132614</td>\n",
       "      <td>0.820439</td>\n",
       "      <td>0.861545</td>\n",
       "      <td>0.531935</td>\n",
       "      <td>0.084217</td>\n",
       "      <td>0.075992</td>\n",
       "      <td>0.759006</td>\n",
       "      <td>-0.100702</td>\n",
       "      <td>-0.670766</td>\n",
       "      <td>-0.693701</td>\n",
       "      <td>1.000000</td>\n",
       "    </tr>\n",
       "  </tbody>\n",
       "</table>\n",
       "</div>"
      ],
      "text/plain": [
       "                   symboling  normalized-losses  wheel-base    length  \\\n",
       "symboling           1.000000           0.446613   -0.532929 -0.357856   \n",
       "normalized-losses   0.446613           1.000000    0.044916  0.158185   \n",
       "wheel-base         -0.532929           0.044916    1.000000  0.874651   \n",
       "length             -0.357856           0.158185    0.874651  1.000000   \n",
       "width              -0.232241           0.212157    0.794488  0.840300   \n",
       "height             -0.541323          -0.349461    0.588281  0.486316   \n",
       "curb-weight        -0.228520           0.265983    0.775870  0.878719   \n",
       "engine-size        -0.105985           0.303717    0.568141  0.682984   \n",
       "bore               -0.133130           0.082768    0.488138  0.604518   \n",
       "stroke             -0.007956           0.099114    0.163744  0.132778   \n",
       "compression-ratio  -0.172343          -0.113747    0.254105  0.154219   \n",
       "horsepower          0.068312           0.378103    0.353285  0.559618   \n",
       "peak-rpm            0.272162           0.190214   -0.359843 -0.283068   \n",
       "city-mpg           -0.030513          -0.354567   -0.475257 -0.682433   \n",
       "highway-mpg         0.040374          -0.317451   -0.549141 -0.715913   \n",
       "price              -0.083020           0.330624    0.582379  0.683494   \n",
       "\n",
       "                      width    height  curb-weight  engine-size      bore  \\\n",
       "symboling         -0.232241 -0.541323    -0.228520    -0.105985 -0.133130   \n",
       "normalized-losses  0.212157 -0.349461     0.265983     0.303717  0.082768   \n",
       "wheel-base         0.794488  0.588281     0.775870     0.568141  0.488138   \n",
       "length             0.840300  0.486316     0.878719     0.682984  0.604518   \n",
       "width              1.000000  0.274216     0.867307     0.735016  0.556721   \n",
       "height             0.274216  1.000000     0.293892     0.063622  0.169575   \n",
       "curb-weight        0.867307  0.293892     1.000000     0.850236  0.648345   \n",
       "engine-size        0.735016  0.063622     0.850236     1.000000  0.592931   \n",
       "bore               0.556721  0.169575     0.648345     0.592931  1.000000   \n",
       "stroke             0.185110 -0.056016     0.171289     0.209022 -0.054250   \n",
       "compression-ratio  0.178893  0.253871     0.156838     0.029468 -0.001731   \n",
       "horsepower         0.646575 -0.107707     0.752603     0.812981  0.580690   \n",
       "peak-rpm          -0.216229 -0.316713    -0.266077    -0.243784 -0.260465   \n",
       "city-mpg          -0.651892 -0.056337    -0.762457    -0.658584 -0.603529   \n",
       "highway-mpg       -0.686216 -0.115209    -0.802444    -0.682212 -0.602912   \n",
       "price              0.728917  0.132614     0.820439     0.861545  0.531935   \n",
       "\n",
       "                     stroke  compression-ratio  horsepower  peak-rpm  \\\n",
       "symboling         -0.007956          -0.172343    0.068312  0.272162   \n",
       "normalized-losses  0.099114          -0.113747    0.378103  0.190214   \n",
       "wheel-base         0.163744           0.254105    0.353285 -0.359843   \n",
       "length             0.132778           0.154219    0.559618 -0.283068   \n",
       "width              0.185110           0.178893    0.646575 -0.216229   \n",
       "height            -0.056016           0.253871   -0.107707 -0.316713   \n",
       "curb-weight        0.171289           0.156838    0.752603 -0.266077   \n",
       "engine-size        0.209022           0.029468    0.812981 -0.243784   \n",
       "bore              -0.054250          -0.001731    0.580690 -0.260465   \n",
       "stroke             1.000000           0.185802    0.090862 -0.071544   \n",
       "compression-ratio  0.185802           1.000000   -0.195603 -0.431118   \n",
       "horsepower         0.090862          -0.195603    1.000000  0.127036   \n",
       "peak-rpm          -0.071544          -0.431118    0.127036  1.000000   \n",
       "city-mpg          -0.046312           0.308526   -0.802421 -0.106146   \n",
       "highway-mpg       -0.048075           0.247460   -0.769799 -0.046338   \n",
       "price              0.084217           0.075992    0.759006 -0.100702   \n",
       "\n",
       "                   city-mpg  highway-mpg     price  \n",
       "symboling         -0.030513     0.040374 -0.083020  \n",
       "normalized-losses -0.354567    -0.317451  0.330624  \n",
       "wheel-base        -0.475257    -0.549141  0.582379  \n",
       "length            -0.682433    -0.715913  0.683494  \n",
       "width             -0.651892    -0.686216  0.728917  \n",
       "height            -0.056337    -0.115209  0.132614  \n",
       "curb-weight       -0.762457    -0.802444  0.820439  \n",
       "engine-size       -0.658584    -0.682212  0.861545  \n",
       "bore              -0.603529    -0.602912  0.531935  \n",
       "stroke            -0.046312    -0.048075  0.084217  \n",
       "compression-ratio  0.308526     0.247460  0.075992  \n",
       "horsepower        -0.802421    -0.769799  0.759006  \n",
       "peak-rpm          -0.106146    -0.046338 -0.100702  \n",
       "city-mpg           1.000000     0.970964 -0.670766  \n",
       "highway-mpg        0.970964     1.000000 -0.693701  \n",
       "price             -0.670766    -0.693701  1.000000  "
      ]
     },
     "execution_count": 182,
     "metadata": {},
     "output_type": "execute_result"
    }
   ],
   "source": [
    "df_numeric.corr()"
   ]
  },
  {
   "cell_type": "code",
   "execution_count": null,
   "metadata": {},
   "outputs": [],
   "source": []
  }
 ],
 "metadata": {
  "colab": {
   "collapsed_sections": [],
   "name": "Chapter 5 Descriptive Statistics.ipynb",
   "provenance": []
  },
  "kernelspec": {
   "display_name": "Python 3 (ipykernel)",
   "language": "python",
   "name": "python3"
  },
  "language_info": {
   "codemirror_mode": {
    "name": "ipython",
    "version": 3
   },
   "file_extension": ".py",
   "mimetype": "text/x-python",
   "name": "python",
   "nbconvert_exporter": "python",
   "pygments_lexer": "ipython3",
   "version": "3.9.13"
  }
 },
 "nbformat": 4,
 "nbformat_minor": 1
}
