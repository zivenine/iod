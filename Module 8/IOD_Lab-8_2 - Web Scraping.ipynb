{
 "cells": [
  {
   "cell_type": "markdown",
   "id": "dd7b71a2",
   "metadata": {},
   "source": [
    "<div>\n",
    "<img src=https://www.institutedata.com/wp-content/uploads/2019/10/iod_h_tp_primary_c.svg width=\"300\">\n",
    "</div>\n",
    "\n"
   ]
  },
  {
   "cell_type": "markdown",
   "id": "4d89fd3b",
   "metadata": {},
   "source": [
    "# Lab 8.2: Web Scraping\n",
    "INSTRUCTIONS:\n",
    "- Read the guides and hints then create the necessary analysis and code to find an answer and conclusion for the task below."
   ]
  },
  {
   "cell_type": "markdown",
   "id": "42172677",
   "metadata": {},
   "source": [
    "# Web Scraping in Python (using BeautifulSoup)\n",
    "\n",
    "## Scraping Rules\n",
    "1. **Always** check a website’s **Terms and Conditions** before you scrape it. Be careful to read the statements about legal use of data. Usually, the retrieved data should not be used for commercial purposes.\n",
    "2. **Do not** request data from the website too aggressively with a program (also known as spamming), as this may break the website. Make sure the program behaves in a reasonable manner (i.e. acts like a human). One request for one webpage per second is good practice.\n",
    "3. The layout of a website may change from time to time, so make sure to revisit the site and rewrite the code as needed."
   ]
  },
  {
   "cell_type": "markdown",
   "id": "0746b9b7",
   "metadata": {},
   "source": [
    "## Inspecting a Wikipedia Page\n",
    "Let’s take one page from **Wikipedia** as an example.\n",
    "\n",
    "Open the web page on [List of years in film](https://en.wikipedia.org/wiki/List_of_years_in_film) with the browser and inspect it.\n",
    "\n",
    "It has a number of movies listed by year. We shall scrape these (focus on the years 1900 onwards) and load our results into a dataframe having the following structure:\n",
    "\n",
    "|Year   |Movie   |URL   |\n",
    "|---|---|---|\n",
    "|...   |...   |...   | "
   ]
  },
  {
   "cell_type": "code",
   "execution_count": null,
   "id": "cd5fb091",
   "metadata": {},
   "outputs": [],
   "source": [
    "## Import Libraries\n",
    "import pandas as pd\n",
    "import requests\n",
    "from bs4 import BeautifulSoup\n",
    "import re\n",
    "pd.set_option('display.max_colwidth', None) #enables columns to be displayed entirely"
   ]
  },
  {
   "cell_type": "markdown",
   "id": "bffc1226",
   "metadata": {},
   "source": [
    "### Define the content to retrieve (webpage's URL)"
   ]
  },
  {
   "cell_type": "code",
   "execution_count": null,
   "id": "20f9c958",
   "metadata": {},
   "outputs": [],
   "source": [
    "url = \"https://en.wikipedia.org/wiki/List_of_years_in_film\""
   ]
  },
  {
   "cell_type": "code",
   "execution_count": null,
   "id": "8d3c6bbb",
   "metadata": {},
   "outputs": [],
   "source": [
    "r = requests.get(url)\n",
    "if r.status_code == 200:\n",
    "    page = ???\n",
    "    print('Type of the variable \\'page\\':', page.__class__.__name__)\n",
    "    print('Page Retrieved. Request Status Code: %d, Page Size: %d' % (r.status_code, len(page)))\n",
    "else:\n",
    "    print('Some problem occurred. Request Status Code: %d' % r.status_code)"
   ]
  },
  {
   "cell_type": "markdown",
   "id": "ace5c1b8",
   "metadata": {},
   "source": [
    "### Convert the stream of bytes into a BeautifulSoup representation"
   ]
  },
  {
   "cell_type": "code",
   "execution_count": null,
   "id": "7c0bfacf",
   "metadata": {},
   "outputs": [],
   "source": [
    "#ANSWER\n"
   ]
  },
  {
   "cell_type": "markdown",
   "id": "a5185004",
   "metadata": {},
   "source": [
    "### Check the content\n",
    "- The HTML source\n",
    "- Includes all tags and scripts\n",
    "- Can be long!"
   ]
  },
  {
   "cell_type": "code",
   "execution_count": null,
   "id": "99b8fc61",
   "metadata": {},
   "outputs": [],
   "source": [
    "#ANSWER\n"
   ]
  },
  {
   "cell_type": "markdown",
   "id": "7d0130b8",
   "metadata": {},
   "source": [
    "### Check the HTML's Title"
   ]
  },
  {
   "cell_type": "code",
   "execution_count": null,
   "id": "d4b68c8f",
   "metadata": {},
   "outputs": [],
   "source": [
    "#ANSWER\n"
   ]
  },
  {
   "cell_type": "markdown",
   "id": "5120d2fd",
   "metadata": {},
   "source": [
    "### `<li>` tags\n",
    "- This page uses the tag `li` to introduce each year in the list of films\n",
    "\n",
    "Example:\n",
    "        `<li><b><a href=\"/wiki/1971_in_film\" title=\"1971 in film\">1971</a></b>`"
   ]
  },
  {
   "cell_type": "markdown",
   "id": "9f345e78",
   "metadata": {},
   "source": [
    "Use the find_all method to extract all `li` tags not containing any class or id attributes."
   ]
  },
  {
   "cell_type": "code",
   "execution_count": null,
   "id": "e3bd7aea",
   "metadata": {},
   "outputs": [],
   "source": [
    "list_of_li_tags = ???"
   ]
  },
  {
   "cell_type": "code",
   "execution_count": null,
   "id": "dd4b1860",
   "metadata": {},
   "outputs": [],
   "source": [
    "len(list_of_li_tags)"
   ]
  },
  {
   "cell_type": "markdown",
   "id": "2aeceeaf",
   "metadata": {},
   "source": [
    "Identify those tags which correspond to the years 1900 to 2023."
   ]
  },
  {
   "cell_type": "code",
   "execution_count": null,
   "id": "ed4f80f3",
   "metadata": {},
   "outputs": [],
   "source": [
    "relevant_tags = list_of_li_tags[???:???]\n",
    "relevant_tags"
   ]
  },
  {
   "cell_type": "markdown",
   "id": "c981c141",
   "metadata": {},
   "source": [
    "Let's focus on parsing one tag, then extend that to all tags afterwards."
   ]
  },
  {
   "cell_type": "code",
   "execution_count": null,
   "id": "92b35c28",
   "metadata": {},
   "outputs": [],
   "source": [
    "li_tag = relevant_tags[-1]\n",
    "li_tag"
   ]
  },
  {
   "cell_type": "markdown",
   "id": "9a4f0d5a",
   "metadata": {},
   "source": [
    "To identify the year let us look for the pattern \"x in film\" in the `title` attribute of the link tag:\n"
   ]
  },
  {
   "cell_type": "code",
   "execution_count": null,
   "id": "0e308346",
   "metadata": {},
   "outputs": [],
   "source": [
    "year_tag = li_tag.find('a', title = lambda x: x)\n",
    "year_tag"
   ]
  },
  {
   "cell_type": "markdown",
   "id": "05484e1c",
   "metadata": {},
   "source": [
    "From this we extract the year:"
   ]
  },
  {
   "cell_type": "code",
   "execution_count": null,
   "id": "c56933a7",
   "metadata": {},
   "outputs": [],
   "source": [
    "year_tag.text.strip()"
   ]
  },
  {
   "cell_type": "markdown",
   "id": "6cd6c8f3",
   "metadata": {},
   "source": [
    "Next we extract the movie titles and urls:"
   ]
  },
  {
   "cell_type": "code",
   "execution_count": null,
   "id": "27d2a2ec",
   "metadata": {},
   "outputs": [],
   "source": [
    "movie_tags = li_tag.find_all('i')\n",
    "movie_tags"
   ]
  },
  {
   "cell_type": "markdown",
   "id": "45cf6b1d",
   "metadata": {},
   "source": [
    "Extract the movie name and url from the first of these movie tags:"
   ]
  },
  {
   "cell_type": "code",
   "execution_count": null,
   "id": "79c9ad25",
   "metadata": {},
   "outputs": [],
   "source": [
    "first_movie_name = movie_tags[0].???\n",
    "first_movie_name"
   ]
  },
  {
   "cell_type": "markdown",
   "id": "cc3b97bf",
   "metadata": {},
   "source": [
    "The url can be extracted as follows:"
   ]
  },
  {
   "cell_type": "code",
   "execution_count": null,
   "id": "8279e0ec",
   "metadata": {},
   "outputs": [],
   "source": [
    "first_movie_url_tag = movie_tags[0].find('a')['href']\n",
    "'http://en.wikipedia.org' + first_movie_url_tag"
   ]
  },
  {
   "cell_type": "markdown",
   "id": "049d5ee2",
   "metadata": {},
   "source": [
    "## Parsing all elements"
   ]
  },
  {
   "cell_type": "markdown",
   "id": "d2a03dcd",
   "metadata": {},
   "source": [
    "Complete the code below to extract all the years, movies and movie_urls into lists:"
   ]
  },
  {
   "cell_type": "code",
   "execution_count": null,
   "id": "51a95f45",
   "metadata": {},
   "outputs": [],
   "source": [
    "years = []\n",
    "movies = []\n",
    "movie_urls = []\n",
    "\n",
    "# Iterate over the <li> tags and extract the year, movie name and url\n",
    "for li in relevant_tags:\n",
    "    year_tag = ???\n",
    "    if year_tag:\n",
    "        year = ???\n",
    "        movie_tags = ???\n",
    "        \n",
    "        for movie_tag in movie_tags:\n",
    "            movie_title = ???\n",
    "            movie_url_tag = ???\n",
    "            \n",
    "            # Test if the movie has a URL\n",
    "            if movie_url_tag and 'href' in movie_url_tag.attrs:\n",
    "                movie_url = ???\n",
    "               \n",
    "            # Append each year, movie title and corresponding url to the lists\n",
    "                years.append(year)\n",
    "                movies.append(movie_title)\n",
    "                movie_urls.append(movie_url)"
   ]
  },
  {
   "cell_type": "markdown",
   "id": "120e1ec3",
   "metadata": {},
   "source": [
    "Create a dataframe containing this information:"
   ]
  },
  {
   "cell_type": "code",
   "execution_count": null,
   "id": "dcc87fa2",
   "metadata": {},
   "outputs": [],
   "source": [
    "df = pd.DataFrame({'year': years, 'movie': movies, 'movie_url': movie_urls})"
   ]
  },
  {
   "cell_type": "code",
   "execution_count": null,
   "id": "3f603dce",
   "metadata": {},
   "outputs": [],
   "source": [
    "df"
   ]
  },
  {
   "cell_type": "markdown",
   "id": "074ac1e0",
   "metadata": {},
   "source": [
    "**Question**: Which year had the most movies listed?\n"
   ]
  },
  {
   "cell_type": "code",
   "execution_count": null,
   "id": "9ec982b1",
   "metadata": {},
   "outputs": [],
   "source": [
    "#ANSWER:"
   ]
  },
  {
   "cell_type": "markdown",
   "id": "fcd0e3ae",
   "metadata": {},
   "source": [
    "Through webscraping from Wikipedia we now have a dataframe containing a list of prominent movies by year together with their Wikipedia links."
   ]
  },
  {
   "cell_type": "markdown",
   "id": "b4347a64",
   "metadata": {},
   "source": [
    "\n",
    "\n",
    "---\n",
    "\n",
    "\n",
    "\n",
    "---\n",
    "\n",
    "\n",
    "\n",
    "> > > > > > > > > © 2024 Institute of Data\n",
    "\n",
    "\n",
    "---\n",
    "\n",
    "\n",
    "\n",
    "---\n",
    "\n",
    "\n",
    "\n"
   ]
  }
 ],
 "metadata": {
  "kernelspec": {
   "display_name": "Python 3 (ipykernel)",
   "language": "python",
   "name": "python3"
  },
  "language_info": {
   "codemirror_mode": {
    "name": "ipython",
    "version": 3
   },
   "file_extension": ".py",
   "mimetype": "text/x-python",
   "name": "python",
   "nbconvert_exporter": "python",
   "pygments_lexer": "ipython3",
   "version": "3.9.12"
  }
 },
 "nbformat": 4,
 "nbformat_minor": 5
}
