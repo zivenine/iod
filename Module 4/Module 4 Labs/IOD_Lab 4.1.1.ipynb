{
 "cells": [
  {
   "cell_type": "markdown",
   "metadata": {
    "id": "jZSSKjAWXd3j"
   },
   "source": [
    "<div>\n",
    "<img src=https://www.institutedata.com/wp-content/uploads/2019/10/iod_h_tp_primary_c.svg width=\"300\">\n",
    "</div>"
   ]
  },
  {
   "cell_type": "markdown",
   "metadata": {
    "id": "2Ms9riXMXd3k"
   },
   "source": [
    "# Lab 4.1.1 Linear Regression"
   ]
  },
  {
   "cell_type": "markdown",
   "metadata": {
    "id": "twocr7v8Xd3l"
   },
   "source": [
    "## Prediction of House Price Using Linear Regression"
   ]
  },
  {
   "cell_type": "markdown",
   "metadata": {
    "id": "0j3ZiTCPXd3m"
   },
   "source": [
    "### Data\n",
    "\n",
    "The Sacramento real estate transactions file is a list of 985 real estate transactions in the Sacramento area reported over a five-day period, as reported by the Sacramento Bee."
   ]
  },
  {
   "cell_type": "code",
   "execution_count": 37,
   "metadata": {
    "id": "hejYh49cXd3n"
   },
   "outputs": [],
   "source": [
    "import pandas as pd\n",
    "import numpy as np\n",
    "import pandas as pd\n",
    "import matplotlib.pyplot as plt\n",
    "\n",
    "%matplotlib inline"
   ]
  },
  {
   "cell_type": "markdown",
   "metadata": {
    "id": "BlumKNPDXd3q"
   },
   "source": [
    "### 1. Explore Data"
   ]
  },
  {
   "cell_type": "markdown",
   "metadata": {
    "id": "h1FUHCAnXd3r"
   },
   "source": [
    "Perform EDA on this dataset. Use what you have learned so far. Be creative. List all your findings."
   ]
  },
  {
   "cell_type": "code",
   "execution_count": 2,
   "metadata": {
    "id": "C8BX-oTKXd3s"
   },
   "outputs": [],
   "source": [
    "# Read CSV\n",
    "house_csv = \"../../Data/Sacramento_transactions.csv\"\n"
   ]
  },
  {
   "cell_type": "markdown",
   "metadata": {
    "id": "sIztKXN7Xd3u"
   },
   "source": [
    "### 2. Predict Price"
   ]
  },
  {
   "cell_type": "markdown",
   "metadata": {
    "id": "hzXJOP2_Xd3v"
   },
   "source": [
    "We are going to predict `price` from available information."
   ]
  },
  {
   "cell_type": "markdown",
   "metadata": {
    "id": "1CMJdXc3Xd3w"
   },
   "source": [
    "#### 2.1 What is the Target Variable? Why?"
   ]
  },
  {
   "cell_type": "code",
   "execution_count": 3,
   "metadata": {
    "colab": {
     "base_uri": "https://localhost:8080/",
     "height": 353
    },
    "executionInfo": {
     "elapsed": 419,
     "status": "error",
     "timestamp": 1680327395610,
     "user": {
      "displayName": "Maheshkumar Paik",
      "userId": "02349378107593826691"
     },
     "user_tz": -480
    },
    "id": "56yN89q2Xd3w",
    "outputId": "1ca23915-94ae-47ec-d221-deb34a1f4bea"
   },
   "outputs": [
    {
     "data": {
      "text/html": [
       "<div>\n",
       "<style scoped>\n",
       "    .dataframe tbody tr th:only-of-type {\n",
       "        vertical-align: middle;\n",
       "    }\n",
       "\n",
       "    .dataframe tbody tr th {\n",
       "        vertical-align: top;\n",
       "    }\n",
       "\n",
       "    .dataframe thead th {\n",
       "        text-align: right;\n",
       "    }\n",
       "</style>\n",
       "<table border=\"1\" class=\"dataframe\">\n",
       "  <thead>\n",
       "    <tr style=\"text-align: right;\">\n",
       "      <th></th>\n",
       "      <th>street</th>\n",
       "      <th>city</th>\n",
       "      <th>zip</th>\n",
       "      <th>state</th>\n",
       "      <th>beds</th>\n",
       "      <th>baths</th>\n",
       "      <th>sq__ft</th>\n",
       "      <th>type</th>\n",
       "      <th>sale_date</th>\n",
       "      <th>price</th>\n",
       "      <th>latitude</th>\n",
       "      <th>longitude</th>\n",
       "    </tr>\n",
       "  </thead>\n",
       "  <tbody>\n",
       "    <tr>\n",
       "      <th>0</th>\n",
       "      <td>3526 HIGH ST</td>\n",
       "      <td>SACRAMENTO</td>\n",
       "      <td>95838</td>\n",
       "      <td>CA</td>\n",
       "      <td>2</td>\n",
       "      <td>1</td>\n",
       "      <td>836</td>\n",
       "      <td>Residential</td>\n",
       "      <td>Wed May 21 00:00:00 EDT 2008</td>\n",
       "      <td>59222</td>\n",
       "      <td>38.631913</td>\n",
       "      <td>-121.434879</td>\n",
       "    </tr>\n",
       "    <tr>\n",
       "      <th>1</th>\n",
       "      <td>51 OMAHA CT</td>\n",
       "      <td>SACRAMENTO</td>\n",
       "      <td>95823</td>\n",
       "      <td>CA</td>\n",
       "      <td>3</td>\n",
       "      <td>1</td>\n",
       "      <td>1167</td>\n",
       "      <td>Residential</td>\n",
       "      <td>Wed May 21 00:00:00 EDT 2008</td>\n",
       "      <td>68212</td>\n",
       "      <td>38.478902</td>\n",
       "      <td>-121.431028</td>\n",
       "    </tr>\n",
       "    <tr>\n",
       "      <th>2</th>\n",
       "      <td>2796 BRANCH ST</td>\n",
       "      <td>SACRAMENTO</td>\n",
       "      <td>95815</td>\n",
       "      <td>CA</td>\n",
       "      <td>2</td>\n",
       "      <td>1</td>\n",
       "      <td>796</td>\n",
       "      <td>Residential</td>\n",
       "      <td>Wed May 21 00:00:00 EDT 2008</td>\n",
       "      <td>68880</td>\n",
       "      <td>38.618305</td>\n",
       "      <td>-121.443839</td>\n",
       "    </tr>\n",
       "    <tr>\n",
       "      <th>3</th>\n",
       "      <td>2805 JANETTE WAY</td>\n",
       "      <td>SACRAMENTO</td>\n",
       "      <td>95815</td>\n",
       "      <td>CA</td>\n",
       "      <td>2</td>\n",
       "      <td>1</td>\n",
       "      <td>852</td>\n",
       "      <td>Residential</td>\n",
       "      <td>Wed May 21 00:00:00 EDT 2008</td>\n",
       "      <td>69307</td>\n",
       "      <td>38.616835</td>\n",
       "      <td>-121.439146</td>\n",
       "    </tr>\n",
       "    <tr>\n",
       "      <th>4</th>\n",
       "      <td>6001 MCMAHON DR</td>\n",
       "      <td>SACRAMENTO</td>\n",
       "      <td>95824</td>\n",
       "      <td>CA</td>\n",
       "      <td>2</td>\n",
       "      <td>1</td>\n",
       "      <td>797</td>\n",
       "      <td>Residential</td>\n",
       "      <td>Wed May 21 00:00:00 EDT 2008</td>\n",
       "      <td>81900</td>\n",
       "      <td>38.519470</td>\n",
       "      <td>-121.435768</td>\n",
       "    </tr>\n",
       "  </tbody>\n",
       "</table>\n",
       "</div>"
      ],
      "text/plain": [
       "             street        city    zip state  beds  baths  sq__ft  \\\n",
       "0      3526 HIGH ST  SACRAMENTO  95838    CA     2      1     836   \n",
       "1       51 OMAHA CT  SACRAMENTO  95823    CA     3      1    1167   \n",
       "2    2796 BRANCH ST  SACRAMENTO  95815    CA     2      1     796   \n",
       "3  2805 JANETTE WAY  SACRAMENTO  95815    CA     2      1     852   \n",
       "4   6001 MCMAHON DR  SACRAMENTO  95824    CA     2      1     797   \n",
       "\n",
       "          type                     sale_date  price   latitude   longitude  \n",
       "0  Residential  Wed May 21 00:00:00 EDT 2008  59222  38.631913 -121.434879  \n",
       "1  Residential  Wed May 21 00:00:00 EDT 2008  68212  38.478902 -121.431028  \n",
       "2  Residential  Wed May 21 00:00:00 EDT 2008  68880  38.618305 -121.443839  \n",
       "3  Residential  Wed May 21 00:00:00 EDT 2008  69307  38.616835 -121.439146  \n",
       "4  Residential  Wed May 21 00:00:00 EDT 2008  81900  38.519470 -121.435768  "
      ]
     },
     "execution_count": 3,
     "metadata": {},
     "output_type": "execute_result"
    }
   ],
   "source": [
    "# ANSWER\n",
    "\n",
    "# The Target Variable is price. \n",
    "\n",
    "df=pd.read_csv(house_csv)\n",
    "df.head()"
   ]
  },
  {
   "cell_type": "markdown",
   "metadata": {
    "id": "7qy-ZmGEXd3z"
   },
   "source": [
    "#### 2.2 List all possible variables which might be Predictor variable."
   ]
  },
  {
   "cell_type": "code",
   "execution_count": 4,
   "metadata": {
    "id": "nfAq28P_Xd30"
   },
   "outputs": [],
   "source": [
    "# ANSWER\n",
    "\n",
    "# Potential predictor variables are zip, beds, baths, sq_ft, latitude and longitude. "
   ]
  },
  {
   "cell_type": "markdown",
   "metadata": {
    "id": "yFZkIpXhXd32"
   },
   "source": [
    "#### 2.3 Find correlation between variables\n",
    "\n",
    "Find correlation between variables. Which is the best predictor? Why? State your reason."
   ]
  },
  {
   "cell_type": "code",
   "execution_count": 5,
   "metadata": {
    "id": "Nc8FHVnjXd32"
   },
   "outputs": [
    {
     "data": {
      "text/html": [
       "<div>\n",
       "<style scoped>\n",
       "    .dataframe tbody tr th:only-of-type {\n",
       "        vertical-align: middle;\n",
       "    }\n",
       "\n",
       "    .dataframe tbody tr th {\n",
       "        vertical-align: top;\n",
       "    }\n",
       "\n",
       "    .dataframe thead th {\n",
       "        text-align: right;\n",
       "    }\n",
       "</style>\n",
       "<table border=\"1\" class=\"dataframe\">\n",
       "  <thead>\n",
       "    <tr style=\"text-align: right;\">\n",
       "      <th></th>\n",
       "      <th>price</th>\n",
       "      <th>zip</th>\n",
       "      <th>beds</th>\n",
       "      <th>baths</th>\n",
       "      <th>sq__ft</th>\n",
       "      <th>latitude</th>\n",
       "      <th>longitude</th>\n",
       "    </tr>\n",
       "  </thead>\n",
       "  <tbody>\n",
       "    <tr>\n",
       "      <th>price</th>\n",
       "      <td>1.000000</td>\n",
       "      <td>-0.093353</td>\n",
       "      <td>0.342024</td>\n",
       "      <td>0.416208</td>\n",
       "      <td>0.333897</td>\n",
       "      <td>-0.039573</td>\n",
       "      <td>0.284485</td>\n",
       "    </tr>\n",
       "    <tr>\n",
       "      <th>zip</th>\n",
       "      <td>-0.093353</td>\n",
       "      <td>1.000000</td>\n",
       "      <td>0.125319</td>\n",
       "      <td>0.069165</td>\n",
       "      <td>0.130108</td>\n",
       "      <td>-0.290389</td>\n",
       "      <td>-0.539904</td>\n",
       "    </tr>\n",
       "    <tr>\n",
       "      <th>beds</th>\n",
       "      <td>0.342024</td>\n",
       "      <td>0.125319</td>\n",
       "      <td>1.000000</td>\n",
       "      <td>0.839650</td>\n",
       "      <td>0.684041</td>\n",
       "      <td>-0.291307</td>\n",
       "      <td>-0.053993</td>\n",
       "    </tr>\n",
       "    <tr>\n",
       "      <th>baths</th>\n",
       "      <td>0.416208</td>\n",
       "      <td>0.069165</td>\n",
       "      <td>0.839650</td>\n",
       "      <td>1.000000</td>\n",
       "      <td>0.665690</td>\n",
       "      <td>-0.235792</td>\n",
       "      <td>0.016582</td>\n",
       "    </tr>\n",
       "    <tr>\n",
       "      <th>sq__ft</th>\n",
       "      <td>0.333897</td>\n",
       "      <td>0.130108</td>\n",
       "      <td>0.684041</td>\n",
       "      <td>0.665690</td>\n",
       "      <td>1.000000</td>\n",
       "      <td>-0.383274</td>\n",
       "      <td>-0.177742</td>\n",
       "    </tr>\n",
       "    <tr>\n",
       "      <th>latitude</th>\n",
       "      <td>-0.039573</td>\n",
       "      <td>-0.290389</td>\n",
       "      <td>-0.291307</td>\n",
       "      <td>-0.235792</td>\n",
       "      <td>-0.383274</td>\n",
       "      <td>1.000000</td>\n",
       "      <td>0.387925</td>\n",
       "    </tr>\n",
       "    <tr>\n",
       "      <th>longitude</th>\n",
       "      <td>0.284485</td>\n",
       "      <td>-0.539904</td>\n",
       "      <td>-0.053993</td>\n",
       "      <td>0.016582</td>\n",
       "      <td>-0.177742</td>\n",
       "      <td>0.387925</td>\n",
       "      <td>1.000000</td>\n",
       "    </tr>\n",
       "  </tbody>\n",
       "</table>\n",
       "</div>"
      ],
      "text/plain": [
       "              price       zip      beds     baths    sq__ft  latitude  \\\n",
       "price      1.000000 -0.093353  0.342024  0.416208  0.333897 -0.039573   \n",
       "zip       -0.093353  1.000000  0.125319  0.069165  0.130108 -0.290389   \n",
       "beds       0.342024  0.125319  1.000000  0.839650  0.684041 -0.291307   \n",
       "baths      0.416208  0.069165  0.839650  1.000000  0.665690 -0.235792   \n",
       "sq__ft     0.333897  0.130108  0.684041  0.665690  1.000000 -0.383274   \n",
       "latitude  -0.039573 -0.290389 -0.291307 -0.235792 -0.383274  1.000000   \n",
       "longitude  0.284485 -0.539904 -0.053993  0.016582 -0.177742  0.387925   \n",
       "\n",
       "           longitude  \n",
       "price       0.284485  \n",
       "zip        -0.539904  \n",
       "beds       -0.053993  \n",
       "baths       0.016582  \n",
       "sq__ft     -0.177742  \n",
       "latitude    0.387925  \n",
       "longitude   1.000000  "
      ]
     },
     "execution_count": 5,
     "metadata": {},
     "output_type": "execute_result"
    }
   ],
   "source": [
    "# ANSWER\n",
    "\n",
    "predictors = df[['price', 'zip', 'beds', 'baths', 'sq__ft', 'latitude', 'longitude']]\n",
    "\n",
    "predictors.corr()"
   ]
  },
  {
   "cell_type": "code",
   "execution_count": 6,
   "metadata": {},
   "outputs": [],
   "source": [
    "# The best predictor is baths, then beds and sq__ft. "
   ]
  },
  {
   "cell_type": "markdown",
   "metadata": {
    "id": "1vop_P66Xd35"
   },
   "source": [
    "#### 2.4 What is the simplest way to predict price\n",
    "\n",
    "So we have information for 985 houses. What is the easiest way to predict price of a house?"
   ]
  },
  {
   "cell_type": "code",
   "execution_count": 7,
   "metadata": {
    "id": "p0xBzE9iXd35"
   },
   "outputs": [
    {
     "name": "stdout",
     "output_type": "stream",
     "text": [
      "131789.77142857143\n"
     ]
    }
   ],
   "source": [
    "# ANSWER\n",
    "\n",
    "price_mean = df['price'].mean()\n",
    "baths_mean = df['baths'].mean()\n",
    "\n",
    "price_per_bath = price_mean / baths_mean\n",
    "print(price_per_bath)"
   ]
  },
  {
   "cell_type": "code",
   "execution_count": 8,
   "metadata": {},
   "outputs": [
    {
     "name": "stdout",
     "output_type": "stream",
     "text": [
      "Estimated house price is $263579.54\n"
     ]
    }
   ],
   "source": [
    "def house_price(baths):\n",
    "    price_est = baths * price_per_bath\n",
    "    print(\"Estimated house price is $\" + str(price_est.round(2)))\n",
    "\n",
    "house_price(2)"
   ]
  },
  {
   "cell_type": "markdown",
   "metadata": {
    "id": "8uRWVPNuXd38"
   },
   "source": [
    "#### 2.5 Find Residuals\n",
    "\n",
    "Find difference between actual value and predicted value. Use absolute value."
   ]
  },
  {
   "cell_type": "code",
   "execution_count": 9,
   "metadata": {
    "id": "PBzfNQsGXd39"
   },
   "outputs": [
    {
     "name": "stderr",
     "output_type": "stream",
     "text": [
      "C:\\Users\\Dinesh\\AppData\\Local\\Temp\\ipykernel_13384\\3776991479.py:16: SettingWithCopyWarning: \n",
      "A value is trying to be set on a copy of a slice from a DataFrame.\n",
      "Try using .loc[row_indexer,col_indexer] = value instead\n",
      "\n",
      "See the caveats in the documentation: https://pandas.pydata.org/pandas-docs/stable/user_guide/indexing.html#returning-a-view-versus-a-copy\n",
      "  bath_price['mean_prediction'] = house_price_predictions\n",
      "C:\\Users\\Dinesh\\AppData\\Local\\Temp\\ipykernel_13384\\3776991479.py:18: SettingWithCopyWarning: \n",
      "A value is trying to be set on a copy of a slice from a DataFrame.\n",
      "Try using .loc[row_indexer,col_indexer] = value instead\n",
      "\n",
      "See the caveats in the documentation: https://pandas.pydata.org/pandas-docs/stable/user_guide/indexing.html#returning-a-view-versus-a-copy\n",
      "  bath_price['residuals'] = abs(bath_price['price'] - bath_price['mean_prediction'])\n"
     ]
    },
    {
     "data": {
      "text/html": [
       "<div>\n",
       "<style scoped>\n",
       "    .dataframe tbody tr th:only-of-type {\n",
       "        vertical-align: middle;\n",
       "    }\n",
       "\n",
       "    .dataframe tbody tr th {\n",
       "        vertical-align: top;\n",
       "    }\n",
       "\n",
       "    .dataframe thead th {\n",
       "        text-align: right;\n",
       "    }\n",
       "</style>\n",
       "<table border=\"1\" class=\"dataframe\">\n",
       "  <thead>\n",
       "    <tr style=\"text-align: right;\">\n",
       "      <th></th>\n",
       "      <th>baths</th>\n",
       "      <th>price</th>\n",
       "      <th>mean_prediction</th>\n",
       "      <th>residuals</th>\n",
       "    </tr>\n",
       "  </thead>\n",
       "  <tbody>\n",
       "    <tr>\n",
       "      <th>0</th>\n",
       "      <td>1</td>\n",
       "      <td>59222</td>\n",
       "      <td>131789.77</td>\n",
       "      <td>72567.77</td>\n",
       "    </tr>\n",
       "    <tr>\n",
       "      <th>1</th>\n",
       "      <td>1</td>\n",
       "      <td>68212</td>\n",
       "      <td>131789.77</td>\n",
       "      <td>63577.77</td>\n",
       "    </tr>\n",
       "    <tr>\n",
       "      <th>2</th>\n",
       "      <td>1</td>\n",
       "      <td>68880</td>\n",
       "      <td>131789.77</td>\n",
       "      <td>62909.77</td>\n",
       "    </tr>\n",
       "    <tr>\n",
       "      <th>3</th>\n",
       "      <td>1</td>\n",
       "      <td>69307</td>\n",
       "      <td>131789.77</td>\n",
       "      <td>62482.77</td>\n",
       "    </tr>\n",
       "    <tr>\n",
       "      <th>4</th>\n",
       "      <td>1</td>\n",
       "      <td>81900</td>\n",
       "      <td>131789.77</td>\n",
       "      <td>49889.77</td>\n",
       "    </tr>\n",
       "  </tbody>\n",
       "</table>\n",
       "</div>"
      ],
      "text/plain": [
       "   baths  price  mean_prediction  residuals\n",
       "0      1  59222        131789.77   72567.77\n",
       "1      1  68212        131789.77   63577.77\n",
       "2      1  68880        131789.77   62909.77\n",
       "3      1  69307        131789.77   62482.77\n",
       "4      1  81900        131789.77   49889.77"
      ]
     },
     "execution_count": 9,
     "metadata": {},
     "output_type": "execute_result"
    }
   ],
   "source": [
    "# ANSWER\n",
    "\n",
    "houses_baths = df['baths']\n",
    "\n",
    "def house_prices(baths):\n",
    "    price_ests = []\n",
    "    for bath in baths:\n",
    "        price_est = bath * price_per_bath\n",
    "        price_ests.append(price_est.round(2))\n",
    "    return price_ests\n",
    "\n",
    "house_price_predictions = house_prices(houses_baths)\n",
    "\n",
    "bath_price = df[['baths', 'price']]\n",
    "\n",
    "bath_price['mean_prediction'] = house_price_predictions\n",
    "\n",
    "bath_price['residuals'] = abs(bath_price['price'] - bath_price['mean_prediction'])\n",
    "\n",
    "bath_price.head()"
   ]
  },
  {
   "cell_type": "markdown",
   "metadata": {
    "id": "5P61MoAsXd4B"
   },
   "source": [
    "#### 2.6  Predict Using Linear Regression\n",
    "\n",
    "[Simple Linear Regression](https://en.wikipedia.org/wiki/Simple_linear_regression#Fitting_the_regression_line)\n",
    "\n",
    "### $$\\hat{y} = \\beta_0 + \\beta_1 x$$\n",
    "\n",
    "> ### $$ \\beta_1 = \\frac{\\sum_{i=1}^n (y_i - \\bar{y} ) (x_i - \\bar{x} )}{\\sum_{i=1}^n (x_i - \\bar{x})^2} $$\n",
    "\n",
    "and\n",
    "\n",
    "> ### $$ \\beta_0 = \\bar{y} - \\beta_1\\bar{x} $$\n",
    "\n",
    "Given variables:\n",
    "- $\\bar{y}$ : the sample mean of observed values $Y$\n",
    "- $\\bar{x}$ : the sample mean of observed values $X$"
   ]
  },
  {
   "cell_type": "markdown",
   "metadata": {
    "id": "drP_xuAKXd4C"
   },
   "source": [
    "##### 2.7 Define X, Y\n",
    "\n",
    "- X = Predictor Variable\n",
    "- Y = Target Variable"
   ]
  },
  {
   "cell_type": "code",
   "execution_count": 10,
   "metadata": {
    "id": "yPWPQp3VXd4D"
   },
   "outputs": [],
   "source": [
    "# ANSWER\n",
    "\n",
    "X = df['baths']\n",
    "Y = df['price']"
   ]
  },
  {
   "cell_type": "markdown",
   "metadata": {
    "id": "JkV3m-EqXd4F"
   },
   "source": [
    "##### 2.7.A Calculate beta_1\n",
    "\n",
    " ### $$ \\beta_1 = \\frac{\\sum_{i=1}^n (y_i - \\bar{y} ) (x_i - \\bar{x} )}{\\sum_{i=1}^n (x_i - \\bar{x})^2} $$"
   ]
  },
  {
   "cell_type": "code",
   "execution_count": 12,
   "metadata": {
    "id": "lcI1IAmXXd4G"
   },
   "outputs": [
    {
     "name": "stdout",
     "output_type": "stream",
     "text": [
      "64318.53523673409\n"
     ]
    }
   ],
   "source": [
    "# ANSWER\n",
    "y_mean = Y.mean()\n",
    "x_mean = X.mean()\n",
    "\n",
    "def beta1_calc(X, Y):\n",
    "    # top = sum([(yi - y_mean) for yi in Y]) * sum([(xi - x_mean) for xi in X])\n",
    "    top = sum((x - x_mean) * (y - y_mean) for x, y in zip(X, Y))\n",
    "    # bot = sum([(xi in X)])\n",
    "    bot = sum((x - x_mean) ** 2 for x in X)\n",
    "\n",
    "    beta1 = top / bot\n",
    "    return beta1\n",
    "\n",
    "print(beta1_calc(X, Y))"
   ]
  },
  {
   "cell_type": "markdown",
   "metadata": {
    "id": "MoA9ez44Xd4I"
   },
   "source": [
    "##### 2.7.B Calculate beta_0"
   ]
  },
  {
   "cell_type": "markdown",
   "metadata": {
    "id": "V7fug5lMXd4K"
   },
   "source": [
    "### $$ \\beta_0 = \\bar{y} - \\beta_1\\bar{x} $$"
   ]
  },
  {
   "cell_type": "code",
   "execution_count": 16,
   "metadata": {},
   "outputs": [],
   "source": [
    "beta_1 = beta1_calc(X, Y)"
   ]
  },
  {
   "cell_type": "code",
   "execution_count": 18,
   "metadata": {
    "id": "bcu8ZhFLXd4L"
   },
   "outputs": [
    {
     "name": "stdout",
     "output_type": "stream",
     "text": [
      "119872.75465554858\n"
     ]
    }
   ],
   "source": [
    "# ANSWER\n",
    "\n",
    "def beta0_calc(y_mean, beta_1, x_mean):\n",
    "    beta0 = y_mean - (beta1 * x_mean)\n",
    "    return beta0\n",
    "\n",
    "print(beta0_calc(y_mean, beta1, x_mean))"
   ]
  },
  {
   "cell_type": "markdown",
   "metadata": {
    "id": "Z9EUGv1KXd4N"
   },
   "source": [
    "##### 2.7.C Find Yhat (Predicted Value Using Beta 0 and Beta 1)"
   ]
  },
  {
   "cell_type": "markdown",
   "metadata": {
    "id": "gSRcDL57Xd4O"
   },
   "source": [
    "### $$\\hat{y} = \\beta_0 + \\beta_1 x$$"
   ]
  },
  {
   "cell_type": "code",
   "execution_count": 29,
   "metadata": {
    "id": "lGkoNedwXd4P"
   },
   "outputs": [],
   "source": [
    "# ANSWER\n",
    "\n",
    "beta0 = beta0_calc(y_mean, beta_1, x_mean)\n",
    "\n",
    "def linear_price_pred(x_baths, beta0, beta1):\n",
    "    linear_price_ests = []\n",
    "    for x in x_baths:\n",
    "        est = beta0 + (beta1 * x)\n",
    "        linear_price_ests.append(est.round(2))\n",
    "    return linear_price_ests\n",
    "\n",
    "x_baths = df['baths']\n",
    "price_preds = linear_price_pred(x_baths, beta0, beta1)\n",
    "\n"
   ]
  },
  {
   "cell_type": "markdown",
   "metadata": {
    "id": "h1D-rddfXd4R"
   },
   "source": [
    "##### 2.7.D Find Residuals"
   ]
  },
  {
   "cell_type": "markdown",
   "metadata": {
    "id": "OQdr3rqFzCJA"
   },
   "source": []
  },
  {
   "cell_type": "markdown",
   "metadata": {
    "id": "2cha8XAQXd4S"
   },
   "source": [
    "### $$ \\text{residual}_i = y_i - \\hat{y}_i$$"
   ]
  },
  {
   "cell_type": "code",
   "execution_count": 30,
   "metadata": {},
   "outputs": [
    {
     "data": {
      "text/html": [
       "<div>\n",
       "<style scoped>\n",
       "    .dataframe tbody tr th:only-of-type {\n",
       "        vertical-align: middle;\n",
       "    }\n",
       "\n",
       "    .dataframe tbody tr th {\n",
       "        vertical-align: top;\n",
       "    }\n",
       "\n",
       "    .dataframe thead th {\n",
       "        text-align: right;\n",
       "    }\n",
       "</style>\n",
       "<table border=\"1\" class=\"dataframe\">\n",
       "  <thead>\n",
       "    <tr style=\"text-align: right;\">\n",
       "      <th></th>\n",
       "      <th>baths</th>\n",
       "      <th>price</th>\n",
       "      <th>mean_prediction</th>\n",
       "      <th>mean_residuals</th>\n",
       "      <th>linear_prediction</th>\n",
       "      <th>linear_residuals</th>\n",
       "    </tr>\n",
       "  </thead>\n",
       "  <tbody>\n",
       "    <tr>\n",
       "      <th>0</th>\n",
       "      <td>1</td>\n",
       "      <td>59222</td>\n",
       "      <td>131789.77</td>\n",
       "      <td>72567.77</td>\n",
       "      <td>184191.289892</td>\n",
       "      <td>124969.289892</td>\n",
       "    </tr>\n",
       "    <tr>\n",
       "      <th>1</th>\n",
       "      <td>1</td>\n",
       "      <td>68212</td>\n",
       "      <td>131789.77</td>\n",
       "      <td>63577.77</td>\n",
       "      <td>184191.289892</td>\n",
       "      <td>115979.289892</td>\n",
       "    </tr>\n",
       "    <tr>\n",
       "      <th>2</th>\n",
       "      <td>1</td>\n",
       "      <td>68880</td>\n",
       "      <td>131789.77</td>\n",
       "      <td>62909.77</td>\n",
       "      <td>184191.289892</td>\n",
       "      <td>115311.289892</td>\n",
       "    </tr>\n",
       "    <tr>\n",
       "      <th>3</th>\n",
       "      <td>1</td>\n",
       "      <td>69307</td>\n",
       "      <td>131789.77</td>\n",
       "      <td>62482.77</td>\n",
       "      <td>184191.289892</td>\n",
       "      <td>114884.289892</td>\n",
       "    </tr>\n",
       "    <tr>\n",
       "      <th>4</th>\n",
       "      <td>1</td>\n",
       "      <td>81900</td>\n",
       "      <td>131789.77</td>\n",
       "      <td>49889.77</td>\n",
       "      <td>184191.289892</td>\n",
       "      <td>102291.289892</td>\n",
       "    </tr>\n",
       "  </tbody>\n",
       "</table>\n",
       "</div>"
      ],
      "text/plain": [
       "   baths  price  mean_prediction  mean_residuals  linear_prediction  \\\n",
       "0      1  59222        131789.77        72567.77      184191.289892   \n",
       "1      1  68212        131789.77        63577.77      184191.289892   \n",
       "2      1  68880        131789.77        62909.77      184191.289892   \n",
       "3      1  69307        131789.77        62482.77      184191.289892   \n",
       "4      1  81900        131789.77        49889.77      184191.289892   \n",
       "\n",
       "   linear_residuals  \n",
       "0     124969.289892  \n",
       "1     115979.289892  \n",
       "2     115311.289892  \n",
       "3     114884.289892  \n",
       "4     102291.289892  "
      ]
     },
     "execution_count": 30,
     "metadata": {},
     "output_type": "execute_result"
    }
   ],
   "source": [
    "bath_price.head()"
   ]
  },
  {
   "cell_type": "code",
   "execution_count": 31,
   "metadata": {
    "id": "dLZgRjbGXd4S"
   },
   "outputs": [
    {
     "name": "stderr",
     "output_type": "stream",
     "text": [
      "C:\\Users\\Dinesh\\AppData\\Local\\Temp\\ipykernel_13384\\1454404884.py:2: SettingWithCopyWarning: \n",
      "A value is trying to be set on a copy of a slice from a DataFrame\n",
      "\n",
      "See the caveats in the documentation: https://pandas.pydata.org/pandas-docs/stable/user_guide/indexing.html#returning-a-view-versus-a-copy\n",
      "  bath_price.rename(columns={'residuals': 'mean_residuals'}, inplace=True)\n",
      "C:\\Users\\Dinesh\\AppData\\Local\\Temp\\ipykernel_13384\\1454404884.py:3: SettingWithCopyWarning: \n",
      "A value is trying to be set on a copy of a slice from a DataFrame.\n",
      "Try using .loc[row_indexer,col_indexer] = value instead\n",
      "\n",
      "See the caveats in the documentation: https://pandas.pydata.org/pandas-docs/stable/user_guide/indexing.html#returning-a-view-versus-a-copy\n",
      "  bath_price['linear_prediction'] = price_preds\n",
      "C:\\Users\\Dinesh\\AppData\\Local\\Temp\\ipykernel_13384\\1454404884.py:4: SettingWithCopyWarning: \n",
      "A value is trying to be set on a copy of a slice from a DataFrame.\n",
      "Try using .loc[row_indexer,col_indexer] = value instead\n",
      "\n",
      "See the caveats in the documentation: https://pandas.pydata.org/pandas-docs/stable/user_guide/indexing.html#returning-a-view-versus-a-copy\n",
      "  bath_price['linear_residuals'] = abs(bath_price['price'] - bath_price['linear_prediction'])\n"
     ]
    },
    {
     "data": {
      "text/html": [
       "<div>\n",
       "<style scoped>\n",
       "    .dataframe tbody tr th:only-of-type {\n",
       "        vertical-align: middle;\n",
       "    }\n",
       "\n",
       "    .dataframe tbody tr th {\n",
       "        vertical-align: top;\n",
       "    }\n",
       "\n",
       "    .dataframe thead th {\n",
       "        text-align: right;\n",
       "    }\n",
       "</style>\n",
       "<table border=\"1\" class=\"dataframe\">\n",
       "  <thead>\n",
       "    <tr style=\"text-align: right;\">\n",
       "      <th></th>\n",
       "      <th>baths</th>\n",
       "      <th>price</th>\n",
       "      <th>mean_prediction</th>\n",
       "      <th>mean_residuals</th>\n",
       "      <th>linear_prediction</th>\n",
       "      <th>linear_residuals</th>\n",
       "    </tr>\n",
       "  </thead>\n",
       "  <tbody>\n",
       "    <tr>\n",
       "      <th>0</th>\n",
       "      <td>1</td>\n",
       "      <td>59222</td>\n",
       "      <td>131789.77</td>\n",
       "      <td>72567.77</td>\n",
       "      <td>184191.29</td>\n",
       "      <td>124969.29</td>\n",
       "    </tr>\n",
       "    <tr>\n",
       "      <th>1</th>\n",
       "      <td>1</td>\n",
       "      <td>68212</td>\n",
       "      <td>131789.77</td>\n",
       "      <td>63577.77</td>\n",
       "      <td>184191.29</td>\n",
       "      <td>115979.29</td>\n",
       "    </tr>\n",
       "    <tr>\n",
       "      <th>2</th>\n",
       "      <td>1</td>\n",
       "      <td>68880</td>\n",
       "      <td>131789.77</td>\n",
       "      <td>62909.77</td>\n",
       "      <td>184191.29</td>\n",
       "      <td>115311.29</td>\n",
       "    </tr>\n",
       "    <tr>\n",
       "      <th>3</th>\n",
       "      <td>1</td>\n",
       "      <td>69307</td>\n",
       "      <td>131789.77</td>\n",
       "      <td>62482.77</td>\n",
       "      <td>184191.29</td>\n",
       "      <td>114884.29</td>\n",
       "    </tr>\n",
       "    <tr>\n",
       "      <th>4</th>\n",
       "      <td>1</td>\n",
       "      <td>81900</td>\n",
       "      <td>131789.77</td>\n",
       "      <td>49889.77</td>\n",
       "      <td>184191.29</td>\n",
       "      <td>102291.29</td>\n",
       "    </tr>\n",
       "    <tr>\n",
       "      <th>5</th>\n",
       "      <td>1</td>\n",
       "      <td>89921</td>\n",
       "      <td>131789.77</td>\n",
       "      <td>41868.77</td>\n",
       "      <td>184191.29</td>\n",
       "      <td>94270.29</td>\n",
       "    </tr>\n",
       "    <tr>\n",
       "      <th>6</th>\n",
       "      <td>2</td>\n",
       "      <td>90895</td>\n",
       "      <td>263579.54</td>\n",
       "      <td>172684.54</td>\n",
       "      <td>248509.83</td>\n",
       "      <td>157614.83</td>\n",
       "    </tr>\n",
       "    <tr>\n",
       "      <th>7</th>\n",
       "      <td>1</td>\n",
       "      <td>91002</td>\n",
       "      <td>131789.77</td>\n",
       "      <td>40787.77</td>\n",
       "      <td>184191.29</td>\n",
       "      <td>93189.29</td>\n",
       "    </tr>\n",
       "    <tr>\n",
       "      <th>8</th>\n",
       "      <td>2</td>\n",
       "      <td>94905</td>\n",
       "      <td>263579.54</td>\n",
       "      <td>168674.54</td>\n",
       "      <td>248509.83</td>\n",
       "      <td>153604.83</td>\n",
       "    </tr>\n",
       "    <tr>\n",
       "      <th>9</th>\n",
       "      <td>2</td>\n",
       "      <td>98937</td>\n",
       "      <td>263579.54</td>\n",
       "      <td>164642.54</td>\n",
       "      <td>248509.83</td>\n",
       "      <td>149572.83</td>\n",
       "    </tr>\n",
       "    <tr>\n",
       "      <th>10</th>\n",
       "      <td>2</td>\n",
       "      <td>100309</td>\n",
       "      <td>263579.54</td>\n",
       "      <td>163270.54</td>\n",
       "      <td>248509.83</td>\n",
       "      <td>148200.83</td>\n",
       "    </tr>\n",
       "    <tr>\n",
       "      <th>11</th>\n",
       "      <td>2</td>\n",
       "      <td>106250</td>\n",
       "      <td>263579.54</td>\n",
       "      <td>157329.54</td>\n",
       "      <td>248509.83</td>\n",
       "      <td>142259.83</td>\n",
       "    </tr>\n",
       "    <tr>\n",
       "      <th>12</th>\n",
       "      <td>1</td>\n",
       "      <td>106852</td>\n",
       "      <td>131789.77</td>\n",
       "      <td>24937.77</td>\n",
       "      <td>184191.29</td>\n",
       "      <td>77339.29</td>\n",
       "    </tr>\n",
       "    <tr>\n",
       "      <th>13</th>\n",
       "      <td>1</td>\n",
       "      <td>107502</td>\n",
       "      <td>131789.77</td>\n",
       "      <td>24287.77</td>\n",
       "      <td>184191.29</td>\n",
       "      <td>76689.29</td>\n",
       "    </tr>\n",
       "    <tr>\n",
       "      <th>14</th>\n",
       "      <td>2</td>\n",
       "      <td>108750</td>\n",
       "      <td>263579.54</td>\n",
       "      <td>154829.54</td>\n",
       "      <td>248509.83</td>\n",
       "      <td>139759.83</td>\n",
       "    </tr>\n",
       "    <tr>\n",
       "      <th>15</th>\n",
       "      <td>2</td>\n",
       "      <td>110700</td>\n",
       "      <td>263579.54</td>\n",
       "      <td>152879.54</td>\n",
       "      <td>248509.83</td>\n",
       "      <td>137809.83</td>\n",
       "    </tr>\n",
       "    <tr>\n",
       "      <th>16</th>\n",
       "      <td>1</td>\n",
       "      <td>113263</td>\n",
       "      <td>131789.77</td>\n",
       "      <td>18526.77</td>\n",
       "      <td>184191.29</td>\n",
       "      <td>70928.29</td>\n",
       "    </tr>\n",
       "    <tr>\n",
       "      <th>17</th>\n",
       "      <td>1</td>\n",
       "      <td>116250</td>\n",
       "      <td>131789.77</td>\n",
       "      <td>15539.77</td>\n",
       "      <td>184191.29</td>\n",
       "      <td>67941.29</td>\n",
       "    </tr>\n",
       "    <tr>\n",
       "      <th>18</th>\n",
       "      <td>1</td>\n",
       "      <td>120000</td>\n",
       "      <td>131789.77</td>\n",
       "      <td>11789.77</td>\n",
       "      <td>184191.29</td>\n",
       "      <td>64191.29</td>\n",
       "    </tr>\n",
       "    <tr>\n",
       "      <th>19</th>\n",
       "      <td>2</td>\n",
       "      <td>121630</td>\n",
       "      <td>263579.54</td>\n",
       "      <td>141949.54</td>\n",
       "      <td>248509.83</td>\n",
       "      <td>126879.83</td>\n",
       "    </tr>\n",
       "  </tbody>\n",
       "</table>\n",
       "</div>"
      ],
      "text/plain": [
       "    baths   price  mean_prediction  mean_residuals  linear_prediction  \\\n",
       "0       1   59222        131789.77        72567.77          184191.29   \n",
       "1       1   68212        131789.77        63577.77          184191.29   \n",
       "2       1   68880        131789.77        62909.77          184191.29   \n",
       "3       1   69307        131789.77        62482.77          184191.29   \n",
       "4       1   81900        131789.77        49889.77          184191.29   \n",
       "5       1   89921        131789.77        41868.77          184191.29   \n",
       "6       2   90895        263579.54       172684.54          248509.83   \n",
       "7       1   91002        131789.77        40787.77          184191.29   \n",
       "8       2   94905        263579.54       168674.54          248509.83   \n",
       "9       2   98937        263579.54       164642.54          248509.83   \n",
       "10      2  100309        263579.54       163270.54          248509.83   \n",
       "11      2  106250        263579.54       157329.54          248509.83   \n",
       "12      1  106852        131789.77        24937.77          184191.29   \n",
       "13      1  107502        131789.77        24287.77          184191.29   \n",
       "14      2  108750        263579.54       154829.54          248509.83   \n",
       "15      2  110700        263579.54       152879.54          248509.83   \n",
       "16      1  113263        131789.77        18526.77          184191.29   \n",
       "17      1  116250        131789.77        15539.77          184191.29   \n",
       "18      1  120000        131789.77        11789.77          184191.29   \n",
       "19      2  121630        263579.54       141949.54          248509.83   \n",
       "\n",
       "    linear_residuals  \n",
       "0          124969.29  \n",
       "1          115979.29  \n",
       "2          115311.29  \n",
       "3          114884.29  \n",
       "4          102291.29  \n",
       "5           94270.29  \n",
       "6          157614.83  \n",
       "7           93189.29  \n",
       "8          153604.83  \n",
       "9          149572.83  \n",
       "10         148200.83  \n",
       "11         142259.83  \n",
       "12          77339.29  \n",
       "13          76689.29  \n",
       "14         139759.83  \n",
       "15         137809.83  \n",
       "16          70928.29  \n",
       "17          67941.29  \n",
       "18          64191.29  \n",
       "19         126879.83  "
      ]
     },
     "execution_count": 31,
     "metadata": {},
     "output_type": "execute_result"
    }
   ],
   "source": [
    "# ANSWER\n",
    "bath_price.rename(columns={'residuals': 'mean_residuals'}, inplace=True)\n",
    "bath_price['linear_prediction'] = price_preds\n",
    "bath_price['linear_residuals'] = abs(bath_price['price'] - bath_price['linear_prediction'])\n",
    "\n",
    "bath_price.head(20)\n"
   ]
  },
  {
   "cell_type": "markdown",
   "metadata": {
    "id": "bpXEda_uXd4U"
   },
   "source": [
    "##### 2.7.E Find R-Square\n",
    "\n",
    "The coefficient $R^2$ is defined as $$ R^2 = 1 - \\frac{SS_{res}}{SS_{tot}} $$, where $$ SS_{res} $$ is the residual sum of squares $$ SS_{res} = \\sum_{i=1}^n \\left(y_i - \\hat{y}_i\\right)^2 $$ and $$ SS_{res} $$ is the total sum of squares $$ SS_{tot} = \\sum_{i=1}^n \\left(y_i - \\bar{y}\\right)^2 $$\n",
    "\n",
    "The best possible score is 1.0 and it can be negative (because the model can be arbitrarily worse).\n",
    "\n",
    "**Write a function to calculate R- Square value.**"
   ]
  },
  {
   "cell_type": "markdown",
   "metadata": {
    "id": "1RamI9LTXd4V"
   },
   "source": [
    "The total sum of squares:\n",
    "\n",
    "### $$ SS_{tot} = \\sum_{i=1}^n \\left(y_i - \\bar{y}\\right)^2 $$\n",
    "\n",
    "The residual sum of squares:\n",
    "\n",
    "### $$ SS_{res} = \\sum_{i=1}^n \\left(y_i - \\hat{y}_i\\right)^2 $$\n",
    "\n",
    "$R^2$:\n",
    "\n",
    "### $$ R^2 = 1 - \\frac{SS_{res}}{SS_{tot}} $$"
   ]
  },
  {
   "cell_type": "code",
   "execution_count": 34,
   "metadata": {
    "id": "vmxloC2RXd4W"
   },
   "outputs": [
    {
     "name": "stderr",
     "output_type": "stream",
     "text": [
      "C:\\Users\\Dinesh\\AppData\\Local\\Temp\\ipykernel_13384\\2834320098.py:9: SettingWithCopyWarning: \n",
      "A value is trying to be set on a copy of a slice from a DataFrame.\n",
      "Try using .loc[row_indexer,col_indexer] = value instead\n",
      "\n",
      "See the caveats in the documentation: https://pandas.pydata.org/pandas-docs/stable/user_guide/indexing.html#returning-a-view-versus-a-copy\n",
      "  bath_price['mean_r_sq'] = r_sq(Y, y_mean, bath_price['mean_prediction'])\n",
      "C:\\Users\\Dinesh\\AppData\\Local\\Temp\\ipykernel_13384\\2834320098.py:10: SettingWithCopyWarning: \n",
      "A value is trying to be set on a copy of a slice from a DataFrame.\n",
      "Try using .loc[row_indexer,col_indexer] = value instead\n",
      "\n",
      "See the caveats in the documentation: https://pandas.pydata.org/pandas-docs/stable/user_guide/indexing.html#returning-a-view-versus-a-copy\n",
      "  bath_price['linear_r_sq'] = r_sq(Y, y_mean, bath_price['linear_prediction'])\n"
     ]
    },
    {
     "data": {
      "text/html": [
       "<div>\n",
       "<style scoped>\n",
       "    .dataframe tbody tr th:only-of-type {\n",
       "        vertical-align: middle;\n",
       "    }\n",
       "\n",
       "    .dataframe tbody tr th {\n",
       "        vertical-align: top;\n",
       "    }\n",
       "\n",
       "    .dataframe thead th {\n",
       "        text-align: right;\n",
       "    }\n",
       "</style>\n",
       "<table border=\"1\" class=\"dataframe\">\n",
       "  <thead>\n",
       "    <tr style=\"text-align: right;\">\n",
       "      <th></th>\n",
       "      <th>baths</th>\n",
       "      <th>price</th>\n",
       "      <th>mean_prediction</th>\n",
       "      <th>mean_residuals</th>\n",
       "      <th>linear_prediction</th>\n",
       "      <th>linear_residuals</th>\n",
       "      <th>mean_r_sq</th>\n",
       "      <th>linear_r_sq</th>\n",
       "    </tr>\n",
       "  </thead>\n",
       "  <tbody>\n",
       "    <tr>\n",
       "      <th>0</th>\n",
       "      <td>1</td>\n",
       "      <td>59222</td>\n",
       "      <td>131789.77</td>\n",
       "      <td>72567.77</td>\n",
       "      <td>184191.29</td>\n",
       "      <td>124969.29</td>\n",
       "      <td>-0.547769</td>\n",
       "      <td>-0.130469</td>\n",
       "    </tr>\n",
       "    <tr>\n",
       "      <th>1</th>\n",
       "      <td>1</td>\n",
       "      <td>68212</td>\n",
       "      <td>131789.77</td>\n",
       "      <td>63577.77</td>\n",
       "      <td>184191.29</td>\n",
       "      <td>115979.29</td>\n",
       "      <td>-0.547769</td>\n",
       "      <td>-0.130469</td>\n",
       "    </tr>\n",
       "    <tr>\n",
       "      <th>2</th>\n",
       "      <td>1</td>\n",
       "      <td>68880</td>\n",
       "      <td>131789.77</td>\n",
       "      <td>62909.77</td>\n",
       "      <td>184191.29</td>\n",
       "      <td>115311.29</td>\n",
       "      <td>-0.547769</td>\n",
       "      <td>-0.130469</td>\n",
       "    </tr>\n",
       "    <tr>\n",
       "      <th>3</th>\n",
       "      <td>1</td>\n",
       "      <td>69307</td>\n",
       "      <td>131789.77</td>\n",
       "      <td>62482.77</td>\n",
       "      <td>184191.29</td>\n",
       "      <td>114884.29</td>\n",
       "      <td>-0.547769</td>\n",
       "      <td>-0.130469</td>\n",
       "    </tr>\n",
       "    <tr>\n",
       "      <th>4</th>\n",
       "      <td>1</td>\n",
       "      <td>81900</td>\n",
       "      <td>131789.77</td>\n",
       "      <td>49889.77</td>\n",
       "      <td>184191.29</td>\n",
       "      <td>102291.29</td>\n",
       "      <td>-0.547769</td>\n",
       "      <td>-0.130469</td>\n",
       "    </tr>\n",
       "    <tr>\n",
       "      <th>5</th>\n",
       "      <td>1</td>\n",
       "      <td>89921</td>\n",
       "      <td>131789.77</td>\n",
       "      <td>41868.77</td>\n",
       "      <td>184191.29</td>\n",
       "      <td>94270.29</td>\n",
       "      <td>-0.547769</td>\n",
       "      <td>-0.130469</td>\n",
       "    </tr>\n",
       "    <tr>\n",
       "      <th>6</th>\n",
       "      <td>2</td>\n",
       "      <td>90895</td>\n",
       "      <td>263579.54</td>\n",
       "      <td>172684.54</td>\n",
       "      <td>248509.83</td>\n",
       "      <td>157614.83</td>\n",
       "      <td>-0.045302</td>\n",
       "      <td>-0.010790</td>\n",
       "    </tr>\n",
       "    <tr>\n",
       "      <th>7</th>\n",
       "      <td>1</td>\n",
       "      <td>91002</td>\n",
       "      <td>131789.77</td>\n",
       "      <td>40787.77</td>\n",
       "      <td>184191.29</td>\n",
       "      <td>93189.29</td>\n",
       "      <td>-0.547769</td>\n",
       "      <td>-0.130469</td>\n",
       "    </tr>\n",
       "    <tr>\n",
       "      <th>8</th>\n",
       "      <td>2</td>\n",
       "      <td>94905</td>\n",
       "      <td>263579.54</td>\n",
       "      <td>168674.54</td>\n",
       "      <td>248509.83</td>\n",
       "      <td>153604.83</td>\n",
       "      <td>-0.045302</td>\n",
       "      <td>-0.010790</td>\n",
       "    </tr>\n",
       "    <tr>\n",
       "      <th>9</th>\n",
       "      <td>2</td>\n",
       "      <td>98937</td>\n",
       "      <td>263579.54</td>\n",
       "      <td>164642.54</td>\n",
       "      <td>248509.83</td>\n",
       "      <td>149572.83</td>\n",
       "      <td>-0.045302</td>\n",
       "      <td>-0.010790</td>\n",
       "    </tr>\n",
       "    <tr>\n",
       "      <th>10</th>\n",
       "      <td>2</td>\n",
       "      <td>100309</td>\n",
       "      <td>263579.54</td>\n",
       "      <td>163270.54</td>\n",
       "      <td>248509.83</td>\n",
       "      <td>148200.83</td>\n",
       "      <td>-0.045302</td>\n",
       "      <td>-0.010790</td>\n",
       "    </tr>\n",
       "    <tr>\n",
       "      <th>11</th>\n",
       "      <td>2</td>\n",
       "      <td>106250</td>\n",
       "      <td>263579.54</td>\n",
       "      <td>157329.54</td>\n",
       "      <td>248509.83</td>\n",
       "      <td>142259.83</td>\n",
       "      <td>-0.045302</td>\n",
       "      <td>-0.010790</td>\n",
       "    </tr>\n",
       "    <tr>\n",
       "      <th>12</th>\n",
       "      <td>1</td>\n",
       "      <td>106852</td>\n",
       "      <td>131789.77</td>\n",
       "      <td>24937.77</td>\n",
       "      <td>184191.29</td>\n",
       "      <td>77339.29</td>\n",
       "      <td>-0.547769</td>\n",
       "      <td>-0.130469</td>\n",
       "    </tr>\n",
       "    <tr>\n",
       "      <th>13</th>\n",
       "      <td>1</td>\n",
       "      <td>107502</td>\n",
       "      <td>131789.77</td>\n",
       "      <td>24287.77</td>\n",
       "      <td>184191.29</td>\n",
       "      <td>76689.29</td>\n",
       "      <td>-0.547769</td>\n",
       "      <td>-0.130469</td>\n",
       "    </tr>\n",
       "    <tr>\n",
       "      <th>14</th>\n",
       "      <td>2</td>\n",
       "      <td>108750</td>\n",
       "      <td>263579.54</td>\n",
       "      <td>154829.54</td>\n",
       "      <td>248509.83</td>\n",
       "      <td>139759.83</td>\n",
       "      <td>-0.045302</td>\n",
       "      <td>-0.010790</td>\n",
       "    </tr>\n",
       "    <tr>\n",
       "      <th>15</th>\n",
       "      <td>2</td>\n",
       "      <td>110700</td>\n",
       "      <td>263579.54</td>\n",
       "      <td>152879.54</td>\n",
       "      <td>248509.83</td>\n",
       "      <td>137809.83</td>\n",
       "      <td>-0.045302</td>\n",
       "      <td>-0.010790</td>\n",
       "    </tr>\n",
       "    <tr>\n",
       "      <th>16</th>\n",
       "      <td>1</td>\n",
       "      <td>113263</td>\n",
       "      <td>131789.77</td>\n",
       "      <td>18526.77</td>\n",
       "      <td>184191.29</td>\n",
       "      <td>70928.29</td>\n",
       "      <td>-0.547769</td>\n",
       "      <td>-0.130469</td>\n",
       "    </tr>\n",
       "    <tr>\n",
       "      <th>17</th>\n",
       "      <td>1</td>\n",
       "      <td>116250</td>\n",
       "      <td>131789.77</td>\n",
       "      <td>15539.77</td>\n",
       "      <td>184191.29</td>\n",
       "      <td>67941.29</td>\n",
       "      <td>-0.547769</td>\n",
       "      <td>-0.130469</td>\n",
       "    </tr>\n",
       "    <tr>\n",
       "      <th>18</th>\n",
       "      <td>1</td>\n",
       "      <td>120000</td>\n",
       "      <td>131789.77</td>\n",
       "      <td>11789.77</td>\n",
       "      <td>184191.29</td>\n",
       "      <td>64191.29</td>\n",
       "      <td>-0.547769</td>\n",
       "      <td>-0.130469</td>\n",
       "    </tr>\n",
       "    <tr>\n",
       "      <th>19</th>\n",
       "      <td>2</td>\n",
       "      <td>121630</td>\n",
       "      <td>263579.54</td>\n",
       "      <td>141949.54</td>\n",
       "      <td>248509.83</td>\n",
       "      <td>126879.83</td>\n",
       "      <td>-0.045302</td>\n",
       "      <td>-0.010790</td>\n",
       "    </tr>\n",
       "    <tr>\n",
       "      <th>20</th>\n",
       "      <td>2</td>\n",
       "      <td>122000</td>\n",
       "      <td>263579.54</td>\n",
       "      <td>141579.54</td>\n",
       "      <td>248509.83</td>\n",
       "      <td>126509.83</td>\n",
       "      <td>-0.045302</td>\n",
       "      <td>-0.010790</td>\n",
       "    </tr>\n",
       "    <tr>\n",
       "      <th>21</th>\n",
       "      <td>2</td>\n",
       "      <td>122682</td>\n",
       "      <td>263579.54</td>\n",
       "      <td>140897.54</td>\n",
       "      <td>248509.83</td>\n",
       "      <td>125827.83</td>\n",
       "      <td>-0.045302</td>\n",
       "      <td>-0.010790</td>\n",
       "    </tr>\n",
       "    <tr>\n",
       "      <th>22</th>\n",
       "      <td>2</td>\n",
       "      <td>123000</td>\n",
       "      <td>263579.54</td>\n",
       "      <td>140579.54</td>\n",
       "      <td>248509.83</td>\n",
       "      <td>125509.83</td>\n",
       "      <td>-0.045302</td>\n",
       "      <td>-0.010790</td>\n",
       "    </tr>\n",
       "    <tr>\n",
       "      <th>23</th>\n",
       "      <td>2</td>\n",
       "      <td>124100</td>\n",
       "      <td>263579.54</td>\n",
       "      <td>139479.54</td>\n",
       "      <td>248509.83</td>\n",
       "      <td>124409.83</td>\n",
       "      <td>-0.045302</td>\n",
       "      <td>-0.010790</td>\n",
       "    </tr>\n",
       "    <tr>\n",
       "      <th>24</th>\n",
       "      <td>2</td>\n",
       "      <td>125000</td>\n",
       "      <td>263579.54</td>\n",
       "      <td>138579.54</td>\n",
       "      <td>248509.83</td>\n",
       "      <td>123509.83</td>\n",
       "      <td>-0.045302</td>\n",
       "      <td>-0.010790</td>\n",
       "    </tr>\n",
       "    <tr>\n",
       "      <th>25</th>\n",
       "      <td>2</td>\n",
       "      <td>126640</td>\n",
       "      <td>263579.54</td>\n",
       "      <td>136939.54</td>\n",
       "      <td>248509.83</td>\n",
       "      <td>121869.83</td>\n",
       "      <td>-0.045302</td>\n",
       "      <td>-0.010790</td>\n",
       "    </tr>\n",
       "    <tr>\n",
       "      <th>26</th>\n",
       "      <td>1</td>\n",
       "      <td>127281</td>\n",
       "      <td>131789.77</td>\n",
       "      <td>4508.77</td>\n",
       "      <td>184191.29</td>\n",
       "      <td>56910.29</td>\n",
       "      <td>-0.547769</td>\n",
       "      <td>-0.130469</td>\n",
       "    </tr>\n",
       "    <tr>\n",
       "      <th>27</th>\n",
       "      <td>2</td>\n",
       "      <td>129000</td>\n",
       "      <td>263579.54</td>\n",
       "      <td>134579.54</td>\n",
       "      <td>248509.83</td>\n",
       "      <td>119509.83</td>\n",
       "      <td>-0.045302</td>\n",
       "      <td>-0.010790</td>\n",
       "    </tr>\n",
       "    <tr>\n",
       "      <th>28</th>\n",
       "      <td>2</td>\n",
       "      <td>131200</td>\n",
       "      <td>263579.54</td>\n",
       "      <td>132379.54</td>\n",
       "      <td>248509.83</td>\n",
       "      <td>117309.83</td>\n",
       "      <td>-0.045302</td>\n",
       "      <td>-0.010790</td>\n",
       "    </tr>\n",
       "    <tr>\n",
       "      <th>29</th>\n",
       "      <td>2</td>\n",
       "      <td>132000</td>\n",
       "      <td>263579.54</td>\n",
       "      <td>131579.54</td>\n",
       "      <td>248509.83</td>\n",
       "      <td>116509.83</td>\n",
       "      <td>-0.045302</td>\n",
       "      <td>-0.010790</td>\n",
       "    </tr>\n",
       "  </tbody>\n",
       "</table>\n",
       "</div>"
      ],
      "text/plain": [
       "    baths   price  mean_prediction  mean_residuals  linear_prediction  \\\n",
       "0       1   59222        131789.77        72567.77          184191.29   \n",
       "1       1   68212        131789.77        63577.77          184191.29   \n",
       "2       1   68880        131789.77        62909.77          184191.29   \n",
       "3       1   69307        131789.77        62482.77          184191.29   \n",
       "4       1   81900        131789.77        49889.77          184191.29   \n",
       "5       1   89921        131789.77        41868.77          184191.29   \n",
       "6       2   90895        263579.54       172684.54          248509.83   \n",
       "7       1   91002        131789.77        40787.77          184191.29   \n",
       "8       2   94905        263579.54       168674.54          248509.83   \n",
       "9       2   98937        263579.54       164642.54          248509.83   \n",
       "10      2  100309        263579.54       163270.54          248509.83   \n",
       "11      2  106250        263579.54       157329.54          248509.83   \n",
       "12      1  106852        131789.77        24937.77          184191.29   \n",
       "13      1  107502        131789.77        24287.77          184191.29   \n",
       "14      2  108750        263579.54       154829.54          248509.83   \n",
       "15      2  110700        263579.54       152879.54          248509.83   \n",
       "16      1  113263        131789.77        18526.77          184191.29   \n",
       "17      1  116250        131789.77        15539.77          184191.29   \n",
       "18      1  120000        131789.77        11789.77          184191.29   \n",
       "19      2  121630        263579.54       141949.54          248509.83   \n",
       "20      2  122000        263579.54       141579.54          248509.83   \n",
       "21      2  122682        263579.54       140897.54          248509.83   \n",
       "22      2  123000        263579.54       140579.54          248509.83   \n",
       "23      2  124100        263579.54       139479.54          248509.83   \n",
       "24      2  125000        263579.54       138579.54          248509.83   \n",
       "25      2  126640        263579.54       136939.54          248509.83   \n",
       "26      1  127281        131789.77         4508.77          184191.29   \n",
       "27      2  129000        263579.54       134579.54          248509.83   \n",
       "28      2  131200        263579.54       132379.54          248509.83   \n",
       "29      2  132000        263579.54       131579.54          248509.83   \n",
       "\n",
       "    linear_residuals  mean_r_sq  linear_r_sq  \n",
       "0          124969.29  -0.547769    -0.130469  \n",
       "1          115979.29  -0.547769    -0.130469  \n",
       "2          115311.29  -0.547769    -0.130469  \n",
       "3          114884.29  -0.547769    -0.130469  \n",
       "4          102291.29  -0.547769    -0.130469  \n",
       "5           94270.29  -0.547769    -0.130469  \n",
       "6          157614.83  -0.045302    -0.010790  \n",
       "7           93189.29  -0.547769    -0.130469  \n",
       "8          153604.83  -0.045302    -0.010790  \n",
       "9          149572.83  -0.045302    -0.010790  \n",
       "10         148200.83  -0.045302    -0.010790  \n",
       "11         142259.83  -0.045302    -0.010790  \n",
       "12          77339.29  -0.547769    -0.130469  \n",
       "13          76689.29  -0.547769    -0.130469  \n",
       "14         139759.83  -0.045302    -0.010790  \n",
       "15         137809.83  -0.045302    -0.010790  \n",
       "16          70928.29  -0.547769    -0.130469  \n",
       "17          67941.29  -0.547769    -0.130469  \n",
       "18          64191.29  -0.547769    -0.130469  \n",
       "19         126879.83  -0.045302    -0.010790  \n",
       "20         126509.83  -0.045302    -0.010790  \n",
       "21         125827.83  -0.045302    -0.010790  \n",
       "22         125509.83  -0.045302    -0.010790  \n",
       "23         124409.83  -0.045302    -0.010790  \n",
       "24         123509.83  -0.045302    -0.010790  \n",
       "25         121869.83  -0.045302    -0.010790  \n",
       "26          56910.29  -0.547769    -0.130469  \n",
       "27         119509.83  -0.045302    -0.010790  \n",
       "28         117309.83  -0.045302    -0.010790  \n",
       "29         116509.83  -0.045302    -0.010790  "
      ]
     },
     "execution_count": 34,
     "metadata": {},
     "output_type": "execute_result"
    }
   ],
   "source": [
    "# ANSWER\n",
    "\n",
    "def r_sq(Y, y_mean, y_pred):\n",
    "    ss_tot = sum((y - y_mean) ** 2 for y in Y)\n",
    "    ss_res = sum((y - y_pred) ** 2 for y in Y)\n",
    "    r2 = 1 - (ss_res / ss_tot)\n",
    "    return r2\n",
    "\n",
    "bath_price['mean_r_sq'] = r_sq(Y, y_mean, bath_price['mean_prediction'])\n",
    "bath_price['linear_r_sq'] = r_sq(Y, y_mean, bath_price['linear_prediction'])\n",
    "bath_price.head(30)"
   ]
  },
  {
   "cell_type": "markdown",
   "metadata": {
    "id": "7xV-CEKcXd4a"
   },
   "source": [
    "##### 2.7.F [BONUS] Draw Plot of Predicted Line"
   ]
  },
  {
   "cell_type": "code",
   "execution_count": 41,
   "metadata": {
    "id": "P4JKmHWSXd4a"
   },
   "outputs": [
    {
     "data": {
      "image/png": "[encoded data removed]",
      "text/plain": [
       "<Figure size 1500x600 with 1 Axes>"
      ]
     },
     "metadata": {},
     "output_type": "display_data"
    }
   ],
   "source": [
    "# ANSWER\n",
    "\n",
    "plt.figure(figsize=(15, 6))\n",
    "plt.plot(bath_price.index, bath_price['linear_prediction'])\n",
    "plt.xlabel('Houses')\n",
    "plt.ylabel('Linear Price Predictions')\n",
    "plt.title('Housing Price Predictions')\n",
    "\n",
    "plt.show()"
   ]
  },
  {
   "cell_type": "markdown",
   "metadata": {
    "id": "oE45Z1qaXd4f"
   },
   "source": [
    "##### 2.7.G [BONUS] Draw Plot of Predicted Line With Residuals"
   ]
  },
  {
   "cell_type": "code",
   "execution_count": 42,
   "metadata": {
    "id": "yBLDh6cAXd4g"
   },
   "outputs": [
    {
     "data": {
      "image/png": "[encoded data removed]",
      "text/plain": [
       "<Figure size 1500x600 with 1 Axes>"
      ]
     },
     "metadata": {},
     "output_type": "display_data"
    }
   ],
   "source": [
    "# ANSWER\n",
    "y_vals = bath_price['linear_prediction'] + bath_price['linear_residuals']\n",
    "plt.figure(figsize=(15, 6))\n",
    "plt.plot(bath_price.index, y_vals)\n",
    "plt.xlabel('Houses')\n",
    "plt.ylabel('Linear Price Predictions + Residuals')\n",
    "plt.title('Housing Price Predictions with Residuals')\n",
    "\n",
    "plt.show()"
   ]
  },
  {
   "cell_type": "markdown",
   "metadata": {
    "id": "NTjW6xxFXd4i"
   },
   "source": [
    "### 3. Predict House Price\n",
    "\n",
    "Let's assume we have information of following house:\n",
    "\n",
    "- street:\t1140 EDMONTON DR\n",
    "- city:\tSACRAMENTO\n",
    "- zip:\t95833\n",
    "- state:\tCA\n",
    "- beds:\t3\n",
    "- baths:\t2\n",
    "- sq__ft:\t1204\n",
    "- type:\tResidential\n",
    "\n",
    "**Predict the price of this house.**"
   ]
  },
  {
   "cell_type": "code",
   "execution_count": 46,
   "metadata": {
    "id": "mz5Lx5jGXd4j"
   },
   "outputs": [
    {
     "name": "stdout",
     "output_type": "stream",
     "text": [
      "$312828.36\n"
     ]
    }
   ],
   "source": [
    "# ANSWER\n",
    "\n",
    "single_house_price_pred = beta0 + (beta1 * 3)\n",
    "print(\"$\"+str(single_house_price_pred.round(2)))"
   ]
  },
  {
   "cell_type": "markdown",
   "metadata": {
    "id": "W0FUjKlcl-NJ"
   },
   "source": [
    "\n",
    "\n",
    "---\n",
    "\n",
    "\n",
    "\n",
    "---\n",
    "\n",
    "\n",
    "\n",
    "> > > > > > > > > © 2023 Institute of Data\n",
    "\n",
    "\n",
    "---\n",
    "\n",
    "\n",
    "\n",
    "---\n",
    "\n",
    "\n",
    "\n"
   ]
  }
 ],
 "metadata": {
  "colab": {
   "provenance": []
  },
  "kernelspec": {
   "display_name": "Python 3 (ipykernel)",
   "language": "python",
   "name": "python3"
  },
  "language_info": {
   "codemirror_mode": {
    "name": "ipython",
    "version": 3
   },
   "file_extension": ".py",
   "mimetype": "text/x-python",
   "name": "python",
   "nbconvert_exporter": "python",
   "pygments_lexer": "ipython3",
   "version": "3.11.5"
  }
 },
 "nbformat": 4,
 "nbformat_minor": 4
}
